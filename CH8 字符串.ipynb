{
 "cells": [
  {
   "cell_type": "markdown",
   "metadata": {},
   "source": [
    "## 第八章 字符串"
   ]
  },
  {
   "cell_type": "markdown",
   "metadata": {},
   "source": [
    "字符串不像整数、浮点数和布尔型。字符串是一个*序列* (sequence) ，这就意味着它是其他值的一个有序的集合。在这章中，你将学习怎么去访问字符串里的字符，同时你也会学习到字符串提供的一些方法。"
   ]
  },
  {
   "cell_type": "markdown",
   "metadata": {},
   "source": [
    "## 8.1 字符串是一个序列"
   ]
  },
  {
   "cell_type": "markdown",
   "metadata": {},
   "source": [
    "字符串是由字符组成的序列。你可以用括号运算符一次访问一个字符："
   ]
  },
  {
   "cell_type": "code",
   "execution_count": 3,
   "metadata": {},
   "outputs": [],
   "source": [
    "fruit = 'banana'\n",
    "letter = fruit[1]"
   ]
  },
  {
   "cell_type": "markdown",
   "metadata": {},
   "source": [
    "第 2 条语句从 `fruit` 中选择索引为 1 的字符并将它赋给 `letter` 。\n",
    "\n",
    "括号中的表达式被称作*索引* (index)。索引指出在序列中你想要哪个字符 (因此而得名)。\n",
    "\n",
    "但可能得到的不像你期望那样："
   ]
  },
  {
   "cell_type": "code",
   "execution_count": 5,
   "metadata": {},
   "outputs": [
    {
     "data": {
      "text/plain": [
       "'a'"
      ]
     },
     "execution_count": 5,
     "metadata": {},
     "output_type": "execute_result"
    }
   ],
   "source": [
    "letter"
   ]
  },
  {
   "cell_type": "markdown",
   "metadata": {},
   "source": [
    "对大多数人来说，`'banana' `的第一个字母是 `b` 而不是 `a`。但是对于计算机科学家，索引是从字符串起点开始的位移量1 ，第一个字母的位移量就是 0。"
   ]
  },
  {
   "cell_type": "code",
   "execution_count": 7,
   "metadata": {},
   "outputs": [
    {
     "data": {
      "text/plain": [
       "'b'"
      ]
     },
     "execution_count": 7,
     "metadata": {},
     "output_type": "execute_result"
    }
   ],
   "source": [
    "letter = fruit[0]\n",
    "letter"
   ]
  },
  {
   "cell_type": "markdown",
   "metadata": {},
   "source": [
    "所以 `b `是 `'banana'` 的第 0 个字母，`a` 是第一个字母，`n` 是第二个字母。\n",
    "你可以使用一个包含变量名和运算符的表达式作为索引："
   ]
  },
  {
   "cell_type": "code",
   "execution_count": 12,
   "metadata": {},
   "outputs": [
    {
     "name": "stdout",
     "output_type": "stream",
     "text": [
      "a\n",
      "n\n"
     ]
    }
   ],
   "source": [
    "i = 1\n",
    "print(fruit[i])\n",
    "print(fruit[i+1])"
   ]
  },
  {
   "cell_type": "markdown",
   "metadata": {},
   "source": [
    "索引值必须使用整数。否则你会得到错误信息："
   ]
  },
  {
   "cell_type": "code",
   "execution_count": 15,
   "metadata": {},
   "outputs": [
    {
     "ename": "TypeError",
     "evalue": "string indices must be integers",
     "output_type": "error",
     "traceback": [
      "\u001b[1;31m---------------------------------------------------------------------------\u001b[0m",
      "\u001b[1;31mTypeError\u001b[0m                                 Traceback (most recent call last)",
      "\u001b[1;32m<ipython-input-15-bb89ba6efbbd>\u001b[0m in \u001b[0;36m<module>\u001b[1;34m()\u001b[0m\n\u001b[1;32m----> 1\u001b[1;33m \u001b[0mletter\u001b[0m \u001b[1;33m=\u001b[0m \u001b[0mfruit\u001b[0m\u001b[1;33m[\u001b[0m\u001b[1;36m1.5\u001b[0m\u001b[1;33m]\u001b[0m\u001b[1;33m\u001b[0m\u001b[0m\n\u001b[0m",
      "\u001b[1;31mTypeError\u001b[0m: string indices must be integers"
     ]
    }
   ],
   "source": [
    "letter = fruit[1.5]"
   ]
  },
  {
   "cell_type": "markdown",
   "metadata": {},
   "source": [
    "## 8.2 len"
   ]
  },
  {
   "cell_type": "markdown",
   "metadata": {},
   "source": [
    "`len` 是一个内建函数，它返回字符串中的字符的数量："
   ]
  },
  {
   "cell_type": "code",
   "execution_count": 18,
   "metadata": {},
   "outputs": [
    {
     "data": {
      "text/plain": [
       "6"
      ]
     },
     "execution_count": 18,
     "metadata": {},
     "output_type": "execute_result"
    }
   ],
   "source": [
    "fruit = 'banana'\n",
    "len(fruit)"
   ]
  },
  {
   "cell_type": "markdown",
   "metadata": {},
   "source": [
    "为了获得某个字符串中最后一个字符，你可以尝试这样操作："
   ]
  },
  {
   "cell_type": "code",
   "execution_count": 20,
   "metadata": {},
   "outputs": [
    {
     "ename": "IndexError",
     "evalue": "string index out of range",
     "output_type": "error",
     "traceback": [
      "\u001b[1;31m---------------------------------------------------------------------------\u001b[0m",
      "\u001b[1;31mIndexError\u001b[0m                                Traceback (most recent call last)",
      "\u001b[1;32m<ipython-input-20-4dd85e09c2d1>\u001b[0m in \u001b[0;36m<module>\u001b[1;34m()\u001b[0m\n\u001b[0;32m      1\u001b[0m \u001b[0mlength\u001b[0m \u001b[1;33m=\u001b[0m \u001b[0mlen\u001b[0m\u001b[1;33m(\u001b[0m\u001b[0mfruit\u001b[0m\u001b[1;33m)\u001b[0m\u001b[1;33m\u001b[0m\u001b[0m\n\u001b[1;32m----> 2\u001b[1;33m \u001b[0mlast\u001b[0m \u001b[1;33m=\u001b[0m \u001b[0mfruit\u001b[0m\u001b[1;33m[\u001b[0m\u001b[0mlength\u001b[0m\u001b[1;33m]\u001b[0m\u001b[1;33m\u001b[0m\u001b[0m\n\u001b[0m",
      "\u001b[1;31mIndexError\u001b[0m: string index out of range"
     ]
    }
   ],
   "source": [
    "length = len(fruit)\n",
    "last = fruit[length]"
   ]
  },
  {
   "cell_type": "markdown",
   "metadata": {},
   "source": [
    "出现 `IndexError` 的原因在于 `'banana'` 中没有索引值为 6 的字母。由于我们从 0 开始计数，六个字母的编号是从 0 到 5 。为了获得最后一个字符，你必须将length 减去一："
   ]
  },
  {
   "cell_type": "code",
   "execution_count": 22,
   "metadata": {},
   "outputs": [
    {
     "data": {
      "text/plain": [
       "'a'"
      ]
     },
     "execution_count": 22,
     "metadata": {},
     "output_type": "execute_result"
    }
   ],
   "source": [
    "last = fruit[length - 1]\n",
    "last"
   ]
  },
  {
   "cell_type": "markdown",
   "metadata": {},
   "source": [
    "你也可以使用负数索引，即从字符串的末尾倒着往前数。表达式 `fruit[−1]` 返回的是最后一个字母，`fruit[−2]` 返回倒数第二个字母，以此类推。"
   ]
  },
  {
   "cell_type": "markdown",
   "metadata": {},
   "source": [
    "## 8.3 使用for循环遍历"
   ]
  },
  {
   "cell_type": "markdown",
   "metadata": {},
   "source": [
    "许多计算中需要一个字符一个字符地处理字符串。通常计算从字符串的头部开始，依次选择每个字符，对其做一些处理，然后继续直到结束。这种处理模式被称作遍历 (traversal) 。编写遍历的方法之一是使用 `while` 循环："
   ]
  },
  {
   "cell_type": "code",
   "execution_count": 26,
   "metadata": {},
   "outputs": [
    {
     "name": "stdout",
     "output_type": "stream",
     "text": [
      "b\n",
      "a\n",
      "n\n",
      "a\n",
      "n\n",
      "a\n"
     ]
    }
   ],
   "source": [
    "index = 0\n",
    "while index < len(fruit):\n",
    "    letter = fruit[index]\n",
    "    print(letter)\n",
    "    index = index + 1"
   ]
  },
  {
   "cell_type": "markdown",
   "metadata": {},
   "source": [
    "该循环遍历字符串并在每行显示一个字符串。该循环的条件是 `index < len(fruit)`，所以当 `index` 和字符串的长度相等时，条件为假，循环体不被执行。被访问的最后一个字符的索引为 `len(fruit)−1`，这也是字符串的最后一个字符。\n",
    "\n",
    "我们做个练习，编写一个函数，接受一个字符串作为实参，按照从后向前的顺序显示字符，每行只显示一个。\n",
    "\n",
    "编写遍历的另一种方法是使用 `for` 循环："
   ]
  },
  {
   "cell_type": "code",
   "execution_count": 27,
   "metadata": {},
   "outputs": [
    {
     "name": "stdout",
     "output_type": "stream",
     "text": [
      "b\n",
      "a\n",
      "n\n",
      "a\n",
      "n\n",
      "a\n"
     ]
    }
   ],
   "source": [
    "for letter in fruit:\n",
    "    print(letter)"
   ]
  },
  {
   "cell_type": "markdown",
   "metadata": {},
   "source": [
    "每次循环时，字符串中的下一个字符被赋值给变量 `letter` 。循环继续，直到没有剩余的字符串了。\n",
    "\n",
    "下面的例子演示了如何使用拼接 (字符串相加) 和 `for` 循环生成一个字母表序列 (即按照字母表顺序排列)。在 Robert McCloskey 的书《Make Way for Ducklings》中，小鸭子的名字是 Jack、Kack、Lack、Mack、Nack、Ouack、Pack 和 Quack。此循环按顺序输出这些名字："
   ]
  },
  {
   "cell_type": "code",
   "execution_count": 31,
   "metadata": {},
   "outputs": [
    {
     "name": "stdout",
     "output_type": "stream",
     "text": [
      "Jack\n",
      "Kack\n",
      "Lack\n",
      "Mack\n",
      "Nack\n",
      "Oack\n",
      "Pack\n",
      "Qack\n"
     ]
    }
   ],
   "source": [
    "prefixes = 'JKLMNOPQ'\n",
    "suffix = 'ack'\n",
    "\n",
    "for letter in prefixes:\n",
    "    print(letter + suffix)"
   ]
  },
  {
   "cell_type": "markdown",
   "metadata": {},
   "source": [
    "当然，输出并不完全正确，因为 “Ouack” 和 “Quack” 拼写错了。我们做个练习，修改这个程序，解决这个问题。"
   ]
  },
  {
   "cell_type": "code",
   "execution_count": 32,
   "metadata": {},
   "outputs": [
    {
     "name": "stdout",
     "output_type": "stream",
     "text": [
      "Jack\n",
      "Kack\n",
      "Lack\n",
      "Mack\n",
      "Nack\n",
      "Ouack\n",
      "Pack\n",
      "Quack\n"
     ]
    }
   ],
   "source": [
    "prefixes = ['J','K','L','M','N','Ou','P','Qu']\n",
    "suffix = 'ack'\n",
    "\n",
    "for letter in prefixes:\n",
    "    print(letter + suffix)"
   ]
  },
  {
   "cell_type": "markdown",
   "metadata": {},
   "source": [
    "## 8.4 字符串切片"
   ]
  },
  {
   "cell_type": "markdown",
   "metadata": {},
   "source": [
    "字符串的一个片段被称作*切片* (slice)。选择一个切片的操作类似于选择一个字符："
   ]
  },
  {
   "cell_type": "code",
   "execution_count": 34,
   "metadata": {},
   "outputs": [
    {
     "name": "stdout",
     "output_type": "stream",
     "text": [
      "Monty\n",
      "Python\n"
     ]
    }
   ],
   "source": [
    "s = 'Monty Python'\n",
    "print(s[0:5])\n",
    "print(s[6:12])"
   ]
  },
  {
   "attachments": {
    "image.png": {
     "image/png": "[encoded data removed]"
    }
   },
   "cell_type": "markdown",
   "metadata": {},
   "source": [
    "操作符 `[n:m]` 返回从第 `n` 个字符到第 `m` 个字符的字符串片段，包括第一个，但是不包括最后一个。这个行为违反直觉，但是将指向两个字符之间的索引，想象成图 8.1 中那样或许有帮助。\n",
    "![image.png](attachment:image.png)\n",
    "\n",
    "如果你省略第一个索引 (冒号前面的值)，切片起始于字符串头部。如果你省略第二个索引，切片一直到字符串结尾："
   ]
  },
  {
   "cell_type": "code",
   "execution_count": 35,
   "metadata": {},
   "outputs": [
    {
     "name": "stdout",
     "output_type": "stream",
     "text": [
      "ban\n",
      "ana\n"
     ]
    }
   ],
   "source": [
    "fruit = 'banana'\n",
    "print(fruit[:3])\n",
    "print(fruit[3:])"
   ]
  },
  {
   "cell_type": "markdown",
   "metadata": {},
   "source": [
    "如果第一个索引大于或等于第二个，结果是空字符串3 ，用两个引号表："
   ]
  },
  {
   "cell_type": "code",
   "execution_count": 36,
   "metadata": {},
   "outputs": [
    {
     "data": {
      "text/plain": [
       "''"
      ]
     },
     "execution_count": 36,
     "metadata": {},
     "output_type": "execute_result"
    }
   ],
   "source": [
    "fruit[3:3]"
   ]
  },
  {
   "cell_type": "markdown",
   "metadata": {},
   "source": [
    "一个空字符串不包括字符而且长度为 0，但除此之外，它和其它任何字符串一样。"
   ]
  },
  {
   "cell_type": "markdown",
   "metadata": {},
   "source": [
    "## 8.5 字符串是不可变的"
   ]
  },
  {
   "cell_type": "markdown",
   "metadata": {},
   "source": [
    "你会很想在赋值语句的左边使用 `[]`，来改变字符串的一个字符。例如："
   ]
  },
  {
   "cell_type": "code",
   "execution_count": 38,
   "metadata": {},
   "outputs": [
    {
     "ename": "TypeError",
     "evalue": "'str' object does not support item assignment",
     "output_type": "error",
     "traceback": [
      "\u001b[1;31m---------------------------------------------------------------------------\u001b[0m",
      "\u001b[1;31mTypeError\u001b[0m                                 Traceback (most recent call last)",
      "\u001b[1;32m<ipython-input-38-217c78420f62>\u001b[0m in \u001b[0;36m<module>\u001b[1;34m()\u001b[0m\n\u001b[0;32m      1\u001b[0m \u001b[0mgreeting\u001b[0m \u001b[1;33m=\u001b[0m \u001b[1;34m'Hello, world!'\u001b[0m\u001b[1;33m\u001b[0m\u001b[0m\n\u001b[1;32m----> 2\u001b[1;33m \u001b[0mgreeting\u001b[0m\u001b[1;33m[\u001b[0m\u001b[1;36m0\u001b[0m\u001b[1;33m]\u001b[0m \u001b[1;33m=\u001b[0m \u001b[1;34m'J'\u001b[0m\u001b[1;33m\u001b[0m\u001b[0m\n\u001b[0m",
      "\u001b[1;31mTypeError\u001b[0m: 'str' object does not support item assignment"
     ]
    }
   ],
   "source": [
    "greeting = 'Hello, world!'\n",
    "greeting[0] = 'J'"
   ]
  },
  {
   "cell_type": "markdown",
   "metadata": {},
   "source": [
    "错误信息中的 “object (对象)” 是那个字符串，“item (元素)’’ 是你要赋值的字符。目前，我们认为对象和值是同样的东西，但是我们后面将改进此定义 (详见 10.10 节)。\n",
    "\n",
    "出现此错误的原因是字符串是**不可变**的，这意味着你不能改变一个已存在的字符串。你最多只能创建一个新的字符串，在原有字符串的基础上略有变化。"
   ]
  },
  {
   "cell_type": "code",
   "execution_count": 40,
   "metadata": {},
   "outputs": [
    {
     "data": {
      "text/plain": [
       "'Jello, world!'"
      ]
     },
     "execution_count": 40,
     "metadata": {},
     "output_type": "execute_result"
    }
   ],
   "source": [
    "greeting = 'Hello, world!'\n",
    "new_greeting = 'J' + greeting[1:]\n",
    "new_greeting"
   ]
  },
  {
   "cell_type": "markdown",
   "metadata": {},
   "source": [
    "上面的示例中，我们将一个新的首字母拼接到 greeting 的一个切片上。它不影响原字符串。"
   ]
  },
  {
   "cell_type": "markdown",
   "metadata": {},
   "source": [
    "## 8.6 搜索"
   ]
  },
  {
   "cell_type": "markdown",
   "metadata": {},
   "source": [
    "下面的函数起什么作用？"
   ]
  },
  {
   "cell_type": "code",
   "execution_count": 43,
   "metadata": {},
   "outputs": [],
   "source": [
    "def find(word, letter):\n",
    "    index = 0\n",
    "    while index < len(word):\n",
    "        if word[index] == letter:\n",
    "            return index\n",
    "        index = index + 1\n",
    "    return -1"
   ]
  },
  {
   "cell_type": "markdown",
   "metadata": {},
   "source": [
    "在某种意义上，`find` 和 `[]` 运算符相反。与接受一个索引并提取相应的字符不同，它接受一个字符并找到该字符所在的索引。如果没有找到该字符，函数返回 `−1`。\n",
    "\n",
    "这是我们第一次在循环内部看见 `return` 语句。如果 `word[index] == letter`，函数停止循环并马上返回。\n",
    "\n",
    "如果字符没出现在字符串中，那么程序正常退出循环并返回 `−1`。\n",
    "\n",
    "这种计算模式——遍历一个序列并在找到寻找的东西时返回——被称作*搜索* (search)。\n",
    "\n",
    "我们做个练习修改 `find` 函数使得它能接受第三个参数即从何处开始搜索的索引。"
   ]
  },
  {
   "cell_type": "code",
   "execution_count": 45,
   "metadata": {},
   "outputs": [],
   "source": [
    "def find(word, letter, n):\n",
    "    index = n\n",
    "    if n > len(word):\n",
    "        return -1\n",
    "    \n",
    "    while index < len(word):\n",
    "        if word[index] == letter:\n",
    "            return index\n",
    "        index = index + 1\n",
    "    return -1"
   ]
  },
  {
   "cell_type": "markdown",
   "metadata": {},
   "source": [
    "## 8.7 循环和计数"
   ]
  },
  {
   "cell_type": "markdown",
   "metadata": {},
   "source": [
    "下面的程序计算字母 a 在字符串中出现的次数："
   ]
  },
  {
   "cell_type": "code",
   "execution_count": 47,
   "metadata": {},
   "outputs": [
    {
     "name": "stdout",
     "output_type": "stream",
     "text": [
      "3\n"
     ]
    }
   ],
   "source": [
    "word = 'banana'\n",
    "count = 0\n",
    "for letter in word:\n",
    "    if letter == 'a':\n",
    "        count = count + 1\n",
    "print(count)"
   ]
  },
  {
   "cell_type": "markdown",
   "metadata": {},
   "source": [
    "此程序演示了另一种被称作*计数器* (counter) 的计算模式。变量 `count` 初始化为` 0` ，然后每次出现 `a `时递增。当循环结束时，`count` 包含了字母 `a` 出现的总次数。\n",
    "\n",
    "我们做一个练习，将这段代码封装在一个名为 `count` 的函数中，并泛化该函数，使其接受字符串和字母作为实参。\n",
    "\n",
    "然后重写这个函数，不再使用字符串遍历，而是使用上一节中三参数版本的 find 函数。"
   ]
  },
  {
   "cell_type": "code",
   "execution_count": 85,
   "metadata": {},
   "outputs": [],
   "source": [
    "def count(word):\n",
    "    count = 0\n",
    "    for i in range(len(word)):\n",
    "        if word[i] == 'a':\n",
    "            count = count + 1\n",
    "    return count\n",
    "\n",
    "def count_by_find(word):\n",
    "    count = 0\n",
    "    loc = 0\n",
    "    while loc != -1:\n",
    "        loc = find(word, 'a', loc+1)\n",
    "        if loc != -1:\n",
    "            count = count + 1\n",
    "    return count"
   ]
  },
  {
   "cell_type": "code",
   "execution_count": 86,
   "metadata": {},
   "outputs": [
    {
     "data": {
      "text/plain": [
       "2"
      ]
     },
     "execution_count": 86,
     "metadata": {},
     "output_type": "execute_result"
    }
   ],
   "source": [
    "count('What a wonderful world')"
   ]
  },
  {
   "cell_type": "code",
   "execution_count": 87,
   "metadata": {},
   "outputs": [
    {
     "data": {
      "text/plain": [
       "2"
      ]
     },
     "execution_count": 87,
     "metadata": {},
     "output_type": "execute_result"
    }
   ],
   "source": [
    "count_by_find('What a wonderful world')"
   ]
  },
  {
   "cell_type": "markdown",
   "metadata": {},
   "source": [
    "## 8.8 字符串方法"
   ]
  },
  {
   "cell_type": "markdown",
   "metadata": {},
   "source": [
    "字符串提供了可执行多种有用操作的*方法* (method) 。方法和函数类似，接受实参并返回一个值，但是语法不同。例如，`upper` 方法接受一个字符串，并返回一个都是大写字母的新字符串。\n",
    "\n",
    "不过使用的不是函数语法 `upper(word)` ，而是方法的语法 `word.upper()`。"
   ]
  },
  {
   "cell_type": "code",
   "execution_count": 89,
   "metadata": {},
   "outputs": [
    {
     "data": {
      "text/plain": [
       "'BANANA'"
      ]
     },
     "execution_count": 89,
     "metadata": {},
     "output_type": "execute_result"
    }
   ],
   "source": [
    "world = 'banana'\n",
    "new_word = word.upper()\n",
    "new_word"
   ]
  },
  {
   "cell_type": "markdown",
   "metadata": {},
   "source": [
    "点标记法的形式指出方法的名字，`upper`，以及应用该方法的字符串的名字，`word`。空括号表明该方法不接受实参。\n",
    "\n",
    "这被称作方法*调用* (invocation)；此例中，我们可以说是在 `word` 上调用 `upper` 。\n",
    "\n",
    "事实上，有一个被称为 `find` 的字符串方法，与我们之前写的函数极其相似。"
   ]
  },
  {
   "cell_type": "code",
   "execution_count": 117,
   "metadata": {},
   "outputs": [
    {
     "data": {
      "text/plain": [
       "1"
      ]
     },
     "execution_count": 117,
     "metadata": {},
     "output_type": "execute_result"
    }
   ],
   "source": [
    "word = 'banana'\n",
    "index = word.find('a')\n",
    "index"
   ]
  },
  {
   "cell_type": "markdown",
   "metadata": {},
   "source": [
    "此例中，我们在 `word` 上调用 `find` ，并将我们要找的字母作为参数传入。\n",
    "\n",
    "事实上，`find `方法比我们的函数更通用；它还可以查找子字符串，而不仅仅是字符："
   ]
  },
  {
   "cell_type": "code",
   "execution_count": 118,
   "metadata": {},
   "outputs": [
    {
     "data": {
      "text/plain": [
       "2"
      ]
     },
     "execution_count": 118,
     "metadata": {},
     "output_type": "execute_result"
    }
   ],
   "source": [
    "word.find('na')"
   ]
  },
  {
   "cell_type": "markdown",
   "metadata": {},
   "source": [
    "`find` 默认从字符串的首字母开始查找，它还可以接受第二个实参，即从何处开始的索引。"
   ]
  },
  {
   "cell_type": "code",
   "execution_count": 119,
   "metadata": {},
   "outputs": [
    {
     "data": {
      "text/plain": [
       "4"
      ]
     },
     "execution_count": 119,
     "metadata": {},
     "output_type": "execute_result"
    }
   ],
   "source": [
    "word.find('na', 3)"
   ]
  },
  {
   "cell_type": "markdown",
   "metadata": {},
   "source": [
    "这是一个*可选参数*(optional argument) 的例子；`find` 也可以接受结束查找的索引作为第三个实参："
   ]
  },
  {
   "cell_type": "code",
   "execution_count": 120,
   "metadata": {},
   "outputs": [
    {
     "data": {
      "text/plain": [
       "-1"
      ]
     },
     "execution_count": 120,
     "metadata": {},
     "output_type": "execute_result"
    }
   ],
   "source": [
    "name = 'bob'\n",
    "name.find('b', 1, 2)"
   ]
  },
  {
   "cell_type": "markdown",
   "metadata": {},
   "source": [
    "此次搜索失败，因为 `'b'` 没有出现在索引 `1–2` 之间 (不包括`2`)。一直搜索到第二个索引，但是并不搜索第二个索引，这使得` find` 跟切片运算符的行为一致。"
   ]
  },
  {
   "cell_type": "markdown",
   "metadata": {},
   "source": [
    "## 8.9 in运算符\n"
   ]
  },
  {
   "cell_type": "markdown",
   "metadata": {},
   "source": [
    "单词 `in` 是一个布尔运算符，接受两个字符串。如果第一个作为子串出现在第二个中，则返回 `True`："
   ]
  },
  {
   "cell_type": "code",
   "execution_count": 121,
   "metadata": {},
   "outputs": [
    {
     "data": {
      "text/plain": [
       "True"
      ]
     },
     "execution_count": 121,
     "metadata": {},
     "output_type": "execute_result"
    }
   ],
   "source": [
    "'a' in 'banana'"
   ]
  },
  {
   "cell_type": "code",
   "execution_count": 122,
   "metadata": {},
   "outputs": [
    {
     "data": {
      "text/plain": [
       "False"
      ]
     },
     "execution_count": 122,
     "metadata": {},
     "output_type": "execute_result"
    }
   ],
   "source": [
    "'seed' in 'banana'"
   ]
  },
  {
   "cell_type": "markdown",
   "metadata": {},
   "source": [
    "例如下面的函数打印所有既出现在 `word1` 中也出现在 `word2` 中的字母："
   ]
  },
  {
   "cell_type": "code",
   "execution_count": 123,
   "metadata": {},
   "outputs": [],
   "source": [
    "def in_both(word1, word2):\n",
    "    for letter in word1:\n",
    "        if letter in word2:\n",
    "            print(letter)"
   ]
  },
  {
   "cell_type": "markdown",
   "metadata": {},
   "source": [
    "变量名挑选得当的话，Python 代码有时候读起来像是自然语言。你可以这样读此循环，‘‘对于 (每个) 在 (第一个) 单词中的字母，如果 (该) 字母 (出现) 在 (第二个) 单词中，打印 (该) 字母’’。\n",
    "\n",
    "如果你比较 `'apples'` 和 `'oranges'`，你会得到下面的结果："
   ]
  },
  {
   "cell_type": "code",
   "execution_count": 124,
   "metadata": {},
   "outputs": [
    {
     "name": "stdout",
     "output_type": "stream",
     "text": [
      "a\n",
      "e\n",
      "s\n"
     ]
    }
   ],
   "source": [
    "in_both('apples', 'oranges')"
   ]
  },
  {
   "cell_type": "markdown",
   "metadata": {},
   "source": [
    "## 8.10 字符串比较"
   ]
  },
  {
   "cell_type": "markdown",
   "metadata": {},
   "source": [
    "关系运算符也适用于字符串。可以这样检查两个字符串是否相等："
   ]
  },
  {
   "cell_type": "code",
   "execution_count": 125,
   "metadata": {},
   "outputs": [
    {
     "name": "stdout",
     "output_type": "stream",
     "text": [
      "All right, bananas.\n"
     ]
    }
   ],
   "source": [
    "if word == 'banana':\n",
    "    print('All right, bananas.')"
   ]
  },
  {
   "cell_type": "markdown",
   "metadata": {},
   "source": [
    "其它的关系运算符对于按字母序放置单词也很有用："
   ]
  },
  {
   "cell_type": "code",
   "execution_count": 126,
   "metadata": {},
   "outputs": [
    {
     "name": "stdout",
     "output_type": "stream",
     "text": [
      "All right, bananas\n"
     ]
    }
   ],
   "source": [
    "if word < 'banana':\n",
    "    print('Your word, ' + word + ', comes before banana.')\n",
    "elif word > 'banana':\n",
    "    print('Your word, ' + word + ', comes after banana.')\n",
    "else:\n",
    "    print('All right, bananas')"
   ]
  },
  {
   "cell_type": "markdown",
   "metadata": {},
   "source": [
    "Python 处理大写和小写字母的方式和人不同。所有的大写字母出现在所有小写字母之前，所以："
   ]
  },
  {
   "cell_type": "code",
   "execution_count": 127,
   "metadata": {},
   "outputs": [
    {
     "name": "stdout",
     "output_type": "stream",
     "text": [
      "Your word, Pineapple, comes before banana.\n"
     ]
    }
   ],
   "source": [
    "word = 'Pineapple'\n",
    "if word < 'banana':\n",
    "    print('Your word, ' + word + ', comes before banana.')\n",
    "elif word > 'banana':\n",
    "    print('Your word, ' + word + ', comes after banana.')\n",
    "else:\n",
    "    print('All right, bananas')"
   ]
  },
  {
   "cell_type": "markdown",
   "metadata": {},
   "source": [
    "## 8.11 调试"
   ]
  },
  {
   "cell_type": "markdown",
   "metadata": {},
   "source": [
    "当你使用索引遍历序列中的值时，正确地指定遍历的起始和结束点有点困难。下面是一个用来比较两个单词的函数，如果一个单词是另一个的倒序，则返回 `True` ，但其中有两个错误："
   ]
  },
  {
   "cell_type": "code",
   "execution_count": 129,
   "metadata": {},
   "outputs": [],
   "source": [
    "def is_reverse(word1, word2):\n",
    "    if len(word1) != len(word2):\n",
    "        return False\n",
    "    \n",
    "    i = 0\n",
    "    j = len(word2)\n",
    "    \n",
    "    while j > 0:\n",
    "        if word1[i] != word2[j]:\n",
    "            return False\n",
    "        i = i+1\n",
    "        j = j-1\n",
    "    \n",
    "    return True"
   ]
  },
  {
   "cell_type": "markdown",
   "metadata": {},
   "source": [
    "第一条 `if` 语句检查两个单词是否等长。如果不是，我们可以马上返回 `False` 。否则，在函数其余的部分，我们可以假定单词是等长的。这是 6.8节中提到的监护人模式的一个例子。\n",
    "\n",
    "`i` 和 `j` 是索引：`i` 向前遍历 `word1`，`j` 向后遍历 `word2`。如果我们找到两个不匹配的字母，我们可以立即返回 `False`。如果我们完成整个循环并且所有字母都匹配，我们返回 `True` 。\n",
    "\n",
    "如果我们用单词 “pots” 和 “stop” 测试该函数，我们期望返回 `True` ，但是却得到一个`IndexError`："
   ]
  },
  {
   "cell_type": "code",
   "execution_count": 130,
   "metadata": {},
   "outputs": [
    {
     "ename": "IndexError",
     "evalue": "string index out of range",
     "output_type": "error",
     "traceback": [
      "\u001b[1;31m---------------------------------------------------------------------------\u001b[0m",
      "\u001b[1;31mIndexError\u001b[0m                                Traceback (most recent call last)",
      "\u001b[1;32m<ipython-input-130-d368e6954e78>\u001b[0m in \u001b[0;36m<module>\u001b[1;34m()\u001b[0m\n\u001b[1;32m----> 1\u001b[1;33m \u001b[0mis_reverse\u001b[0m\u001b[1;33m(\u001b[0m\u001b[1;34m'pots'\u001b[0m\u001b[1;33m,\u001b[0m \u001b[1;34m'stop'\u001b[0m\u001b[1;33m)\u001b[0m\u001b[1;33m\u001b[0m\u001b[0m\n\u001b[0m",
      "\u001b[1;32m<ipython-input-129-ed87fd2f2ccc>\u001b[0m in \u001b[0;36mis_reverse\u001b[1;34m(word1, word2)\u001b[0m\n\u001b[0;32m      7\u001b[0m \u001b[1;33m\u001b[0m\u001b[0m\n\u001b[0;32m      8\u001b[0m     \u001b[1;32mwhile\u001b[0m \u001b[0mj\u001b[0m \u001b[1;33m>\u001b[0m \u001b[1;36m0\u001b[0m\u001b[1;33m:\u001b[0m\u001b[1;33m\u001b[0m\u001b[0m\n\u001b[1;32m----> 9\u001b[1;33m         \u001b[1;32mif\u001b[0m \u001b[0mword1\u001b[0m\u001b[1;33m[\u001b[0m\u001b[0mi\u001b[0m\u001b[1;33m]\u001b[0m \u001b[1;33m!=\u001b[0m \u001b[0mword2\u001b[0m\u001b[1;33m[\u001b[0m\u001b[0mj\u001b[0m\u001b[1;33m]\u001b[0m\u001b[1;33m:\u001b[0m\u001b[1;33m\u001b[0m\u001b[0m\n\u001b[0m\u001b[0;32m     10\u001b[0m             \u001b[1;32mreturn\u001b[0m \u001b[1;32mFalse\u001b[0m\u001b[1;33m\u001b[0m\u001b[0m\n\u001b[0;32m     11\u001b[0m         \u001b[0mi\u001b[0m \u001b[1;33m=\u001b[0m \u001b[0mi\u001b[0m\u001b[1;33m+\u001b[0m\u001b[1;36m1\u001b[0m\u001b[1;33m\u001b[0m\u001b[0m\n",
      "\u001b[1;31mIndexError\u001b[0m: string index out of range"
     ]
    }
   ],
   "source": [
    "is_reverse('pots', 'stop')"
   ]
  },
  {
   "cell_type": "markdown",
   "metadata": {},
   "source": [
    "为了调试该类错误，我第一步是在错误出现的行之前，打印索引的值。\n",
    "\n",
    "现在当我再次运行该程序时将获得更多的信息："
   ]
  },
  {
   "cell_type": "code",
   "execution_count": 133,
   "metadata": {},
   "outputs": [
    {
     "name": "stdout",
     "output_type": "stream",
     "text": [
      "0 4\n"
     ]
    },
    {
     "ename": "IndexError",
     "evalue": "string index out of range",
     "output_type": "error",
     "traceback": [
      "\u001b[1;31m---------------------------------------------------------------------------\u001b[0m",
      "\u001b[1;31mIndexError\u001b[0m                                Traceback (most recent call last)",
      "\u001b[1;32m<ipython-input-133-8ca16a49fefd>\u001b[0m in \u001b[0;36m<module>\u001b[1;34m()\u001b[0m\n\u001b[0;32m     16\u001b[0m     \u001b[1;32mreturn\u001b[0m \u001b[1;32mTrue\u001b[0m\u001b[1;33m\u001b[0m\u001b[0m\n\u001b[0;32m     17\u001b[0m \u001b[1;33m\u001b[0m\u001b[0m\n\u001b[1;32m---> 18\u001b[1;33m \u001b[0mis_reverse\u001b[0m\u001b[1;33m(\u001b[0m\u001b[1;34m'pots'\u001b[0m\u001b[1;33m,\u001b[0m \u001b[1;34m'stop'\u001b[0m\u001b[1;33m)\u001b[0m\u001b[1;33m\u001b[0m\u001b[0m\n\u001b[0m",
      "\u001b[1;32m<ipython-input-133-8ca16a49fefd>\u001b[0m in \u001b[0;36mis_reverse\u001b[1;34m(word1, word2)\u001b[0m\n\u001b[0;32m      9\u001b[0m         \u001b[0mprint\u001b[0m\u001b[1;33m(\u001b[0m\u001b[0mi\u001b[0m\u001b[1;33m,\u001b[0m \u001b[0mj\u001b[0m\u001b[1;33m)\u001b[0m\u001b[1;33m\u001b[0m\u001b[0m\n\u001b[0;32m     10\u001b[0m \u001b[1;33m\u001b[0m\u001b[0m\n\u001b[1;32m---> 11\u001b[1;33m         \u001b[1;32mif\u001b[0m \u001b[0mword1\u001b[0m\u001b[1;33m[\u001b[0m\u001b[0mi\u001b[0m\u001b[1;33m]\u001b[0m \u001b[1;33m!=\u001b[0m \u001b[0mword2\u001b[0m\u001b[1;33m[\u001b[0m\u001b[0mj\u001b[0m\u001b[1;33m]\u001b[0m\u001b[1;33m:\u001b[0m\u001b[1;33m\u001b[0m\u001b[0m\n\u001b[0m\u001b[0;32m     12\u001b[0m             \u001b[1;32mreturn\u001b[0m \u001b[1;32mFalse\u001b[0m\u001b[1;33m\u001b[0m\u001b[0m\n\u001b[0;32m     13\u001b[0m         \u001b[0mi\u001b[0m \u001b[1;33m=\u001b[0m \u001b[0mi\u001b[0m\u001b[1;33m+\u001b[0m\u001b[1;36m1\u001b[0m\u001b[1;33m\u001b[0m\u001b[0m\n",
      "\u001b[1;31mIndexError\u001b[0m: string index out of range"
     ]
    }
   ],
   "source": [
    "def is_reverse(word1, word2):\n",
    "    if len(word1) != len(word2):\n",
    "        return False\n",
    "    \n",
    "    i = 0\n",
    "    j = len(word2)\n",
    "    \n",
    "    while j > 0:\n",
    "        print(i, j)\n",
    "        \n",
    "        if word1[i] != word2[j]:\n",
    "            return False\n",
    "        i = i+1\n",
    "        j = j-1\n",
    "    \n",
    "    return True\n",
    "\n",
    "is_reverse('pots', 'stop')"
   ]
  },
  {
   "cell_type": "markdown",
   "metadata": {},
   "source": [
    "第一次循环时，`j` 的值是 4，超出字符串 `'post'` 的范围了。最后一个字符的索引是` 3`，所以 `j` 的初始值应该是 `len(word2)−1 `。\n",
    "\n",
    "如果我解决了这个错误，然后运行程序，将获得如下输出："
   ]
  },
  {
   "cell_type": "code",
   "execution_count": 134,
   "metadata": {},
   "outputs": [
    {
     "name": "stdout",
     "output_type": "stream",
     "text": [
      "0 3\n",
      "1 2\n",
      "2 1\n"
     ]
    },
    {
     "data": {
      "text/plain": [
       "True"
      ]
     },
     "execution_count": 134,
     "metadata": {},
     "output_type": "execute_result"
    }
   ],
   "source": [
    "def is_reverse(word1, word2):\n",
    "    if len(word1) != len(word2):\n",
    "        return False\n",
    "    \n",
    "    i = 0\n",
    "    j = len(word2)-1\n",
    "    \n",
    "    while j > 0:\n",
    "        print(i, j)\n",
    "        \n",
    "        if word1[i] != word2[j]:\n",
    "            return False\n",
    "        i = i+1\n",
    "        j = j-1\n",
    "    \n",
    "    return True\n",
    "\n",
    "is_reverse('pots', 'stop')"
   ]
  },
  {
   "attachments": {
    "image.png": {
     "image/png": "[encoded data removed]"
    }
   },
   "cell_type": "markdown",
   "metadata": {},
   "source": [
    "这次我们获得了正确的答案，但是看起来循环只运行了三次，这很奇怪。画栈图可以帮我们更好的理解发生了什么。在第一次迭代期间，`is_reverse` 的栈帧如图 8.2 所示。\n",
    "\n",
    "![image.png](attachment:image.png)\n",
    "\n",
    "我对堆栈图做了些调整，重新排列了栈帧中的变量，增加了虚线来说明 `i` 和 `j `的值表`word1` 和 `word2` 中的字符。\n",
    "\n",
    "从这个堆栈图开始，在纸上运行程序，每次迭代时修改 `i` 和 `j `的值。查找并解决这个函数的中第二个错误。"
   ]
  },
  {
   "cell_type": "markdown",
   "metadata": {},
   "source": [
    "## 8.12 术语表"
   ]
  },
  {
   "cell_type": "markdown",
   "metadata": {},
   "source": [
    "**对象 (object)：**变量可以引用的东西。现在你将对象和值等价使用。\n",
    "\n",
    "**序列 (sequence)：**一个有序的值的集合，每个值通过一个整数索引标识。\n",
    "\n",
    "**元素 (item)：**序列中的一个值。\n",
    "\n",
    "**索引 (index)：**用来选择序列中元素 (如字符串中的字符) 的一个整数值。在 Python 中，索引从 0 开始。\n",
    "\n",
    "**切片 (slice)：**以索引范围指定的字符串片段。\n",
    "\n",
    "**空字符串 (empty string)：**一个没有字符的字符串，长度为 0，用两个引号表示。\n",
    "\n",
    "**不可变性 (immutable)：** 元素不能被改变的序列的性质。\n",
    "\n",
    "**遍历 (traversal)：** 对一个序列的所有元素进行迭代，对每一元素执行类似操作。搜索 (search)： 一种遍历模式，当找到搜索目标时就停止。\n",
    "\n",
    "**计数器 (counter)：** 用来计数的变量，通常初始化为 0，并以此递增。\n",
    "\n",
    "**方法调用 (invocation)：** 执行一个方法的声明。\n",
    "\n",
    "**可选参数 (optional argument)：** 一个函数或者一个方法中不必要指定的参"
   ]
  },
  {
   "cell_type": "markdown",
   "metadata": {},
   "source": [
    "## 8.13 练习"
   ]
  },
  {
   "attachments": {
    "image.png": {
     "image/png": "[encoded data removed]"
    }
   },
   "cell_type": "markdown",
   "metadata": {},
   "source": [
    "**Exercise 8.1.** 点击如下链接，阅读字符串方法的文档。为了确保你理解他们是怎么工作的，可以尝试使用其中的一些方法。`strip` 和`replace` 尤其有用。\n",
    "\n",
    "文档中使用了可能会引起困惑的句法。例如，在`find(sub[, start[, end]])` 中，方括号意味着这是可选参数。所以，`sub` 是必填参数，但是`start` 是可选的，而且如果你提供了`start`，也不一定必须提供`end`。\n",
    "\n",
    "![image.png](attachment:image.png)"
   ]
  },
  {
   "attachments": {
    "image.png": {
     "image/png": "[encoded data removed]"
    }
   },
   "cell_type": "markdown",
   "metadata": {},
   "source": [
    "![image.png](attachment:image.png)"
   ]
  },
  {
   "attachments": {
    "image.png": {
     "image/png": "[encoded data removed]"
    }
   },
   "cell_type": "markdown",
   "metadata": {},
   "source": [
    "![image.png](attachment:image.png)"
   ]
  },
  {
   "cell_type": "markdown",
   "metadata": {},
   "source": [
    "**Exercise 8.2.** 有一个字符串方法叫`count `，它类似于之前8.7 节中的`counter` 。阅读这个方法的文档，写一个计算`'banana'` 中`a `的个数的方法调用。"
   ]
  },
  {
   "cell_type": "code",
   "execution_count": 138,
   "metadata": {},
   "outputs": [
    {
     "data": {
      "text/plain": [
       "3"
      ]
     },
     "execution_count": 138,
     "metadata": {},
     "output_type": "execute_result"
    }
   ],
   "source": [
    "def counter(word):\n",
    "    return word.count('a')\n",
    "\n",
    "counter('banana')"
   ]
  },
  {
   "cell_type": "markdown",
   "metadata": {},
   "source": [
    "**Exercise 8.3.** 一个字符串切片可以接受指定步长的第三个索引; 也就是连续字符间空格的个数。步长为 2，意味着每隔一个字符；步长为 3，意味着每隔两个字符，以此类推。"
   ]
  },
  {
   "cell_type": "code",
   "execution_count": 140,
   "metadata": {},
   "outputs": [
    {
     "data": {
      "text/plain": [
       "'bnn'"
      ]
     },
     "execution_count": 140,
     "metadata": {},
     "output_type": "execute_result"
    }
   ],
   "source": [
    "fruit = 'banana'\n",
    "fruit[0:5:2]"
   ]
  },
  {
   "cell_type": "markdown",
   "metadata": {},
   "source": [
    "步长为`−1` 就是从单词的尾部开始进行，所以切片`[::−1]` 生成一个倒序的字符串。利用这个习惯用法，将习题 6.3中`is_palindrome` 函数改写为一行代码版。"
   ]
  },
  {
   "cell_type": "code",
   "execution_count": 144,
   "metadata": {},
   "outputs": [
    {
     "data": {
      "text/plain": [
       "True"
      ]
     },
     "execution_count": 144,
     "metadata": {},
     "output_type": "execute_result"
    }
   ],
   "source": [
    "def is_palindrome(word):\n",
    "    return word == word[::-1]\n",
    "\n",
    "is_palindrome('bob')"
   ]
  },
  {
   "cell_type": "markdown",
   "metadata": {},
   "source": [
    "**Exercise 8.4.** 下面这些函数，都是**用于** 检查一个字符串是否包含一些小写字母的，但是其中至少有一些是错误的函数。检查每个函数，描述这个函数实际上做了什么 ( 假设形参是字符串）。"
   ]
  },
  {
   "cell_type": "code",
   "execution_count": 153,
   "metadata": {},
   "outputs": [],
   "source": [
    "##检查字符串是否包含小写字母\n",
    "def any_lowercase1(s):\n",
    "    for c in s:\n",
    "        if c.islower():\n",
    "            return True\n",
    "        else:\n",
    "            return False\n",
    "\n",
    "##一定返回True\n",
    "def any_lowercase2(s):\n",
    "    for c in s:\n",
    "        if 'c'.islower():\n",
    "            return 'True'\n",
    "        else:\n",
    "            return 'False'\n",
    "\n",
    "##检查最后一个字母是否小写\n",
    "def any_lowercase3(s):\n",
    "    for c in s:\n",
    "        flag = c.islower()\n",
    "    return flag\n",
    "\n",
    "##检查是否存在小写字母\n",
    "def any_lowercase4(s):\n",
    "    flag = False\n",
    "    for c in s:\n",
    "        flag = flag or c.islower()\n",
    "    return flag\n",
    "\n",
    "##检查字符串是否全为小写字母\n",
    "def any_lowercase5(s):\n",
    "    for c in s:\n",
    "        if not c.islower():\n",
    "            return False\n",
    "    return True"
   ]
  },
  {
   "cell_type": "markdown",
   "metadata": {},
   "source": [
    "\n"
   ]
  },
  {
   "cell_type": "markdown",
   "metadata": {},
   "source": [
    "**Exercise 8.5.** 凯撒密码 (Caesar cypher) 是一种弱加密方式，它将每一个字母偏移固定的位置。偏移一个字母，指的是按着字母表偏移，如果需要的话再从尾部跳转至首字母，所以 ‘A’ 偏移三个位置即为 ‘D’，‘Z’ 偏移一个位置是 ‘A’。\n",
    "\n",
    "要偏移一个单词，可以将其中每一个字母偏移相同的量。例如，“cheer” 偏移 7 个位置后变成了 “jolly”，“melon” 偏移 -10 个位置变成了 “cubed”。在电影《2001：太空奥德赛 (2001: A Space Odyssey)》 中，飞船上的电脑叫做 HAL，也就是 IBM 偏移 1 个位置后的单词。\n",
    "\n",
    "编写一个叫`rotate_word` 的函数，接受一个字符串和一个整数作为形参，并返回原字符串按照给定整数量偏移后得到的一个新字符串。\n",
    "\n",
    "你可能想用内置函数`ord` ，它可以将字符转化成数值代码，还有`chr`，它可以将数值代码转化成字符. 字母表的字母以字母表顺序编码，例如:"
   ]
  },
  {
   "cell_type": "code",
   "execution_count": 157,
   "metadata": {},
   "outputs": [
    {
     "data": {
      "text/plain": [
       "2"
      ]
     },
     "execution_count": 157,
     "metadata": {},
     "output_type": "execute_result"
    }
   ],
   "source": [
    "ord('c') - ord('a')"
   ]
  },
  {
   "cell_type": "markdown",
   "metadata": {},
   "source": [
    "因为`'c'` 是字母表中的第二个字母。但是请注意：大写字母的数值代码是不同的。网上一些可能冒犯人的笑话有时以 ROT13 编码，即以 13 为偏移量的凯撒密码。如果你不是很容易就被冒犯，那么可以找些这样的笑话，并解码："
   ]
  },
  {
   "cell_type": "code",
   "execution_count": 159,
   "metadata": {},
   "outputs": [
    {
     "name": "stdout",
     "output_type": "stream",
     "text": [
      "jolly\n",
      "cubed\n",
      "bunny\n"
     ]
    }
   ],
   "source": [
    "def rotate_letter(letter, n):\n",
    "    if letter.isupper():\n",
    "        start = ord('A')\n",
    "    elif letter.islower():\n",
    "        start = ord('a')\n",
    "    else:\n",
    "        return letter\n",
    "    \n",
    "    c = ord(letter) - start\n",
    "    i = (c + n) % 26 + start\n",
    "    return chr(i)\n",
    "\n",
    "def rotate_word(word, n):\n",
    "    res = ''\n",
    "    for letter in word:\n",
    "        res += rotate_letter(letter, n)\n",
    "    return res\n",
    "\n",
    "print(rotate_word('cheer', 7))\n",
    "print(rotate_word('melon', -10))\n",
    "print(rotate_word('sleep', 9))"
   ]
  }
 ],
 "metadata": {
  "kernelspec": {
   "display_name": "Python 3",
   "language": "python",
   "name": "python3"
  },
  "language_info": {
   "codemirror_mode": {
    "name": "ipython",
    "version": 3
   },
   "file_extension": ".py",
   "mimetype": "text/x-python",
   "name": "python",
   "nbconvert_exporter": "python",
   "pygments_lexer": "ipython3",
   "version": "3.6.5"
  }
 },
 "nbformat": 4,
 "nbformat_minor": 2
}
