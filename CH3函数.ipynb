{
 "cells": [
  {
   "cell_type": "markdown",
   "metadata": {},
   "source": [
    "# 第三章 函数"
   ]
  },
  {
   "cell_type": "markdown",
   "metadata": {},
   "source": [
    "在编程的语境下，*函数* (function) 是指一个有命名的、执行某个计算的语句序列 (sequence of statements) 。在定义一个函数的时候，你需要指定函数的名字和语句序列。之后，你可以通过这个名字 “*调用* (call)” 该函数。"
   ]
  },
  {
   "cell_type": "markdown",
   "metadata": {},
   "source": [
    "## 3.1 函数调用"
   ]
  },
  {
   "cell_type": "markdown",
   "metadata": {},
   "source": [
    "我们已经看见过了*函数调用* (function call) 的例子。"
   ]
  },
  {
   "cell_type": "code",
   "execution_count": 155,
   "metadata": {},
   "outputs": [
    {
     "data": {
      "text/plain": [
       "int"
      ]
     },
     "execution_count": 155,
     "metadata": {},
     "output_type": "execute_result"
    }
   ],
   "source": [
    "type(42)"
   ]
  },
  {
   "cell_type": "markdown",
   "metadata": {},
   "source": [
    "函数的名字是“type”。括号中的表达式被称为这个函数的`实参`。"
   ]
  },
  {
   "cell_type": "markdown",
   "metadata": {},
   "source": [
    "函数“`接受`”实参，然后“`返回`”一个结果。该结果也被称为`返回值`。"
   ]
  },
  {
   "cell_type": "markdown",
   "metadata": {},
   "source": [
    "Python提供了能够将值从一种类型转化为另一种类型的内建函数。函数`int`接受任意值，并在其能做到的情况下，将该值转换成一个整型数，否则会报错："
   ]
  },
  {
   "cell_type": "code",
   "execution_count": 156,
   "metadata": {},
   "outputs": [
    {
     "data": {
      "text/plain": [
       "32"
      ]
     },
     "execution_count": 156,
     "metadata": {},
     "output_type": "execute_result"
    }
   ],
   "source": [
    "int('32')"
   ]
  },
  {
   "cell_type": "markdown",
   "metadata": {},
   "source": [
    "这个函数的名字是 “type”。括号中的表达式被称为这个函数的*实参* (argument)。这个函数执行的结果，就是实参的类型。\n",
    "\n",
    "人们常说函数 “接受 (accept)” 实参，然后“返回 (return)” 一个结果。该结果也被称为*返回值* (return value)。\n",
    "\n",
    "Python 提供了能够将值从一种类型转换为另一种类型的内建函数。函数 `int` 接受任值，并在其能做到的情况下，将该值转换成一个整型数，否则会报错："
   ]
  },
  {
   "cell_type": "code",
   "execution_count": 157,
   "metadata": {},
   "outputs": [
    {
     "data": {
      "text/plain": [
       "32"
      ]
     },
     "execution_count": 157,
     "metadata": {},
     "output_type": "execute_result"
    }
   ],
   "source": [
    "int('32')"
   ]
  },
  {
   "cell_type": "code",
   "execution_count": 158,
   "metadata": {},
   "outputs": [
    {
     "ename": "ValueError",
     "evalue": "invalid literal for int() with base 10: 'Hello'",
     "output_type": "error",
     "traceback": [
      "\u001b[1;31m---------------------------------------------------------------------------\u001b[0m",
      "\u001b[1;31mValueError\u001b[0m                                Traceback (most recent call last)",
      "\u001b[1;32m<ipython-input-158-6765ce49acfe>\u001b[0m in \u001b[0;36m<module>\u001b[1;34m()\u001b[0m\n\u001b[1;32m----> 1\u001b[1;33m \u001b[0mint\u001b[0m\u001b[1;33m(\u001b[0m\u001b[1;34m'Hello'\u001b[0m\u001b[1;33m)\u001b[0m\u001b[1;33m\u001b[0m\u001b[0m\n\u001b[0m",
      "\u001b[1;31mValueError\u001b[0m: invalid literal for int() with base 10: 'Hello'"
     ]
    }
   ],
   "source": [
    "int('Hello')"
   ]
  },
  {
   "cell_type": "markdown",
   "metadata": {},
   "source": [
    "`int` 能将浮点数转换为整型数，但是它并不进行舍入；只是截掉了小数点部分："
   ]
  },
  {
   "cell_type": "code",
   "execution_count": 159,
   "metadata": {},
   "outputs": [
    {
     "data": {
      "text/plain": [
       "3"
      ]
     },
     "execution_count": 159,
     "metadata": {},
     "output_type": "execute_result"
    }
   ],
   "source": [
    "int(3.99999)"
   ]
  },
  {
   "cell_type": "code",
   "execution_count": 160,
   "metadata": {},
   "outputs": [
    {
     "data": {
      "text/plain": [
       "-2"
      ]
     },
     "execution_count": 160,
     "metadata": {},
     "output_type": "execute_result"
    }
   ],
   "source": [
    "int(-2.3)"
   ]
  },
  {
   "cell_type": "markdown",
   "metadata": {},
   "source": [
    "`float` 可以将整型数和字符串转换为浮点数："
   ]
  },
  {
   "cell_type": "code",
   "execution_count": 161,
   "metadata": {},
   "outputs": [
    {
     "data": {
      "text/plain": [
       "32.0"
      ]
     },
     "execution_count": 161,
     "metadata": {},
     "output_type": "execute_result"
    }
   ],
   "source": [
    "float(32)"
   ]
  },
  {
   "cell_type": "code",
   "execution_count": 162,
   "metadata": {},
   "outputs": [
    {
     "data": {
      "text/plain": [
       "3.14159"
      ]
     },
     "execution_count": 162,
     "metadata": {},
     "output_type": "execute_result"
    }
   ],
   "source": [
    "float('3.14159')"
   ]
  },
  {
   "cell_type": "markdown",
   "metadata": {},
   "source": [
    "`str`可以将其实参转换成字符串："
   ]
  },
  {
   "cell_type": "code",
   "execution_count": 163,
   "metadata": {},
   "outputs": [
    {
     "data": {
      "text/plain": [
       "'32'"
      ]
     },
     "execution_count": 163,
     "metadata": {},
     "output_type": "execute_result"
    }
   ],
   "source": [
    "str(32)"
   ]
  },
  {
   "cell_type": "code",
   "execution_count": 164,
   "metadata": {},
   "outputs": [
    {
     "data": {
      "text/plain": [
       "'3.14159'"
      ]
     },
     "execution_count": 164,
     "metadata": {},
     "output_type": "execute_result"
    }
   ],
   "source": [
    "str(3.14159)"
   ]
  },
  {
   "cell_type": "markdown",
   "metadata": {},
   "source": [
    "## 3.2 数学函数"
   ]
  },
  {
   "cell_type": "markdown",
   "metadata": {},
   "source": [
    "Python 中有一个数学函数模块，提供了大部分常用的数学函数。*模块* (module) 是指一个包含相关函数集合的文件。\n",
    "\n",
    "在使用模块之前，我们需要通过*导入语句* (import statement) 导入该模块："
   ]
  },
  {
   "cell_type": "code",
   "execution_count": 165,
   "metadata": {},
   "outputs": [],
   "source": [
    "import math"
   ]
  },
  {
   "cell_type": "markdown",
   "metadata": {},
   "source": [
    "这条语句会生成一个名为 “math” 的*模块对象* (module object) 。如果你打印这个模块对象你将获得关于它的一些信息："
   ]
  },
  {
   "cell_type": "code",
   "execution_count": 166,
   "metadata": {},
   "outputs": [
    {
     "data": {
      "text/plain": [
       "<module 'math' (built-in)>"
      ]
     },
     "execution_count": 166,
     "metadata": {},
     "output_type": "execute_result"
    }
   ],
   "source": [
    "math"
   ]
  },
  {
   "cell_type": "markdown",
   "metadata": {},
   "source": [
    "该模块对象包括了定义在模块内的所有函数和变量。想要访问其中的一个函数，你必须指定该模块的名字以及函数名，并以点号（也被叫做句号）分隔开来。这种形式被称作*点标记法* (dot notation)。"
   ]
  },
  {
   "cell_type": "code",
   "execution_count": 167,
   "metadata": {},
   "outputs": [],
   "source": [
    "signal_power = noise_power = 1\n",
    "\n",
    "ratio = signal_power / noise_power\n",
    "decibels = 10 * math.log10(ratio)\n",
    "\n",
    "radians = 0.7\n",
    "height = math.sin(radians)"
   ]
  },
  {
   "cell_type": "markdown",
   "metadata": {},
   "source": [
    "第一个例子使用`math.log10` 计算分贝信噪比（假设 `signal_power` 和`noise_power` 已经被定义了）。math 模块也提供了 `log` 函数，用于计算以$e$为底的对数。\n",
    "\n",
    "第二个例子计算 `radians` 的正弦值。变量名暗示了 `sin` 及其它三角函数（`cos`、`tan` 等）接受弧度 (radians) 实参。度数转换为弧度，需要除以 180，并乘以$\\pi$："
   ]
  },
  {
   "cell_type": "code",
   "execution_count": 168,
   "metadata": {},
   "outputs": [
    {
     "data": {
      "text/plain": [
       "0.7071067811865476"
      ]
     },
     "execution_count": 168,
     "metadata": {},
     "output_type": "execute_result"
    }
   ],
   "source": [
    "degrees = 45\n",
    "radians = degrees / 180.0 * math.pi\n",
    "math.sin(radians)"
   ]
  },
  {
   "cell_type": "markdown",
   "metadata": {},
   "source": [
    "表达式 `math.pi` 从 `math` 模块中获得变量 `pi` 。该变量的值是$\\pi$的一个浮点数近似值，精确到大约 15 位数。\n",
    "\n",
    "如果你了解懂几何学 (trigonometry) ，你可以将之前的结果和二分之根号二进行比较，检查是否正确："
   ]
  },
  {
   "cell_type": "code",
   "execution_count": 169,
   "metadata": {},
   "outputs": [
    {
     "data": {
      "text/plain": [
       "0.7071067811865476"
      ]
     },
     "execution_count": 169,
     "metadata": {},
     "output_type": "execute_result"
    }
   ],
   "source": [
    "math.sqrt(2) / 2.0"
   ]
  },
  {
   "cell_type": "markdown",
   "metadata": {},
   "source": [
    "## 3.3 构建"
   ]
  },
  {
   "cell_type": "markdown",
   "metadata": {},
   "source": [
    "目前为止，我们已经分别介绍了程序的基本元素 — 变量、表达式和语句，但是还没有讨论如何将它们组合在一起。\n",
    "\n",
    "编程语言的最有用特征之一，是能够将小块构建材料 (building blocks) *构建* (compose)在一起。例如，函数的实参可以是任意类型的表达式，包括算术运算符："
   ]
  },
  {
   "cell_type": "code",
   "execution_count": 170,
   "metadata": {},
   "outputs": [],
   "source": [
    "x = math.sin(degrees / 360.0 * 2 * math.pi)"
   ]
  },
  {
   "cell_type": "markdown",
   "metadata": {},
   "source": [
    "甚至是函数调用："
   ]
  },
  {
   "cell_type": "code",
   "execution_count": 171,
   "metadata": {},
   "outputs": [],
   "source": [
    "x = math.exp(math.log(x+1))"
   ]
  },
  {
   "cell_type": "markdown",
   "metadata": {},
   "source": [
    "几乎任何可以放一个值的地方，都可以放一个任意类型的表达式，除了一个例外：赋值语句的左侧必须是一个变量名。左侧放其他任何表达式都会产生语法错误（后面我们会讲到这个规则的例外）。"
   ]
  },
  {
   "cell_type": "code",
   "execution_count": 172,
   "metadata": {},
   "outputs": [
    {
     "ename": "SyntaxError",
     "evalue": "can't assign to operator (<ipython-input-172-680c2a161a3f>, line 3)",
     "output_type": "error",
     "traceback": [
      "\u001b[1;36m  File \u001b[1;32m\"<ipython-input-172-680c2a161a3f>\"\u001b[1;36m, line \u001b[1;32m3\u001b[0m\n\u001b[1;33m    hours * 60 = minutes\u001b[0m\n\u001b[1;37m                        ^\u001b[0m\n\u001b[1;31mSyntaxError\u001b[0m\u001b[1;31m:\u001b[0m can't assign to operator\n"
     ]
    }
   ],
   "source": [
    "hours = 1\n",
    "minutes = hours * 60\n",
    "hours * 60 = minutes"
   ]
  },
  {
   "cell_type": "markdown",
   "metadata": {},
   "source": [
    "## 3.4 增加新函数"
   ]
  },
  {
   "cell_type": "markdown",
   "metadata": {},
   "source": [
    "目前为止，我们只使用了 Python 自带的函数，但是增加新函数也是可能的。一个*函数定义* (function definition) 指定了新函数的名称以及当函数被调用时执行的语句序列。\n",
    "\n",
    "下面是一个示例："
   ]
  },
  {
   "cell_type": "code",
   "execution_count": null,
   "metadata": {},
   "outputs": [],
   "source": [
    "def print_lyrics():\n",
    "    print(\"I'm a lumberjack, and I'm m okay\")\n",
    "    print(\"I sleep all night and I work all day.\")"
   ]
  },
  {
   "attachments": {
    "image.png": {
     "image/png": "[encoded data removed]"
    }
   },
   "cell_type": "markdown",
   "metadata": {},
   "source": [
    "`def` 是一个关键字，表明这是一个函数定义。这个函数的名字是 `print_lyrics`。函数的命名规则与变量名相同：字母、数字以及下划线是合法的，但是第一个字符不能是数字。不能使用关键字作为函数名，并应该避免变量和函数同名。\n",
    "\n",
    "函数名后面的圆括号是空的，表明该函数不接受任何实参。\n",
    "\n",
    "函数定义的第一行被称作*函数头* (header)；其余部分被称作*函数体* (body)。函数头必须以冒号结尾，而函数体必须缩进。按照惯例，缩进总是 4 个空格。函数体能包含任意条语句。\n",
    "\n",
    "打印语句中的字符串被括在双引号中。单引号和双引号的作用相同；大多数人使用单引号，上述代码中的情况除外，即单引号（同时也是撇号）出现在字符串中时。\n",
    "\n",
    "所有引号（单引号和双引号）必须是 “*直引号*” (straight quotes)，它们通常位于键盘上Enter 键的旁边。像这句话中使用的 “*弯引号*” (curly quotes)，在 Python 语言中则是不合法的。\n",
    "\n",
    "如果你在交互模式下键入函数定义，每空一行解释器就会打印三个句点 ...，让你知道定义并没有结束。\n",
    "\n",
    "![image.png](attachment:image.png)"
   ]
  },
  {
   "cell_type": "markdown",
   "metadata": {},
   "source": [
    "为了结束函数定义，你必须输入一个空行。\n",
    "\n",
    "定义一个函数会创建一个*函数对象* (function object)，其类型是 `function`："
   ]
  },
  {
   "cell_type": "code",
   "execution_count": null,
   "metadata": {},
   "outputs": [],
   "source": [
    "print(print_lyrics)\n",
    "type(print_lyrics)"
   ]
  },
  {
   "cell_type": "markdown",
   "metadata": {},
   "source": [
    "调用新函数的语法，和调用内建函数的语法相同："
   ]
  },
  {
   "cell_type": "code",
   "execution_count": 173,
   "metadata": {},
   "outputs": [
    {
     "name": "stdout",
     "output_type": "stream",
     "text": [
      "I'm a lumberjack, and I'm m okay\n",
      "I sleep all night and I work all day.\n"
     ]
    }
   ],
   "source": [
    "print_lyrics()"
   ]
  },
  {
   "cell_type": "markdown",
   "metadata": {},
   "source": [
    "一旦你定义了一个函数，你就可以在另一个函数内部使用它。例如，为了重复之前的叠句 (refrain)，我们可以编写一个名叫 repeat_lyrics："
   ]
  },
  {
   "cell_type": "code",
   "execution_count": 174,
   "metadata": {},
   "outputs": [],
   "source": [
    "def repeat_lyrics():\n",
    "    print_lyrics()\n",
    "    print_lyrics()"
   ]
  },
  {
   "cell_type": "markdown",
   "metadata": {},
   "source": [
    "然后调用 repeat_lyrics"
   ]
  },
  {
   "cell_type": "code",
   "execution_count": 175,
   "metadata": {},
   "outputs": [
    {
     "name": "stdout",
     "output_type": "stream",
     "text": [
      "I'm a lumberjack, and I'm m okay\n",
      "I sleep all night and I work all day.\n",
      "I'm a lumberjack, and I'm m okay\n",
      "I sleep all night and I work all day.\n"
     ]
    }
   ],
   "source": [
    "repeat_lyrics()"
   ]
  },
  {
   "cell_type": "markdown",
   "metadata": {},
   "source": [
    "## 3.5 定义和使用"
   ]
  },
  {
   "cell_type": "markdown",
   "metadata": {},
   "source": [
    "将上一节的多个代码段组合在一起整个程序看起来是这样的："
   ]
  },
  {
   "cell_type": "code",
   "execution_count": 176,
   "metadata": {},
   "outputs": [
    {
     "name": "stdout",
     "output_type": "stream",
     "text": [
      "I'm a lumberjack, and I'm m okay\n",
      "I sleep all night and I work all day.\n",
      "I'm a lumberjack, and I'm m okay\n",
      "I sleep all night and I work all day.\n"
     ]
    }
   ],
   "source": [
    "def print_lyrics():\n",
    "    print(\"I'm a lumberjack, and I'm m okay\")\n",
    "    print(\"I sleep all night and I work all day.\")\n",
    "\n",
    "def repeat_lyrics():\n",
    "    print_lyrics()\n",
    "    print_lyrics()\n",
    "    \n",
    "repeat_lyrics()"
   ]
  },
  {
   "cell_type": "markdown",
   "metadata": {},
   "source": [
    "该程序包含两个函数定义：`print_lyrics` 和 `repeat_lyrics`。函数定义和其它语句一样，都会被执行，但是其作用是创建函数对象。函数内部的语句在函数被调用之前，是不会执行的，而且函数定义不会产生任何输出。\n",
    "\n",
    "你可能猜到了，在运行函数之前，你必须先创建这个函数。换句话说，函数定义必须在其第一次被调用之前执行。\n",
    "\n",
    "我们做个小练习，将程序的最后一行移到顶部，使得函数调用出现在函数定义之前。运行程序，看看会得到怎样的错误信息。\n",
    "\n",
    "现在将函数调用移回底部，然后将 `print_lyrics` 的定义移到 `repeat_lyrics` 的定义之后。这次运行程序时会发生什么？"
   ]
  },
  {
   "cell_type": "code",
   "execution_count": 177,
   "metadata": {},
   "outputs": [
    {
     "name": "stdout",
     "output_type": "stream",
     "text": [
      "I'm a lumberjack, and I'm m okay\n",
      "I sleep all night and I work all day.\n",
      "I'm a lumberjack, and I'm m okay\n",
      "I sleep all night and I work all day.\n"
     ]
    }
   ],
   "source": [
    "def repeat_lyrics():\n",
    "    _print_lyrics()\n",
    "    _print_lyrics()\n",
    "    \n",
    "def _print_lyrics():\n",
    "    print(\"I'm a lumberjack, and I'm m okay\")\n",
    "    print(\"I sleep all night and I work all day.\")\n",
    "    \n",
    "repeat_lyrics()"
   ]
  },
  {
   "cell_type": "markdown",
   "metadata": {},
   "source": [
    "## 3.6 执行流程"
   ]
  },
  {
   "cell_type": "markdown",
   "metadata": {},
   "source": [
    "为了保证函数第一次使用之前已经被定义，你必须要了解语句执行的顺序，这也被称作*执行流程* (flow of execution) 。\n",
    "\n",
    "执行流程总是从程序的第一条语句开始，自顶向下，每次执行一条语句。\n",
    "\n",
    "函数定义不改变程序执行的流程，但是请记住，函数不被调用的话，函数内部的语句是不会执行的。\n",
    "\n",
    "函数调用像是在执行流程上绕了一个弯路。执行流程没有进入下一条语句，而是跳入了函数体，开始执行那里的语句，然后再回到它离开的位置。\n",
    "\n",
    "这听起来足够简单，至少在你想起一个函数可以调用另一个函数之前。当一个函数执行到中间的时候，程序可能必须执行另一个函数里的语句。然后在执行那个新函数的时候，程序可能又得执行另外一个函数！\n",
    "\n",
    "幸运的是，Python 善于记录程序执行流程的位置，因此每次一个函数执行完成时，程序会回到调用它的那个函数原来执行的位置。当到达程序的结尾时，程序才会终止。\n",
    "\n",
    "总之，阅读程序时，你没有必要总是从上往下读。有时候，跟着执行流程阅读反而更加合理。"
   ]
  },
  {
   "cell_type": "markdown",
   "metadata": {},
   "source": [
    "## 3.7 形参和实参"
   ]
  },
  {
   "cell_type": "markdown",
   "metadata": {},
   "source": [
    "我们之前接触的一些函数需要实参。例如，当你调用 `math.sin` 时，你传递一个数字作为实参。有些函数接受一个以上的实参：`math.pow` 接受两个，底数和指数。\n",
    "\n",
    "在函数内部，实参被赋给称作*形参* (parameters) 的变量。下面的代码定义了一个接受一个实参的参数："
   ]
  },
  {
   "cell_type": "code",
   "execution_count": 178,
   "metadata": {},
   "outputs": [],
   "source": [
    "def print_twice(bruce):\n",
    "    print(bruce)\n",
    "    print(bruce)"
   ]
  },
  {
   "cell_type": "markdown",
   "metadata": {},
   "source": [
    "这个函数将实参赋给名为 `bruce` 的形参。当函数被调用的时候，它会打印形参（无论它是什么）的值两次。\n",
    "\n",
    "该函数对任意能被打印的值都有效。"
   ]
  },
  {
   "cell_type": "code",
   "execution_count": 179,
   "metadata": {},
   "outputs": [
    {
     "name": "stdout",
     "output_type": "stream",
     "text": [
      "Spam\n",
      "Spam\n"
     ]
    }
   ],
   "source": [
    "print_twice('Spam')"
   ]
  },
  {
   "cell_type": "code",
   "execution_count": 180,
   "metadata": {},
   "outputs": [
    {
     "name": "stdout",
     "output_type": "stream",
     "text": [
      "42\n",
      "42\n"
     ]
    }
   ],
   "source": [
    "print_twice(42)"
   ]
  },
  {
   "cell_type": "code",
   "execution_count": 181,
   "metadata": {},
   "outputs": [
    {
     "name": "stdout",
     "output_type": "stream",
     "text": [
      "3.141592653589793\n",
      "3.141592653589793\n"
     ]
    }
   ],
   "source": [
    "print_twice(math.pi)"
   ]
  },
  {
   "cell_type": "markdown",
   "metadata": {},
   "source": [
    "组合规则不仅适用于内建函数，而且也适用于开发者自定义的函数 (programmer-defined functions)，因此我们可以使用任意类型的表达式作为 `print_twice`的实参："
   ]
  },
  {
   "cell_type": "code",
   "execution_count": 182,
   "metadata": {},
   "outputs": [
    {
     "name": "stdout",
     "output_type": "stream",
     "text": [
      "Spam Spam Spam Spam \n",
      "Spam Spam Spam Spam \n"
     ]
    }
   ],
   "source": [
    "print_twice('Spam '*4)"
   ]
  },
  {
   "cell_type": "code",
   "execution_count": 183,
   "metadata": {},
   "outputs": [
    {
     "name": "stdout",
     "output_type": "stream",
     "text": [
      "-1.0\n",
      "-1.0\n"
     ]
    }
   ],
   "source": [
    "print_twice(math.cos(math.pi))"
   ]
  },
  {
   "cell_type": "markdown",
   "metadata": {},
   "source": [
    "在函数被调用之前，实参会先进行计算，因此在这些例子中，表达式 `Spam *4` 和 `math.cos(math.pi)` 都只被计算了一次。\n",
    "\n",
    "你也可以用变量作为实参："
   ]
  },
  {
   "cell_type": "code",
   "execution_count": 184,
   "metadata": {},
   "outputs": [
    {
     "name": "stdout",
     "output_type": "stream",
     "text": [
      "Eric, the half a bee.\n",
      "Eric, the half a bee.\n"
     ]
    }
   ],
   "source": [
    "michael = 'Eric, the half a bee.'\n",
    "print_twice(michael)"
   ]
  },
  {
   "cell_type": "markdown",
   "metadata": {},
   "source": [
    "我们传递的实参名 `michael` 与形参的名字 `bruce` 没有任何关系。这个值在传入函数之前叫什么都没有关系；只要传入了 `print_twice` 函数，我们将所有人都称为 `bruce`。"
   ]
  },
  {
   "cell_type": "markdown",
   "metadata": {},
   "source": [
    "## 3.8 变量和形参都是局部的"
   ]
  },
  {
   "cell_type": "markdown",
   "metadata": {},
   "source": [
    "当你在函数里面创建变量时，这个变量是*局部*的 (local)，也就是说它只在函数内部存在。例如："
   ]
  },
  {
   "cell_type": "code",
   "execution_count": 185,
   "metadata": {},
   "outputs": [],
   "source": [
    "def cat_twice(part1, part2):\n",
    "    cat = part1 + part2\n",
    "    print_twice(cat)"
   ]
  },
  {
   "cell_type": "markdown",
   "metadata": {},
   "source": [
    "该函数接受两个实参，拼接 (concatenates) 它们并打印结果两次。下面是使用该函数的一个示例："
   ]
  },
  {
   "cell_type": "code",
   "execution_count": 186,
   "metadata": {},
   "outputs": [
    {
     "name": "stdout",
     "output_type": "stream",
     "text": [
      "Bing tiddle tiddle bang.\n",
      "Bing tiddle tiddle bang.\n"
     ]
    }
   ],
   "source": [
    "line1 = 'Bing tiddle '\n",
    "line2 = 'tiddle bang.'\n",
    "cat_twice(line1, line2)"
   ]
  },
  {
   "attachments": {},
   "cell_type": "markdown",
   "metadata": {},
   "source": [
    "当 `cat_twice` 结束时，变量 `cat` 被销毁了。如果我们试图打印它，我们将获得一个异常："
   ]
  },
  {
   "cell_type": "code",
   "execution_count": 187,
   "metadata": {},
   "outputs": [
    {
     "ename": "NameError",
     "evalue": "name 'cat' is not defined",
     "output_type": "error",
     "traceback": [
      "\u001b[1;31m---------------------------------------------------------------------------\u001b[0m",
      "\u001b[1;31mNameError\u001b[0m                                 Traceback (most recent call last)",
      "\u001b[1;32m<ipython-input-187-34599fba884e>\u001b[0m in \u001b[0;36m<module>\u001b[1;34m()\u001b[0m\n\u001b[1;32m----> 1\u001b[1;33m \u001b[0mprint\u001b[0m\u001b[1;33m(\u001b[0m\u001b[0mcat\u001b[0m\u001b[1;33m)\u001b[0m\u001b[1;33m\u001b[0m\u001b[0m\n\u001b[0m",
      "\u001b[1;31mNameError\u001b[0m: name 'cat' is not defined"
     ]
    }
   ],
   "source": [
    "print(cat)"
   ]
  },
  {
   "cell_type": "markdown",
   "metadata": {},
   "source": [
    "形参也都是局部的。例如，在 `print_twice` 函数的外部并没有 `bruce` 这个变量。"
   ]
  },
  {
   "cell_type": "markdown",
   "metadata": {},
   "source": [
    "## 3.9 堆栈图"
   ]
  },
  {
   "attachments": {
    "image.png": {
     "image/png": "[encoded data removed]"
    }
   },
   "cell_type": "markdown",
   "metadata": {},
   "source": [
    "有时，画一个*堆栈图* (stack diagram) 可以帮助你跟踪哪个变量能在哪儿用。与状态图类似，堆栈图要说明每个变量的值，但是它们也要说明每个变量所属的函数。\n",
    "\n",
    "每个函数用一个*栈帧* (frame) 表示。一个栈帧就是一个线框，函数名在旁边，形参以及函数内部的变量则在里面。前面例子的堆栈图如图 3.1所示。\n",
    "\n",
    "![image.png](attachment:image.png)\n",
    "\n",
    "这些线框排列成栈的形式，说明了哪个函数调用了哪个函数等信息。在此例中，`print_twice`被`cat_twice`调用，`cat_twice` 又被 `__main__` 调用，`__main__` 是一个表示最上层栈帧的特殊名字。当你在所有函数之外创建一个变量时，它就属于`__main__`。\n",
    "\n",
    "每个形参都指向其对应实参的值。因此，`part1` 和 `line1` 的值相同，`part2` 和 `line2` 的值相同，`bruce` 和 `cat` 的值相同。\n",
    "\n",
    "如果函数调用时发生错误，Python 会打印出错函数的名字以及调用它的函数的名字，以及调用后面**这个函数**的名字，一直追溯到 `__main__` 为止。\n",
    "\n",
    "例如，如果你试图在 `print_twice` 里面访问 `cat` ，你将获得一个 `NameError`：\n",
    "\n",
    "这个函数列表被称作*回溯* (traceback) 。它告诉你发生错误的是哪个程序文件，错误在哪一行，以及当时在执行哪个函数。它还会显示引起错误的那一行代码。\n",
    "\n",
    "回溯中的函数顺序，与堆栈图中的函数顺序一致。出错时正在运行的那个函数则位于回溯信息的底部。"
   ]
  },
  {
   "cell_type": "markdown",
   "metadata": {},
   "source": [
    "## 3.10 有返回值函数和无返回值函数"
   ]
  },
  {
   "cell_type": "markdown",
   "metadata": {},
   "source": [
    "有一些我们之前用过的函数，例如数学函数，会返回结果；由于没有更好的名字，我姑且叫它们有*返回值函数* (fruitful functions) 。其它的函数，像 `print_twice` ，执行一个动作但是不返回任何值。我称它们为*无返回值函数* (void functions) 。\n",
    "\n",
    "当你调用一个有返回值函数时，你几乎总是想用返回的结果去做些什么；例如，你可能将它赋值给一个变量，或者把它用在表达式里："
   ]
  },
  {
   "cell_type": "code",
   "execution_count": 188,
   "metadata": {},
   "outputs": [],
   "source": [
    "x = math.cos(radians)\n",
    "golden = (math.sqrt(5) + 1) / 2"
   ]
  },
  {
   "cell_type": "markdown",
   "metadata": {},
   "source": [
    "当你在交互模式下调用一个函数时，Python 解释器会马上显示结果："
   ]
  },
  {
   "cell_type": "code",
   "execution_count": 189,
   "metadata": {},
   "outputs": [
    {
     "data": {
      "text/plain": [
       "2.23606797749979"
      ]
     },
     "execution_count": 189,
     "metadata": {},
     "output_type": "execute_result"
    }
   ],
   "source": [
    "math.sqrt(5)"
   ]
  },
  {
   "cell_type": "markdown",
   "metadata": {},
   "source": [
    "但是在脚本中，如果你单单调用一个有返回值函数，返回值就永远丢失了！\n",
    "\n",
    "`math.sqrt(5)`\n",
    "\n",
    "该脚本计算 5 的平方根，但是因为它没保存或者显示这个结果，这个脚本并没多大用处。\n",
    "\n",
    "无返回值函数可能在屏幕上打印输出结果，或者产生其它的影响，但是它们并没有返回值。如果你试图将无返回值函数的结果赋给一个变量，你会得到一个被称作 `None` 的特殊值。"
   ]
  },
  {
   "cell_type": "code",
   "execution_count": 190,
   "metadata": {},
   "outputs": [
    {
     "name": "stdout",
     "output_type": "stream",
     "text": [
      "Bing\n",
      "Bing\n"
     ]
    }
   ],
   "source": [
    "result = print_twice('Bing')"
   ]
  },
  {
   "cell_type": "code",
   "execution_count": 191,
   "metadata": {},
   "outputs": [
    {
     "name": "stdout",
     "output_type": "stream",
     "text": [
      "None\n"
     ]
    }
   ],
   "source": [
    "print(result)"
   ]
  },
  {
   "cell_type": "markdown",
   "metadata": {},
   "source": [
    "`None` 这个值和字符串 `'None'` 不同。这是一个具有独立类型的特殊值："
   ]
  },
  {
   "cell_type": "code",
   "execution_count": 192,
   "metadata": {},
   "outputs": [
    {
     "name": "stdout",
     "output_type": "stream",
     "text": [
      "<class 'NoneType'>\n"
     ]
    }
   ],
   "source": [
    "print(type(None))"
   ]
  },
  {
   "cell_type": "markdown",
   "metadata": {},
   "source": [
    "目前为止，我们写的函数都是无返回值函数。我们将在几章之后开始编写有返回值函数。"
   ]
  },
  {
   "cell_type": "markdown",
   "metadata": {},
   "source": [
    "## 3.11 为什么使用函数？"
   ]
  },
  {
   "cell_type": "markdown",
   "metadata": {},
   "source": [
    "你可能还不明白为什么值得将一个程序分解成多个函数。原因包括以下几点：\n",
    "\n",
    "- 创建一个新的函数可以让你给一组语句命名，这可以让你的程序更容易阅读和调试。\n",
    "\n",
    "- 通过消除重复的代码，函数精简了程序。以后，如果你要做个变动，你只需在一处修改即可。\n",
    "\n",
    "- 将一个长程序分解为多个函数，可以让你一次调试一部分，然后再将它们组合为一个可行的整体。\n",
    "\n",
    "- 设计良好的函数经常对多个程序都有帮助。一旦你写出并调试好一个函数，你就可以重复使用它。"
   ]
  },
  {
   "cell_type": "markdown",
   "metadata": {},
   "source": [
    "## 3.12 调试"
   ]
  },
  {
   "cell_type": "markdown",
   "metadata": {},
   "source": [
    "调试，是你能获得的最重要的技能之一。虽然调试会让人沮丧，但却是编程过程中最富含智慧、挑战以及乐趣的一部分。\n",
    "\n",
    "在某些方面，调试像是侦探工作。你面对一些线索，必须推理出是什么进程 (processes)和事件 (events) 导致了你看到的结果。\n",
    "\n",
    "调试也像是一门实验性科学。一旦你猜到大概哪里出错了，你可以修改程序，再试一次。如果你的假设是正确的，那么你就可以预测到修改的结果，并且离正常运行的程序又近了一步。如果你的假设是错误的，你就不得不再提一个新的假设。如夏洛克·福尔摩斯所指出的 “当你排除了所有的不可能，无论剩下的是什么，不管多么难以置信，一定就是真相。”（阿瑟·柯南·道尔，《四签名》）\n",
    "\n",
    "对某些人来说，编程和调试是同一件事。也就是说，编程是逐步调试一个程序，直到它满足了你期待的过程。这意味着，你应该从一个能*正常运行* (working) 的程序开始，每次只做一些小改动，并同步进行调试。\n",
    "\n",
    "举个例子，Linux 是一个有着数百万行代码的操作系统但是它一开始，只是 Linus Torvalds 写的一个用于研究 Intel 80386 芯片的简单程序。根据 Larry Greenfield 的描述，“Linus 的早期项目中，有一个能够交替打印 AAAA 和 BBBB 的程序。这个程序后来演变为了 Linux。”（Linux 用户手册 Beta 版本 1）。"
   ]
  },
  {
   "cell_type": "markdown",
   "metadata": {},
   "source": [
    "## 3.13 术语表"
   ]
  },
  {
   "cell_type": "markdown",
   "metadata": {},
   "source": [
    "**函数 (function)**： 执行某种有用运算的命名语句序列。函数可以接受形参，也可以不接受；可以返回一个结果，也可以不返回。\n",
    "\n",
    "**函数定义 (function definition)：**创建一个新函数的语句，指定了函数名、形参以及所包含的语句。\n",
    "\n",
    "**函数对象 (function object)：** 函数定义所创建的一个值。函数名是一个指向函数对象的变量。\n",
    "\n",
    "**函数头 (header)：** 函数定义的第一行。\n",
    "\n",
    "**函数体 (body)：** 函数定义内部的语句序列。形参 (parameters)： 函数内部用于指向被传作实参的值的名字。\n",
    "\n",
    "**函数调用 (function call) ：** 运行一个函数的语句。它包括了函数名，紧随其后的实参列表，实参用圆括号包围起来。\n",
    "\n",
    "**实参 (argument) ：** 函数调用时传给函数的值。这个值被赋给函数中相对应的形参。\n",
    "\n",
    "**局部变量 (local variable)：** 函数内部定义的变量。局部变量只能在函数内部使用。\n",
    "\n",
    "**返回值 (return value)：** 函数执行的结果。如果函数调用被用作表达式，其返回值是这个表达式的值。\n",
    "\n",
    "**有返回值函数 (fruitful function)：** 会返回一个值的函数。\n",
    "\n",
    "**无返回值函数 (void function)：** 总是返回 None 的函数。\n",
    "\n",
    "`None`： 无返回值函数返回的一个特殊值。\n",
    "\n",
    "**模块 (module)：** 包含了一组相关函数及其他定义的的文件。\n",
    "\n",
    "**导入语句 (import statement)：** 读取一个模块文件，并创建一个模块对象的语句。\n",
    "\n",
    "**模块对象 (module object)：** 导入语句创建的一个值，可以让开发者访问模块内部定义的值。\n",
    "\n",
    "**点标记法 (dot notation)：** 调用另一个模块中函数的语法，需要指定模块名称，之后跟着一个点（句号）和函数名。\n",
    "\n",
    "**组合 (composition)：** 将一个表达式嵌入一个更长的表达式，或者是将一个语句嵌入一个更长语句的一部分。\n",
    "\n",
    "**执行流程 (flow of execution)：** 语句执行的顺序。\n",
    "\n",
    "**堆栈图 (stack diagram)：** 一种图形化表示堆栈的方法，堆栈中包括函数、函数的变量及其所指向的值。\n",
    "\n",
    "**栈帧 (frame) ：** 堆栈图中一个栈帧，代表一个函数调用。其中包含了函数的局部变量和形参。\n",
    "\n",
    "**回溯 (traceback) ：** 当出现异常时，解释器打印出的出错时正在执行的函数列表。"
   ]
  },
  {
   "cell_type": "markdown",
   "metadata": {},
   "source": [
    "## 3.14 练习"
   ]
  },
  {
   "attachments": {
    "image.png": {
     "image/png": "[encoded data removed]"
    }
   },
   "cell_type": "markdown",
   "metadata": {},
   "source": [
    "**Exercise 3.1.** 编写一个名为`right_justify` 的函数，函数接受一个名为`s`的字符串作为形参，并在打印足够多的前导空格 (leading space) 之后打印这个字符串，使得字符串的最后一个字母位于显示屏的第 70 列。\n",
    "![image.png](attachment:image.png)\n",
    "\n",
    "提示：使用字符串拼接 (string concatenation) 和重复。另外，Python 提供了一个名叫`len`的内建函数，可以返回一个字符串的长度，因此`len('allen')` 的值是 "
   ]
  },
  {
   "cell_type": "code",
   "execution_count": 193,
   "metadata": {},
   "outputs": [],
   "source": [
    "def right_justify(str):\n",
    "    tab = ''\n",
    "    for i in range(70 - len(str)):\n",
    "        tab += ' '\n",
    "    print(tab + str)\n",
    "    #print(len(tab + str))"
   ]
  },
  {
   "cell_type": "code",
   "execution_count": 194,
   "metadata": {},
   "outputs": [
    {
     "name": "stdout",
     "output_type": "stream",
     "text": [
      "                                                                 monty\n"
     ]
    }
   ],
   "source": [
    "right_justify('monty')"
   ]
  },
  {
   "cell_type": "markdown",
   "metadata": {},
   "source": [
    "**Exercise 3.2.** 函数对象是一个可以赋值给变量的值，也可以作为实参传递。例如，do_twice函数接受函数对象作为实参，并调用这个函数对象两次："
   ]
  },
  {
   "cell_type": "code",
   "execution_count": 195,
   "metadata": {},
   "outputs": [],
   "source": [
    "def do_twice(f):\n",
    "    f()\n",
    "    f()"
   ]
  },
  {
   "cell_type": "markdown",
   "metadata": {},
   "source": [
    "下面这个示例使用`do_twice` 来调用名为`print_spam` 的函数两次。"
   ]
  },
  {
   "cell_type": "code",
   "execution_count": 196,
   "metadata": {},
   "outputs": [
    {
     "name": "stdout",
     "output_type": "stream",
     "text": [
      "spam\n",
      "spam\n"
     ]
    }
   ],
   "source": [
    "def print_spam():\n",
    "    print('spam')\n",
    "    \n",
    "do_twice(print_spam)"
   ]
  },
  {
   "cell_type": "markdown",
   "metadata": {},
   "source": [
    "1. 将这个示例写入脚本，并测试。\n",
    "\n",
    "2. 修改`do_twice`，使其接受两个实参，一个是函数对象，另一个是值。然后调用这一函数对象两次，将那个值传递给函数对象作为实参。\n",
    "\n",
    "3. 从本章前面一些的示例中，将`print_twice` 函数的定义复制到脚本中。\n",
    "\n",
    "4. 使用修改过的`do_twice` ，调用`print_twice` 两次，将`spam` 传递给它作为实参。\n",
    "\n",
    "5. 定义一个名为`do_four` 的新函数，其接受一个函数对象和一个值作为实参。调用这个函数对象四次，将那个值作为形参传递给它。函数体中应该只有两条语句，而不是四条。"
   ]
  },
  {
   "cell_type": "code",
   "execution_count": 197,
   "metadata": {},
   "outputs": [
    {
     "name": "stdout",
     "output_type": "stream",
     "text": [
      "spam\n",
      "spam\n",
      "spam\n",
      "spam\n",
      "\n",
      "spam\n",
      "spam\n",
      "spam\n",
      "spam\n",
      "spam\n",
      "spam\n",
      "spam\n",
      "spam\n"
     ]
    }
   ],
   "source": [
    "def do_twice(func, value):\n",
    "    func(value)\n",
    "    func(value)\n",
    "    \n",
    "def print_twice(arg):\n",
    "    print(arg)\n",
    "    print(arg)\n",
    "    \n",
    "def do_four(func, arg):\n",
    "    do_twice(func, arg)\n",
    "    do_twice(func, arg)\n",
    "    \n",
    "do_twice(print_twice, 'spam')\n",
    "print('')\n",
    "do_four(print_twice, 'spam')"
   ]
  },
  {
   "cell_type": "markdown",
   "metadata": {},
   "source": [
    "**Exercise 3.3.** 注意：请使用我们目前学过的语句和特性来完成本题。"
   ]
  },
  {
   "attachments": {
    "image.png": {
     "image/png": "[encoded data removed]"
    }
   },
   "cell_type": "markdown",
   "metadata": {},
   "source": [
    "1. 编写一个能画出如下网格 (grid) 的函数：\n",
    "\n",
    "![image.png](attachment:image.png)\n",
    "\n",
    "提示：你可以使用一个用逗号分隔的值序列在一行中打印出多个值："
   ]
  },
  {
   "cell_type": "code",
   "execution_count": 198,
   "metadata": {},
   "outputs": [
    {
     "name": "stdout",
     "output_type": "stream",
     "text": [
      "+ -\n"
     ]
    }
   ],
   "source": [
    "print('+', '-')"
   ]
  },
  {
   "cell_type": "markdown",
   "metadata": {},
   "source": [
    "`print`函数默认会自动换行，但是你可以阻止这个行为，只需要像下面这样将行结尾编程要给空格："
   ]
  },
  {
   "cell_type": "code",
   "execution_count": 199,
   "metadata": {},
   "outputs": [
    {
     "name": "stdout",
     "output_type": "stream",
     "text": [
      "+ -\n"
     ]
    }
   ],
   "source": [
    "print('+', end=' ')\n",
    "print('-')"
   ]
  },
  {
   "cell_type": "markdown",
   "metadata": {},
   "source": [
    "这两个语句的输出结果是`+ −`。\n",
    "\n",
    "一个没有传入实参的'print' 语句会结束当前行，跳到下一行。"
   ]
  },
  {
   "cell_type": "code",
   "execution_count": 200,
   "metadata": {},
   "outputs": [
    {
     "name": "stdout",
     "output_type": "stream",
     "text": [
      "+ - - - - + - - - - +\n",
      "|         |         |\n",
      "|         |         |\n",
      "|         |         |\n",
      "|         |         |\n",
      "+ - - - - + - - - - +\n",
      "|         |         |\n",
      "|         |         |\n",
      "|         |         |\n",
      "|         |         |\n",
      "+ - - - - + - - - - +\n"
     ]
    }
   ],
   "source": [
    "def do_twice(f):\n",
    "    f()\n",
    "    f()\n",
    "    \n",
    "def do_four(f):\n",
    "    do_twice(f)\n",
    "    do_twice(f)\n",
    "\n",
    "def print_beam():\n",
    "    print('+ - - - -', end=' ')\n",
    "\n",
    "def print_post():\n",
    "    print('|        ', end=' ')\n",
    "    \n",
    "def print_beams():\n",
    "    do_twice(print_beam)\n",
    "    print('+')\n",
    "\n",
    "def print_posts():\n",
    "    do_twice(print_post)\n",
    "    print('|')\n",
    "    \n",
    "def print_row():\n",
    "    print_beams()\n",
    "    do_four(print_posts)\n",
    "    \n",
    "def print_grid():\n",
    "    do_twice(print_row)\n",
    "    print_beams()\n",
    "    \n",
    "print_grid()"
   ]
  },
  {
   "cell_type": "code",
   "execution_count": 201,
   "metadata": {},
   "outputs": [
    {
     "name": "stdout",
     "output_type": "stream",
     "text": [
      "+ - - - - + - - - - + - - - - + - - - - + \n",
      "|         |         |         |         | \n",
      "|         |         |         |         | \n",
      "|         |         |         |         | \n",
      "|         |         |         |         | \n",
      "+ - - - - + - - - - + - - - - + - - - - + \n",
      "|         |         |         |         | \n",
      "|         |         |         |         | \n",
      "|         |         |         |         | \n",
      "|         |         |         |         | \n",
      "+ - - - - + - - - - + - - - - + - - - - + \n",
      "|         |         |         |         | \n",
      "|         |         |         |         | \n",
      "|         |         |         |         | \n",
      "|         |         |         |         | \n",
      "+ - - - - + - - - - + - - - - + - - - - + \n",
      "|         |         |         |         | \n",
      "|         |         |         |         | \n",
      "|         |         |         |         | \n",
      "|         |         |         |         | \n",
      "+ - - - - + - - - - + - - - - + - - - - + \n"
     ]
    }
   ],
   "source": [
    "def one_four_one(f, g, h):\n",
    "    f()\n",
    "    do_four(g)\n",
    "    h()\n",
    "\n",
    "def print_plus():\n",
    "    print('+', end=' ')\n",
    "\n",
    "def print_dash():\n",
    "    print('-', end=' ')\n",
    "    \n",
    "def print_bar():\n",
    "    print('|', end=' ')\n",
    "\n",
    "def print_space():\n",
    "    print(' ', end=' ')\n",
    "\n",
    "def print_end():\n",
    "    print()\n",
    "    \n",
    "def nothing():\n",
    "    \"do nothing\" \n",
    "\n",
    "def print1beam():\n",
    "    one_four_one(nothing, print_dash, print_plus)\n",
    "\n",
    "def print1post():\n",
    "    one_four_one(nothing, print_space, print_bar)\n",
    "\n",
    "def print4beams():\n",
    "    one_four_one(print_plus, print1beam, print_end)\n",
    "\n",
    "def print4posts():\n",
    "    one_four_one(print_bar, print1post, print_end)\n",
    "\n",
    "def print_row():\n",
    "    one_four_one(nothing, print4posts, print4beams)\n",
    "\n",
    "def print_grid():\n",
    "    one_four_one(print4beams, print_row, nothing)\n",
    "\n",
    "print_grid()"
   ]
  }
 ],
 "metadata": {
  "kernelspec": {
   "display_name": "Python 3",
   "language": "python",
   "name": "python3"
  },
  "language_info": {
   "codemirror_mode": {
    "name": "ipython",
    "version": 3
   },
   "file_extension": ".py",
   "mimetype": "text/x-python",
   "name": "python",
   "nbconvert_exporter": "python",
   "pygments_lexer": "ipython3",
   "version": "3.6.5"
  }
 },
 "nbformat": 4,
 "nbformat_minor": 2
}
