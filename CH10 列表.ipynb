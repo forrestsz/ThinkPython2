{
 "cells": [
  {
   "cell_type": "markdown",
   "metadata": {},
   "source": [
    "# 第十章 列表"
   ]
  },
  {
   "cell_type": "markdown",
   "metadata": {},
   "source": [
    "本章介绍 Python 中最有用的内置类型之一：*列表* (list)。你还将进一步学习关于对象的知识以及同一个对象拥有多个名称时会发生什么。"
   ]
  },
  {
   "cell_type": "markdown",
   "metadata": {},
   "source": [
    "## 10.1 列表是一个序列"
   ]
  },
  {
   "cell_type": "markdown",
   "metadata": {},
   "source": [
    "与字符串类似，*列表* 是由多个值组成的序列。在字符串中，每个值都是字符；在列表中，值可以是任何数据类型。列表中的值称为*元素* (element) ，有时也被称为*项* (item)。\n",
    "\n",
    "创建新列表的方法有多种；最简单的方法是用方括号 ( `[` 和 `]` ) 将元素包括起来："
   ]
  },
  {
   "cell_type": "code",
   "execution_count": 2,
   "metadata": {},
   "outputs": [
    {
     "data": {
      "text/plain": [
       "[10, 20, 30, 40]"
      ]
     },
     "execution_count": 2,
     "metadata": {},
     "output_type": "execute_result"
    }
   ],
   "source": [
    "[10, 20, 30, 40]"
   ]
  },
  {
   "cell_type": "code",
   "execution_count": 3,
   "metadata": {},
   "outputs": [
    {
     "data": {
      "text/plain": [
       "['cruy frog', 'ram bladder', 'lark vomit']"
      ]
     },
     "execution_count": 3,
     "metadata": {},
     "output_type": "execute_result"
    }
   ],
   "source": [
    "['cruy frog', 'ram bladder', 'lark vomit']"
   ]
  },
  {
   "cell_type": "markdown",
   "metadata": {},
   "source": [
    "第一个例子是包含 4 个整数的列表。第二个是包含 3 个字符串的列表。一个列表中的元素不需要是相同的数据类型。下面的列表包含一个字符串、一个浮点数、一个整数和另一个列表："
   ]
  },
  {
   "cell_type": "code",
   "execution_count": 4,
   "metadata": {},
   "outputs": [
    {
     "data": {
      "text/plain": [
       "['spam', 2.0, 5, [10, 20]]"
      ]
     },
     "execution_count": 4,
     "metadata": {},
     "output_type": "execute_result"
    }
   ],
   "source": [
    "['spam', 2.0, 5, [10, 20]]"
   ]
  },
  {
   "cell_type": "markdown",
   "metadata": {},
   "source": [
    "一个列表在另一个列表中，称为*嵌套*列表。\n",
    "\n",
    "一个不包含元素的列表被称为空列表；你可以用空的方括号 `[]` 创建一个空列表。\n",
    "\n",
    "正如你想的那样，你可以将列表的值赋给变量："
   ]
  },
  {
   "cell_type": "code",
   "execution_count": 5,
   "metadata": {},
   "outputs": [
    {
     "name": "stdout",
     "output_type": "stream",
     "text": [
      "['Cheddar', 'Edam', 'Gouda'] [42, 123] []\n"
     ]
    }
   ],
   "source": [
    "cheeses = ['Cheddar', 'Edam', 'Gouda']\n",
    "numbers = [42, 123]\n",
    "empty = []\n",
    "print(cheeses, numbers, empty)"
   ]
  },
  {
   "cell_type": "markdown",
   "metadata": {},
   "source": [
    "## 10.2 列表是可变的"
   ]
  },
  {
   "cell_type": "markdown",
   "metadata": {},
   "source": [
    "访问列表中元素的语法，与访问字符串中字符的语法相同，都是通过方括号运算符实现的。括号中的表达式指定了元素的索引。记住，索引从 0 开始："
   ]
  },
  {
   "cell_type": "code",
   "execution_count": 7,
   "metadata": {},
   "outputs": [
    {
     "data": {
      "text/plain": [
       "'Cheddar'"
      ]
     },
     "execution_count": 7,
     "metadata": {},
     "output_type": "execute_result"
    }
   ],
   "source": [
    "cheeses[0]"
   ]
  },
  {
   "cell_type": "markdown",
   "metadata": {},
   "source": [
    "和字符串不同的是，列表是可变的。当括号运算符出现在赋值语句的左边时，它就指向了列表中将被赋值的元素。"
   ]
  },
  {
   "cell_type": "code",
   "execution_count": 9,
   "metadata": {},
   "outputs": [
    {
     "data": {
      "text/plain": [
       "[42, 5]"
      ]
     },
     "execution_count": 9,
     "metadata": {},
     "output_type": "execute_result"
    }
   ],
   "source": [
    "numbers = [42, 123]\n",
    "numbers[1] = 5\n",
    "numbers"
   ]
  },
  {
   "attachments": {
    "image.png": {
     "image/png": "[encoded data removed]"
    }
   },
   "cell_type": "markdown",
   "metadata": {},
   "source": [
    "`numbers` 中索引为 1 的元素，原来是 123，现在变成了 5。\n",
    "\n",
    "图 10.1 展示了 `cheeses` 、`nubmers` 和 `empty` 的状态图。\n",
    "\n",
    "![image.png](attachment:image.png)\n",
    "\n",
    "列表用外部标有 “list” 的盒子表示，盒子内部是列表的元素。`cheeses` 指向一个有 3 个元素的列表，3 个元素的下标分别是 0、1、2。`numbers` 包含两个元素；状态图显示第二个元素原来是 123，被重新赋值为 5。`empty` 对应一个没有元素的列表。\n",
    "\n",
    "列表下标的工作原理和字符串下标相同：\n",
    "- 任何整数表达式都可以用作下标。\n",
    "- 如果你试图读或写一个不存在的元素，你将会得到一个*索引错误*。\n",
    "- 如果下标是负数，它将从列表的末端开始访问列表。\n",
    "\n",
    "`in` 运算符在列表中同样可以使用。"
   ]
  },
  {
   "cell_type": "code",
   "execution_count": 11,
   "metadata": {},
   "outputs": [
    {
     "data": {
      "text/plain": [
       "True"
      ]
     },
     "execution_count": 11,
     "metadata": {},
     "output_type": "execute_result"
    }
   ],
   "source": [
    "cheeses = ['Cheddar', 'Edam', 'Gouda']\n",
    "'Edam' in cheeses"
   ]
  },
  {
   "cell_type": "code",
   "execution_count": 12,
   "metadata": {},
   "outputs": [
    {
     "data": {
      "text/plain": [
       "False"
      ]
     },
     "execution_count": 12,
     "metadata": {},
     "output_type": "execute_result"
    }
   ],
   "source": [
    "'Brie' in cheeses"
   ]
  },
  {
   "cell_type": "markdown",
   "metadata": {},
   "source": [
    "## 10.3 列表遍历"
   ]
  },
  {
   "cell_type": "markdown",
   "metadata": {},
   "source": [
    "最常用的遍历列表的方式是使用 `for` 循环。语法和字符串遍历类似："
   ]
  },
  {
   "cell_type": "code",
   "execution_count": 16,
   "metadata": {},
   "outputs": [
    {
     "name": "stdout",
     "output_type": "stream",
     "text": [
      "Cheddar\n",
      "Edam\n",
      "Gouda\n"
     ]
    }
   ],
   "source": [
    "for cheese in cheeses:\n",
    "    print(cheese)"
   ]
  },
  {
   "cell_type": "markdown",
   "metadata": {},
   "source": [
    "如果你只需要读取列表中的元素，这种方法已经足够。然而，如果你想要写入或者更新\n",
    "列表中的元素，你需要通过下标访问。一种常用的方法是结合内置函数 `range` 和 `len` ："
   ]
  },
  {
   "cell_type": "code",
   "execution_count": 18,
   "metadata": {},
   "outputs": [],
   "source": [
    "for i in range(len(numbers)):\n",
    "    numbers[i] = numbers[i] * 2"
   ]
  },
  {
   "cell_type": "markdown",
   "metadata": {},
   "source": [
    "这个循环将遍历列表并更新每个元素。`len` 返回列表中的元素个数。`range` 返回一个包含从 $0$ 到 $n − 1$ 下标的列表，其中 $n$ 是列表的长度。每次循环中，`i` 得到下一个元素的下标。循环主体中的赋值语句使用 `i` 读取该元素的旧值，并赋予其一个新值。\n",
    "\n",
    "对一个空列表执行 `for` 循环时，将不会执行循环的主体："
   ]
  },
  {
   "cell_type": "code",
   "execution_count": 19,
   "metadata": {},
   "outputs": [],
   "source": [
    "for x in []:\n",
    "    print('This never happens.')"
   ]
  },
  {
   "cell_type": "markdown",
   "metadata": {},
   "source": [
    "尽管一个列表可以包含另一个列表，嵌套的列表本身还是被看作一个单个元素。下面这个列表的长度是4："
   ]
  },
  {
   "cell_type": "code",
   "execution_count": 20,
   "metadata": {},
   "outputs": [
    {
     "data": {
      "text/plain": [
       "['spam', 1, ['Brie', 'Roquefort', 'Pol le Veq'], [1, 2, 3]]"
      ]
     },
     "execution_count": 20,
     "metadata": {},
     "output_type": "execute_result"
    }
   ],
   "source": [
    "['spam', 1, ['Brie', 'Roquefort', 'Pol le Veq'], [1, 2, 3]]"
   ]
  },
  {
   "cell_type": "markdown",
   "metadata": {},
   "source": [
    "## 10.4 列表操作"
   ]
  },
  {
   "cell_type": "markdown",
   "metadata": {},
   "source": [
    "*加号运算符*`+` 拼接多个列表："
   ]
  },
  {
   "cell_type": "code",
   "execution_count": 25,
   "metadata": {},
   "outputs": [
    {
     "data": {
      "text/plain": [
       "[1, 2, 3, 4, 5, 6]"
      ]
     },
     "execution_count": 25,
     "metadata": {},
     "output_type": "execute_result"
    }
   ],
   "source": [
    "a = [1, 2, 3]\n",
    "b = [4, 5, 6]\n",
    "c = a+b\n",
    "c"
   ]
  },
  {
   "cell_type": "markdown",
   "metadata": {},
   "source": [
    "*乘号运算符*`*` 以给定次数的重复一个列表："
   ]
  },
  {
   "cell_type": "code",
   "execution_count": 28,
   "metadata": {},
   "outputs": [
    {
     "data": {
      "text/plain": [
       "[0, 0, 0, 0]"
      ]
     },
     "execution_count": 28,
     "metadata": {},
     "output_type": "execute_result"
    }
   ],
   "source": [
    "[0] * 4"
   ]
  },
  {
   "cell_type": "code",
   "execution_count": 29,
   "metadata": {},
   "outputs": [
    {
     "data": {
      "text/plain": [
       "[1, 2, 3, 1, 2, 3, 1, 2, 3]"
      ]
     },
     "execution_count": 29,
     "metadata": {},
     "output_type": "execute_result"
    }
   ],
   "source": [
    "[1, 2, 3] * 3"
   ]
  },
  {
   "cell_type": "markdown",
   "metadata": {},
   "source": [
    "第一个例子重复 4 次。第二个例子重复了那个列表 3 次。"
   ]
  },
  {
   "cell_type": "markdown",
   "metadata": {},
   "source": [
    "## 10.5 列表切片"
   ]
  },
  {
   "cell_type": "markdown",
   "metadata": {},
   "source": [
    "*切片* (slice) 运算符同样适用于列表："
   ]
  },
  {
   "cell_type": "code",
   "execution_count": 32,
   "metadata": {},
   "outputs": [],
   "source": [
    "t = ['a', 'b', 'c', 'd', 'e', 'f']"
   ]
  },
  {
   "cell_type": "code",
   "execution_count": 33,
   "metadata": {},
   "outputs": [
    {
     "data": {
      "text/plain": [
       "['b', 'c']"
      ]
     },
     "execution_count": 33,
     "metadata": {},
     "output_type": "execute_result"
    }
   ],
   "source": [
    "t[1:3]"
   ]
  },
  {
   "cell_type": "code",
   "execution_count": 35,
   "metadata": {},
   "outputs": [
    {
     "data": {
      "text/plain": [
       "['a', 'b', 'c', 'd']"
      ]
     },
     "execution_count": 35,
     "metadata": {},
     "output_type": "execute_result"
    }
   ],
   "source": [
    "t[:4]"
   ]
  },
  {
   "cell_type": "code",
   "execution_count": 36,
   "metadata": {},
   "outputs": [
    {
     "data": {
      "text/plain": [
       "['d', 'e', 'f']"
      ]
     },
     "execution_count": 36,
     "metadata": {},
     "output_type": "execute_result"
    }
   ],
   "source": [
    "t[3:]"
   ]
  },
  {
   "cell_type": "markdown",
   "metadata": {},
   "source": [
    "如果你省略第一个索引，切片将从列表头开始。如果你省略第二个索引，切片将会到列表尾结束。所以如果你两者都省略，切片就是整个列表的一个拷贝。"
   ]
  },
  {
   "cell_type": "code",
   "execution_count": 37,
   "metadata": {},
   "outputs": [
    {
     "data": {
      "text/plain": [
       "['a', 'b', 'c', 'd', 'e', 'f']"
      ]
     },
     "execution_count": 37,
     "metadata": {},
     "output_type": "execute_result"
    }
   ],
   "source": [
    "t[:]"
   ]
  },
  {
   "cell_type": "markdown",
   "metadata": {},
   "source": [
    "由于列表是可变的，通常在修改列表之前，对列表进行拷贝是很有用的。\n",
    "\n",
    "切片运算符放在赋值语句的左边时，可以一次更新多个元素："
   ]
  },
  {
   "cell_type": "code",
   "execution_count": 39,
   "metadata": {},
   "outputs": [
    {
     "data": {
      "text/plain": [
       "['a', 'x', 'y', 'd', 'e', 'f']"
      ]
     },
     "execution_count": 39,
     "metadata": {},
     "output_type": "execute_result"
    }
   ],
   "source": [
    "t = ['a', 'b', 'c', 'd', 'e', 'f']\n",
    "t[1:3] = ['x', 'y']\n",
    "t"
   ]
  },
  {
   "cell_type": "markdown",
   "metadata": {},
   "source": [
    "## 10.6 列表方法"
   ]
  },
  {
   "cell_type": "markdown",
   "metadata": {},
   "source": [
    "Python 为列表提供了一些方法。例如，`append` 添加一个新元素到列表的末端。"
   ]
  },
  {
   "cell_type": "code",
   "execution_count": 44,
   "metadata": {},
   "outputs": [
    {
     "data": {
      "text/plain": [
       "['a', 'b', 'c', 'd']"
      ]
     },
     "execution_count": 44,
     "metadata": {},
     "output_type": "execute_result"
    }
   ],
   "source": [
    "t = ['a', 'b', 'c']\n",
    "t.append('d')\n",
    "t"
   ]
  },
  {
   "cell_type": "markdown",
   "metadata": {},
   "source": [
    "`extend` 将接受一个列表作为参数，并将其其中的所有元素添加至目标列表中："
   ]
  },
  {
   "cell_type": "code",
   "execution_count": 46,
   "metadata": {},
   "outputs": [
    {
     "data": {
      "text/plain": [
       "['a', 'b', 'c', 'd', 'e']"
      ]
     },
     "execution_count": 46,
     "metadata": {},
     "output_type": "execute_result"
    }
   ],
   "source": [
    "t1 = ['a', 'b', 'c']\n",
    "t2 = ['d', 'e']\n",
    "t1.extend(t2)\n",
    "t1"
   ]
  },
  {
   "cell_type": "markdown",
   "metadata": {},
   "source": [
    "这个例子中 `t2` 没有改动。\n",
    "\n",
    "`sort` 将列表中的元素从小到大进行排序："
   ]
  },
  {
   "cell_type": "code",
   "execution_count": 50,
   "metadata": {},
   "outputs": [
    {
     "data": {
      "text/plain": [
       "['a', 'b', 'c', 'd', 'e']"
      ]
     },
     "execution_count": 50,
     "metadata": {},
     "output_type": "execute_result"
    }
   ],
   "source": [
    "t = ['d', 'c', 'e', 'b', 'a']\n",
    "t.sort()\n",
    "t"
   ]
  },
  {
   "cell_type": "markdown",
   "metadata": {},
   "source": [
    "大部分的列表方法都是无返回值的；它们对列表进行修改，然后返回 None。如果你意外的写了 `t.sort()`，你将会对结果感到失望的。"
   ]
  },
  {
   "cell_type": "code",
   "execution_count": 51,
   "metadata": {},
   "outputs": [
    {
     "name": "stdout",
     "output_type": "stream",
     "text": [
      "None\n"
     ]
    }
   ],
   "source": [
    "print(t.sort())"
   ]
  },
  {
   "cell_type": "markdown",
   "metadata": {},
   "source": [
    "## 10.7 映射、筛选和归并"
   ]
  },
  {
   "cell_type": "markdown",
   "metadata": {},
   "source": [
    "你可以这样使用循环，对列表中所有元素求和："
   ]
  },
  {
   "cell_type": "code",
   "execution_count": 77,
   "metadata": {},
   "outputs": [
    {
     "data": {
      "text/plain": [
       "6"
      ]
     },
     "execution_count": 77,
     "metadata": {},
     "output_type": "execute_result"
    }
   ],
   "source": [
    "def add_all(t):\n",
    "    total = 0\n",
    "    for x in t:\n",
    "        total += x\n",
    "    return total\n",
    "\n",
    "a = [1,2,3]\n",
    "add_all(a)"
   ]
  },
  {
   "cell_type": "markdown",
   "metadata": {},
   "source": [
    "`total` 被初始化为 0。每次循环时，`x` 从列表中获取一个元素。运算符 `+=` 提供了一个快捷的更新变量的方法。这个*增量赋值语句* (augmented assignment statement)。"
   ]
  },
  {
   "cell_type": "code",
   "execution_count": 58,
   "metadata": {},
   "outputs": [],
   "source": [
    "total, x = 0, 1\n",
    "total += x"
   ]
  },
  {
   "cell_type": "markdown",
   "metadata": {},
   "source": [
    "等价于"
   ]
  },
  {
   "cell_type": "code",
   "execution_count": 60,
   "metadata": {},
   "outputs": [],
   "source": [
    "total = total + x"
   ]
  },
  {
   "cell_type": "markdown",
   "metadata": {},
   "source": [
    "当循环执行时，`total` 将累计元素的和；一个这样的变量有时被称为*累加器* (accumulator) 。\n",
    "把一个列表中的元素加起来是一个很常用的操作，所以 Python 将其设置为一个内建内置函数 `sum`："
   ]
  },
  {
   "cell_type": "code",
   "execution_count": 62,
   "metadata": {},
   "outputs": [
    {
     "data": {
      "text/plain": [
       "6"
      ]
     },
     "execution_count": 62,
     "metadata": {},
     "output_type": "execute_result"
    }
   ],
   "source": [
    "t = [1, 2, 3]\n",
    "sum(t)"
   ]
  },
  {
   "cell_type": "markdown",
   "metadata": {},
   "source": [
    "一个像这样的将一系列的元素合并成一个单一值的操作有时称为*归并* (reduce) 。\n",
    "\n",
    "有时，你在构建一个列表时还需要遍历另一个列表。例如，下面的函数接受一个字符串列表"
   ]
  },
  {
   "cell_type": "code",
   "execution_count": 73,
   "metadata": {},
   "outputs": [
    {
     "data": {
      "text/plain": [
       "['A', 'B', 'C']"
      ]
     },
     "execution_count": 73,
     "metadata": {},
     "output_type": "execute_result"
    }
   ],
   "source": [
    "def capitalize_all(t):\n",
    "    res = []\n",
    "    for s in t:\n",
    "        res.append(s.capitalize())\n",
    "    return res\n",
    "\n",
    "a = 'abc'\n",
    "capitalize_all(a)"
   ]
  },
  {
   "cell_type": "markdown",
   "metadata": {},
   "source": [
    "`res` 被初始化为一个空列表；每次循环时，我们添加下一个元素。所以 `res` 是另一种形式的累加器。\n",
    "\n",
    "类似 `capitalize_all` 这样的操作有时被称为*映射* (map) ，因为它 ‘‘映射’’ 一个函数 (在本例中是方法 `capitalize` ) 到序列中的每个元素上。\n",
    "\n",
    "另一个常见的操作是从列表中选择一些元素，并返回一个子列表。例如，下面的函数读取一个字符串列表，并返回一个仅包含大写字符串的列表："
   ]
  },
  {
   "cell_type": "code",
   "execution_count": 79,
   "metadata": {},
   "outputs": [
    {
     "data": {
      "text/plain": [
       "['A', 'B', 'C']"
      ]
     },
     "execution_count": 79,
     "metadata": {},
     "output_type": "execute_result"
    }
   ],
   "source": [
    "def only_upper(t):\n",
    "    res = []\n",
    "    for s in t:\n",
    "        if s.isupper():\n",
    "            res.append(s)\n",
    "    return res\n",
    "\n",
    "a = 'AaBbCc'\n",
    "only_upper(a)"
   ]
  },
  {
   "cell_type": "markdown",
   "metadata": {},
   "source": [
    "`isupper` 是一个字符串方法，如果字符串仅含有大写字母，则返回 True。\n",
    "\n",
    "类似 `only_upper` 这样的操作被称为*筛选 *(filter) ，因为它选中某些元素，然后剔除剩余的元素。\n",
    "\n",
    "大部分常用列表操作可以用映射、筛选和归并这个组合表示。"
   ]
  },
  {
   "cell_type": "markdown",
   "metadata": {},
   "source": [
    "## 10.8 删除元素"
   ]
  },
  {
   "cell_type": "markdown",
   "metadata": {},
   "source": [
    "有多种方法可以从列表中删除一个元素。如果你知道元素的下标，你可以使用 `'pop'`："
   ]
  },
  {
   "cell_type": "code",
   "execution_count": 82,
   "metadata": {},
   "outputs": [
    {
     "data": {
      "text/plain": [
       "['a', 'c']"
      ]
     },
     "execution_count": 82,
     "metadata": {},
     "output_type": "execute_result"
    }
   ],
   "source": [
    "t = ['a', 'b', 'c']\n",
    "x = t.pop(1)\n",
    "t"
   ]
  },
  {
   "cell_type": "code",
   "execution_count": 83,
   "metadata": {},
   "outputs": [
    {
     "data": {
      "text/plain": [
       "'b'"
      ]
     },
     "execution_count": 83,
     "metadata": {},
     "output_type": "execute_result"
    }
   ],
   "source": [
    "x"
   ]
  },
  {
   "cell_type": "markdown",
   "metadata": {},
   "source": [
    "`pop` 修改列表，并返回被移除的元素。如果你不提供下标，它将移除并返回最后一个元素。\n",
    "\n",
    "如果你不需要被移除的元素，可以使用 `del` 元素符。"
   ]
  },
  {
   "cell_type": "code",
   "execution_count": 92,
   "metadata": {},
   "outputs": [
    {
     "data": {
      "text/plain": [
       "['a', 'c']"
      ]
     },
     "execution_count": 92,
     "metadata": {},
     "output_type": "execute_result"
    }
   ],
   "source": [
    "t = ['a', 'b', 'c']\n",
    "del t[1]\n",
    "t"
   ]
  },
  {
   "cell_type": "markdown",
   "metadata": {},
   "source": [
    "如果你知道要删除的值 (但是不知道其下标)，你可以使用 `remove`："
   ]
  },
  {
   "cell_type": "code",
   "execution_count": 93,
   "metadata": {},
   "outputs": [
    {
     "data": {
      "text/plain": [
       "['a', 'c']"
      ]
     },
     "execution_count": 93,
     "metadata": {},
     "output_type": "execute_result"
    }
   ],
   "source": [
    "t = ['a', 'b', 'c']\n",
    "t.remove('b')\n",
    "t"
   ]
  },
  {
   "cell_type": "markdown",
   "metadata": {},
   "source": [
    "`remove` 的返回值是 `None`。\n",
    "\n",
    "要移除多个元素，你可以结合切片索引使用 `del`："
   ]
  },
  {
   "cell_type": "code",
   "execution_count": 95,
   "metadata": {},
   "outputs": [
    {
     "data": {
      "text/plain": [
       "['a', 'f']"
      ]
     },
     "execution_count": 95,
     "metadata": {},
     "output_type": "execute_result"
    }
   ],
   "source": [
    "t = ['a', 'b', 'c', 'd', 'e', 'f']\n",
    "del t[1:5]\n",
    "t"
   ]
  },
  {
   "cell_type": "markdown",
   "metadata": {},
   "source": [
    "同样的，切片选择到第二个下标 (不包含第二个下标) 处的所有元素。"
   ]
  },
  {
   "cell_type": "markdown",
   "metadata": {},
   "source": [
    "## 10.9 列表和字符串"
   ]
  },
  {
   "cell_type": "markdown",
   "metadata": {},
   "source": [
    "一个字符串是多个字符组成的序列，一个列表是多个值组成的序列。但是一个由字符组成的列表不同于字符串。可以使用` list` 将一个字符串转换为字符的列表："
   ]
  },
  {
   "cell_type": "code",
   "execution_count": 99,
   "metadata": {},
   "outputs": [
    {
     "data": {
      "text/plain": [
       "['s', 'p', 'a', 'm']"
      ]
     },
     "execution_count": 99,
     "metadata": {},
     "output_type": "execute_result"
    }
   ],
   "source": [
    "s = 'spam'\n",
    "t = list(s)\n",
    "t"
   ]
  },
  {
   "cell_type": "markdown",
   "metadata": {},
   "source": [
    "由于 `list` 是内置函数的名称，你应避免将它用作变量名。我同样避免使用 `l` ，因为它看起来很像 `1`。这就是为什么我用了 `t` 。\n",
    "\n",
    "`list` 函数将字符串分割成单独的字符。如果你想将一个字符串分割成一些单词，你可以使用 `split` 方法："
   ]
  },
  {
   "cell_type": "code",
   "execution_count": 100,
   "metadata": {},
   "outputs": [
    {
     "data": {
      "text/plain": [
       "['pining', 'for', 'the', 'fjords']"
      ]
     },
     "execution_count": 100,
     "metadata": {},
     "output_type": "execute_result"
    }
   ],
   "source": [
    "s = 'pining for the fjords'\n",
    "t = s.split()\n",
    "t"
   ]
  },
  {
   "cell_type": "markdown",
   "metadata": {},
   "source": [
    "可以提供一个叫做*分隔符* (delimiter) 的可选参数，指定什么字符作为单词之间的分界线。下面的例子使用连字符作为分隔符："
   ]
  },
  {
   "cell_type": "code",
   "execution_count": 101,
   "metadata": {},
   "outputs": [
    {
     "data": {
      "text/plain": [
       "['spam', 'spam', 'spam']"
      ]
     },
     "execution_count": 101,
     "metadata": {},
     "output_type": "execute_result"
    }
   ],
   "source": [
    "s = 'spam-spam-spam'\n",
    "delimiter = '-'\n",
    "t = s.split(delimiter)\n",
    "t"
   ]
  },
  {
   "cell_type": "markdown",
   "metadata": {},
   "source": [
    "`join` 的功能和 `split `相反。它将一个字符串列表的元素拼接起来。`join` 是一个字符串方法，所以你需要在一个分隔符上调用它，并传入一个列表作为参数："
   ]
  },
  {
   "cell_type": "code",
   "execution_count": 102,
   "metadata": {},
   "outputs": [
    {
     "data": {
      "text/plain": [
       "'pining for the fjords'"
      ]
     },
     "execution_count": 102,
     "metadata": {},
     "output_type": "execute_result"
    }
   ],
   "source": [
    "t = ['pining', 'for', 'the', 'fjords']\n",
    "delimiter = ' '\n",
    "s = delimiter.join(t)\n",
    "s"
   ]
  },
  {
   "cell_type": "markdown",
   "metadata": {},
   "source": [
    "在这个例子中，分隔符是一个空格，所以 `join` 在单词之间添加一个空格。如果不使用空格拼接字符串你可以使用空字符串 `''` 作为分隔符。"
   ]
  },
  {
   "cell_type": "markdown",
   "metadata": {},
   "source": [
    "## 10.10 对象和值"
   ]
  },
  {
   "cell_type": "markdown",
   "metadata": {},
   "source": [
    "如果我们执行下面的赋值语句："
   ]
  },
  {
   "cell_type": "code",
   "execution_count": 104,
   "metadata": {},
   "outputs": [],
   "source": [
    "a = 'banana'\n",
    "b = 'banana'"
   ]
  },
  {
   "attachments": {
    "image.png": {
     "image/png": "[encoded data removed]"
    }
   },
   "cell_type": "markdown",
   "metadata": {},
   "source": [
    "我们知道 `a `和` b` 都指向一个字符串，但是我们不知道是否他们指向**同一个** 字符串。这里有两种可能的状态，如图 10.2 所示：\n",
    "![image.png](attachment:image.png)\n",
    "\n",
    "一种情况是，`a` 和 `b` 指向两个有相同值的不同对象。第二种情况是，它们指向同一个对象。\n",
    "\n",
    "为了查看两个变量是否指向同一个对象，你可以使用 `is` 运算符。"
   ]
  },
  {
   "cell_type": "code",
   "execution_count": 106,
   "metadata": {},
   "outputs": [
    {
     "data": {
      "text/plain": [
       "True"
      ]
     },
     "execution_count": 106,
     "metadata": {},
     "output_type": "execute_result"
    }
   ],
   "source": [
    "a = 'banana'\n",
    "b = 'banana'\n",
    "a is b"
   ]
  },
  {
   "cell_type": "markdown",
   "metadata": {},
   "source": [
    "在这个例子中，Python 仅生成了一个字符串对象，`a` 和 `b` 都指向它。但是当你创建两个列表时，你得到的是两个对象："
   ]
  },
  {
   "cell_type": "code",
   "execution_count": 107,
   "metadata": {},
   "outputs": [
    {
     "data": {
      "text/plain": [
       "False"
      ]
     },
     "execution_count": 107,
     "metadata": {},
     "output_type": "execute_result"
    }
   ],
   "source": [
    "a = [1, 2, 3]\n",
    "b = [1, 2, 3]\n",
    "a is b"
   ]
  },
  {
   "cell_type": "markdown",
   "metadata": {},
   "source": [
    "所以状态图如图 10.3所示。\n",
    "\n",
    "在这个例子中，我们称这两个列表是**相等**的，因为它们有相同的元素。但它们并不**相同** ，因为他们不是同一个对象。如果两个对象**相同**，它们也是相等的，但是如果它们是相等的，它们不一定是相同的。\n",
    "\n",
    "至此，我们一直在等价地使用 ‘‘对象” 和 ‘‘值’’，但是更准确的说，一个对象拥有一个值。如果你对 `[1, 2, 3]` 求值，会得到一个值为整数序列的列表对象。如果另一个列表有同样的元素，我们说它们有相同的值，但是它们并不是同一个对象。"
   ]
  },
  {
   "cell_type": "markdown",
   "metadata": {},
   "source": [
    "## 10.11 别名"
   ]
  },
  {
   "attachments": {
    "image.png": {
     "image/png": "[encoded data removed]"
    }
   },
   "cell_type": "markdown",
   "metadata": {},
   "source": [
    "如果 `a` 指向一个对象，然后你赋值 `b = a` ，那么两个变量指向同一个对象：\n",
    "\n",
    "![image.png](attachment:image.png)"
   ]
  },
  {
   "cell_type": "code",
   "execution_count": 109,
   "metadata": {},
   "outputs": [
    {
     "data": {
      "text/plain": [
       "True"
      ]
     },
     "execution_count": 109,
     "metadata": {},
     "output_type": "execute_result"
    }
   ],
   "source": [
    "a = [1, 2, 3]\n",
    "b = a\n",
    "b is a"
   ]
  },
  {
   "cell_type": "markdown",
   "metadata": {},
   "source": [
    "状态图如图 10.4 所示。\n",
    "\n",
    "变量和对象之间的关联称为*引用* (reference) 。在这个例子中，有两个对同一个对象的引用。\n",
    "\n",
    "如果一个对象有多于一个引用，那它也会有多个名称，我们称这个对象是**有别名的** 。\n",
    "\n",
    "如果一个有别名的对象是可变的，对其中一个别名的改变对影响到其它的别名："
   ]
  },
  {
   "cell_type": "code",
   "execution_count": 110,
   "metadata": {},
   "outputs": [
    {
     "data": {
      "text/plain": [
       "[42, 2, 3]"
      ]
     },
     "execution_count": 110,
     "metadata": {},
     "output_type": "execute_result"
    }
   ],
   "source": [
    "b[0] = 42\n",
    "a"
   ]
  },
  {
   "cell_type": "markdown",
   "metadata": {},
   "source": [
    "尽管这个行为很有用，但是容易导致出现错误。通常，避免对于可变对象使用别名相对更安全。\n",
    "\n",
    "对于像字符串这样的不可变对象，使用别名没有什么问题。例如："
   ]
  },
  {
   "cell_type": "code",
   "execution_count": 111,
   "metadata": {},
   "outputs": [],
   "source": [
    "a = 'banana'\n",
    "b = 'banana'"
   ]
  },
  {
   "cell_type": "markdown",
   "metadata": {},
   "source": [
    "`a` 和 `b` 是否指向同一个字符串基本上没有什么影响。"
   ]
  },
  {
   "cell_type": "markdown",
   "metadata": {},
   "source": [
    "## 10.12 列表参数"
   ]
  },
  {
   "cell_type": "markdown",
   "metadata": {},
   "source": [
    "当你将一个列表作为参数传给一个函数，函数将得到这个列表的一个引用。如果函数对这个列表进行了修改，会在调用者中有所体现。例如，“delete_head” 删除列表的第一个元素："
   ]
  },
  {
   "cell_type": "code",
   "execution_count": 113,
   "metadata": {},
   "outputs": [],
   "source": [
    "def delete_head(t):\n",
    "    del t[0]"
   ]
  },
  {
   "cell_type": "markdown",
   "metadata": {},
   "source": [
    "这样使用这个函数："
   ]
  },
  {
   "cell_type": "code",
   "execution_count": 115,
   "metadata": {},
   "outputs": [
    {
     "data": {
      "text/plain": [
       "['b', 'c']"
      ]
     },
     "execution_count": 115,
     "metadata": {},
     "output_type": "execute_result"
    }
   ],
   "source": [
    "letters = ['a', 'b', 'c']\n",
    "delete_head(letters)\n",
    "letters"
   ]
  },
  {
   "attachments": {
    "image.png": {
     "image/png": "[encoded data removed]"
    }
   },
   "cell_type": "markdown",
   "metadata": {},
   "source": [
    "参数 `t` 和变量 `letters` 是同一个对象的别名。其堆栈图如图 10.5所示。\n",
    "\n",
    "![image.png](attachment:image.png)\n",
    "\n",
    "由于列表被两个帧共享，我把它画在它们中间。\n",
    "\n",
    "需要注意的是修改列表操作和创建列表操作间的区别。例如，`append` 方法是修改一个列表，而 `+` 运算符是创建一个新的列表："
   ]
  },
  {
   "cell_type": "code",
   "execution_count": 116,
   "metadata": {},
   "outputs": [
    {
     "data": {
      "text/plain": [
       "[1, 2, 3]"
      ]
     },
     "execution_count": 116,
     "metadata": {},
     "output_type": "execute_result"
    }
   ],
   "source": [
    "t1 = [1, 2]\n",
    "t2 = t1.append(3)\n",
    "t1"
   ]
  },
  {
   "cell_type": "code",
   "execution_count": 119,
   "metadata": {},
   "outputs": [],
   "source": [
    "t2"
   ]
  },
  {
   "cell_type": "markdown",
   "metadata": {},
   "source": [
    "`append` 修改列表并返回 `None`。"
   ]
  },
  {
   "cell_type": "code",
   "execution_count": 121,
   "metadata": {},
   "outputs": [
    {
     "data": {
      "text/plain": [
       "[1, 2, 3]"
      ]
     },
     "execution_count": 121,
     "metadata": {},
     "output_type": "execute_result"
    }
   ],
   "source": [
    "t3 = t1 + [4]\n",
    "t1"
   ]
  },
  {
   "cell_type": "code",
   "execution_count": 122,
   "metadata": {},
   "outputs": [
    {
     "data": {
      "text/plain": [
       "[1, 2, 3, 4]"
      ]
     },
     "execution_count": 122,
     "metadata": {},
     "output_type": "execute_result"
    }
   ],
   "source": [
    "t3"
   ]
  },
  {
   "cell_type": "code",
   "execution_count": 123,
   "metadata": {},
   "outputs": [
    {
     "data": {
      "text/plain": [
       "[1, 2, 3]"
      ]
     },
     "execution_count": 123,
     "metadata": {},
     "output_type": "execute_result"
    }
   ],
   "source": []
  },
  {
   "cell_type": "markdown",
   "metadata": {},
   "source": [
    "运算符 `+` 创建了一个新列表，而不改变原始的列表。\n",
    "\n",
    "如果你要编写一个修改列表的函数，这一点就很重要。例如，这个函数*不会*删除列的第一个元素："
   ]
  },
  {
   "cell_type": "code",
   "execution_count": 129,
   "metadata": {},
   "outputs": [],
   "source": [
    "def bad_delete_head(t):\n",
    "    t = t[1:] #WRONG"
   ]
  },
  {
   "cell_type": "markdown",
   "metadata": {},
   "source": [
    "切片运算符创建了一个新列表，然后这个表达式让 `t` 指向了它，但是并不会影响原来被调用的列表。"
   ]
  },
  {
   "cell_type": "code",
   "execution_count": 130,
   "metadata": {},
   "outputs": [
    {
     "data": {
      "text/plain": [
       "[1, 2, 3]"
      ]
     },
     "execution_count": 130,
     "metadata": {},
     "output_type": "execute_result"
    }
   ],
   "source": [
    "t4 = [1, 2, 3]\n",
    "bad_delete_head(t4)\n",
    "t4"
   ]
  },
  {
   "cell_type": "markdown",
   "metadata": {},
   "source": [
    "在 `bad_delete_head` 的开始处，`t` 和 `t4 `指向同一个列表。在结束时，`t `指向一个新列表，但是 `t4` 仍然指向原来的、没有被改动的列表。\n",
    "\n",
    "一个替代的写法是，写一个创建并返回一个新列表的函数。例如，`tail` 返回列表中除了第一个之外的所有元素："
   ]
  },
  {
   "cell_type": "code",
   "execution_count": 131,
   "metadata": {},
   "outputs": [],
   "source": [
    "def tail(t):\n",
    "    return t[1:]"
   ]
  },
  {
   "cell_type": "markdown",
   "metadata": {},
   "source": [
    "这个函数不会修改原来的列表。下面是函数的使用方法："
   ]
  },
  {
   "cell_type": "code",
   "execution_count": 132,
   "metadata": {},
   "outputs": [
    {
     "data": {
      "text/plain": [
       "['b', 'c']"
      ]
     },
     "execution_count": 132,
     "metadata": {},
     "output_type": "execute_result"
    }
   ],
   "source": [
    "letters = ['a', 'b', 'c']\n",
    "rest = tail(letters)\n",
    "rest"
   ]
  },
  {
   "cell_type": "markdown",
   "metadata": {},
   "source": [
    "## 10.13 调试"
   ]
  },
  {
   "cell_type": "markdown",
   "metadata": {},
   "source": [
    "粗心地使用列表 (以及其他可变对象) 会导致长时间的调试。下面列举一些常见的陷阱以及避免它们的方法："
   ]
  },
  {
   "cell_type": "markdown",
   "metadata": {},
   "source": [
    "1. 大多数的列表方法会对参数进行修改，然后返回 `None` 。这和字符串方法相反，后者保留原始的字符串并返回一个新的字符串。\n",
    "    \n",
    "    如果你习惯这样写字符串代码："
   ]
  },
  {
   "cell_type": "code",
   "execution_count": 139,
   "metadata": {},
   "outputs": [
    {
     "data": {
      "text/plain": [
       "'abc'"
      ]
     },
     "execution_count": 139,
     "metadata": {},
     "output_type": "execute_result"
    }
   ],
   "source": [
    "word = ' abc '\n",
    "word = word.strip()\n",
    "word"
   ]
  },
  {
   "cell_type": "markdown",
   "metadata": {},
   "source": [
    "那么你很可能会写出下面的列表代码："
   ]
  },
  {
   "cell_type": "code",
   "execution_count": 142,
   "metadata": {},
   "outputs": [
    {
     "name": "stdout",
     "output_type": "stream",
     "text": [
      "None\n"
     ]
    }
   ],
   "source": [
    "t = [4, 2, 1, 3]\n",
    "t = t.sort() #WRONG\n",
    "print(t)"
   ]
  },
  {
   "cell_type": "markdown",
   "metadata": {},
   "source": [
    "因为`sort `返回 `None` ，所以你的下一个对 `t` 执行的操作很可能会失败。\n",
    "\n",
    "在使用 `list` 方法和操作符之前，你应该仔细阅读文档，然后在交互模式下测试。\n",
    "\n",
    "2. 选择一种写法，坚持下去。\n",
    "\n",
    "    列表的一个问题就是有太多方法可以做同样的事情。例如，要删除列表中的一个元素，你可以使用 `pop` 、`remove` 、`del` 甚至是切片赋值。\n",
    "    要添加一个元素，你可以使用 `append` 方法或者 `+` 运算符。假设 `t `是一个列表，x 一个列表元素以下这些写法都是正确的："
   ]
  },
  {
   "cell_type": "code",
   "execution_count": 149,
   "metadata": {},
   "outputs": [
    {
     "name": "stdout",
     "output_type": "stream",
     "text": [
      "[1]\n",
      "[1, 1]\n",
      "[1, 1, 1]\n"
     ]
    }
   ],
   "source": [
    "t = []\n",
    "x = 1\n",
    "\n",
    "t.append(x)\n",
    "print(t)\n",
    "\n",
    "t = t + [x]\n",
    "print(t)\n",
    "\n",
    "t += [x]\n",
    "print(t)"
   ]
  },
  {
   "cell_type": "markdown",
   "metadata": {},
   "source": [
    "而这些是错误的："
   ]
  },
  {
   "cell_type": "code",
   "execution_count": 151,
   "metadata": {},
   "outputs": [
    {
     "name": "stdout",
     "output_type": "stream",
     "text": [
      "[1, 1, 1, [1], [1]]\n",
      "None\n"
     ]
    },
    {
     "ename": "TypeError",
     "evalue": "unsupported operand type(s) for +: 'NoneType' and 'list'",
     "output_type": "error",
     "traceback": [
      "\u001b[1;31m---------------------------------------------------------------------------\u001b[0m",
      "\u001b[1;31mTypeError\u001b[0m                                 Traceback (most recent call last)",
      "\u001b[1;32m<ipython-input-151-32bf8c96f342>\u001b[0m in \u001b[0;36m<module>\u001b[1;34m()\u001b[0m\n\u001b[0;32m      5\u001b[0m \u001b[0mprint\u001b[0m\u001b[1;33m(\u001b[0m\u001b[0mt\u001b[0m\u001b[1;33m)\u001b[0m\u001b[1;33m\u001b[0m\u001b[0m\n\u001b[0;32m      6\u001b[0m \u001b[1;33m\u001b[0m\u001b[0m\n\u001b[1;32m----> 7\u001b[1;33m \u001b[0mt\u001b[0m \u001b[1;33m+\u001b[0m \u001b[1;33m[\u001b[0m\u001b[0mx\u001b[0m\u001b[1;33m]\u001b[0m\u001b[1;33m\u001b[0m\u001b[0m\n\u001b[0m\u001b[0;32m      8\u001b[0m \u001b[0mprint\u001b[0m\u001b[1;33m(\u001b[0m\u001b[0mt\u001b[0m\u001b[1;33m)\u001b[0m\u001b[1;33m\u001b[0m\u001b[0m\n\u001b[0;32m      9\u001b[0m \u001b[1;33m\u001b[0m\u001b[0m\n",
      "\u001b[1;31mTypeError\u001b[0m: unsupported operand type(s) for +: 'NoneType' and 'list'"
     ]
    }
   ],
   "source": [
    "t.append([x])\n",
    "print(t)\n",
    "\n",
    "t = t.append(x)\n",
    "print(t)\n",
    "\n",
    "t + [x]\n",
    "print(t)\n",
    "\n",
    "t = t + x\n",
    "print(t)"
   ]
  },
  {
   "cell_type": "markdown",
   "metadata": {},
   "source": [
    "在交互模式下尝试每一个例子，保证你明白它们做了什么。注意只有最后一个会导致运行时错误；其他的都是合乎规范的的，但结果却是错的。\n",
    "\n",
    "3. 通过创建拷贝来避免别名\n",
    "\n",
    "    如果你要使用类似 `sort` 这样的方法来修改参数，但同时有要保留原列表，你可以创建一个拷贝。"
   ]
  },
  {
   "cell_type": "code",
   "execution_count": 155,
   "metadata": {},
   "outputs": [
    {
     "name": "stdout",
     "output_type": "stream",
     "text": [
      "[3, 1, 2]\n",
      "[1, 2, 3]\n"
     ]
    }
   ],
   "source": [
    "t = [3, 1, 2]\n",
    "t2 = t[:]\n",
    "t2.sort()\n",
    "print(t)\n",
    "print(t2)"
   ]
  },
  {
   "cell_type": "markdown",
   "metadata": {},
   "source": [
    "在这个例子中，你还可以使用内置函数 `sorted`，它将返回一个新的已排序的列表，原列表将保持不变。"
   ]
  },
  {
   "cell_type": "code",
   "execution_count": 157,
   "metadata": {},
   "outputs": [
    {
     "name": "stdout",
     "output_type": "stream",
     "text": [
      "[3, 1, 2]\n",
      "[1, 2, 3]\n"
     ]
    }
   ],
   "source": [
    "t2 = sorted(t)\n",
    "print(t)\n",
    "print(t2)"
   ]
  },
  {
   "cell_type": "markdown",
   "metadata": {},
   "source": [
    "## 10.14 术语表"
   ]
  },
  {
   "cell_type": "markdown",
   "metadata": {},
   "source": [
    "**列表 (list):** 多个值组成的序列。\n",
    "    \n",
    "**元素 (element):** 列表 (或序列) 中的一个值，也称为项。\n",
    "\n",
    "**嵌套列表 (nested list)**: 作为另一个列表的元素的列表。\n",
    "\n",
    "**累加器 (accumulator)**: 循环中用于相加或累积出一个结果的变量。\n",
    "\n",
    "**增量赋值语句 (augmented assignment)**: 一个使用类似 += 操作符来更新一个的语句。\n",
    "\n",
    "**归并 (reduce)**: 遍历序列，将所有元素求和为一个值的处理模式。\n",
    "\n",
    "**映射 (map)**: 遍历序列，对每个元素执行操作的处理模式。\n",
    "\n",
    "**筛选 (filter)**: 遍历序列，选出满足一定标准的元素的处理模式。\n",
    "\n",
    "**对象 (object)**： 变量可以指向的东西。一个对象有数据类型和值。\n",
    "\n",
    "**相等 (equivalent)**: 有相同的值。相同 (identical): 是同一个对象 (隐含着相等)。\n",
    "\n",
    "**引用 (reference)**: 一个变量和它的值之间的关联。\n",
    "\n",
    "**别名使用**: 两个或者两个以上变量指向同一个对象的情况。\n",
    "\n",
    "**分隔符 (delimiter)**: 一个用于指示字符串分割位置的字符或者字符"
   ]
  },
  {
   "cell_type": "markdown",
   "metadata": {},
   "source": [
    "## 10.15 练习"
   ]
  },
  {
   "attachments": {
    "image.png": {
     "image/png": "[encoded data removed]"
    }
   },
   "cell_type": "markdown",
   "metadata": {},
   "source": [
    "**Exercise 10.1.** 编写一个叫做`nested_sum` 的函数，接受一个由一些整数列表构成的列表作为参数，并将所有嵌套列表中的元素相加。例如：\n",
    "\n",
    "![image.png](attachment:image.png)"
   ]
  },
  {
   "cell_type": "code",
   "execution_count": 163,
   "metadata": {},
   "outputs": [
    {
     "data": {
      "text/plain": [
       "21"
      ]
     },
     "execution_count": 163,
     "metadata": {},
     "output_type": "execute_result"
    }
   ],
   "source": [
    "import random\n",
    "\n",
    "def nested_sum(t):\n",
    "    \"\"\"Computes the total of all numbers in a list of lists.\n",
    "   \n",
    "    t: list of list of numbers\n",
    "\n",
    "    returns: number\n",
    "    \"\"\"\n",
    "    total = 0\n",
    "    for nested in t:\n",
    "        total += sum(nested)\n",
    "    return total\n",
    "\n",
    "t = [[1, 2], [3], [4, 5, 6]]\n",
    "nested_sum(t)"
   ]
  },
  {
   "attachments": {
    "image.png": {
     "image/png": "[encoded data removed]"
    }
   },
   "cell_type": "markdown",
   "metadata": {},
   "source": [
    "**Exercise 10.2.** 编写一个叫做`cumsum` 的函数，接受一个由数值组成的列表，并返回累加和；即一个新列表，其中第 $i + 1$ 个元素是原列表中前 $i$ 个元素的和。例如：\n",
    "\n",
    "![image.png](attachment:image.png)"
   ]
  },
  {
   "cell_type": "code",
   "execution_count": 164,
   "metadata": {},
   "outputs": [
    {
     "data": {
      "text/plain": [
       "[1, 3, 6]"
      ]
     },
     "execution_count": 164,
     "metadata": {},
     "output_type": "execute_result"
    }
   ],
   "source": [
    "def cumsum(t):\n",
    "    \"\"\"Computes the cumulative sum of the numbers in t.\n",
    "\n",
    "    t: list of numbers\n",
    "\n",
    "    returns: list of numbers\n",
    "    \"\"\"\n",
    "    total = 0\n",
    "    res = []\n",
    "    for x in t:\n",
    "        total += x\n",
    "        res.append(total)\n",
    "    return res\n",
    "\n",
    "t = [1, 2, 3]\n",
    "cumsum(t)"
   ]
  },
  {
   "attachments": {
    "image.png": {
     "image/png": "[encoded data removed]"
    }
   },
   "cell_type": "markdown",
   "metadata": {},
   "source": [
    "**Exercise 10.3.** 编写一个叫做`middle` 的函数，接受一个列表作为参数，并返回一个除了第一个和最后一个元素的列表。例如：\n",
    "\n",
    "![image.png](attachment:image.png)"
   ]
  },
  {
   "cell_type": "code",
   "execution_count": 165,
   "metadata": {},
   "outputs": [
    {
     "data": {
      "text/plain": [
       "[2, 3]"
      ]
     },
     "execution_count": 165,
     "metadata": {},
     "output_type": "execute_result"
    }
   ],
   "source": [
    "def middle(t):\n",
    "    \"\"\"Returns all but the first and last elements of t.\n",
    "\n",
    "    t: list\n",
    "\n",
    "    returns: new list\n",
    "    \"\"\"\n",
    "    return t[1:-1]\n",
    "\n",
    "t = [1, 2, 3, 4]\n",
    "middle(t)"
   ]
  },
  {
   "attachments": {
    "image.png": {
     "image/png": "[encoded data removed]"
    }
   },
   "cell_type": "markdown",
   "metadata": {},
   "source": [
    "**Exercise 10.4.** 编写一个叫做`chop` 的函数，接受一个列表作为参数，移除第一个和最后一个元素，并返回`None`。例如：\n",
    "\n",
    "![image.png](attachment:image.png)"
   ]
  },
  {
   "cell_type": "code",
   "execution_count": 168,
   "metadata": {},
   "outputs": [
    {
     "data": {
      "text/plain": [
       "[2, 3]"
      ]
     },
     "execution_count": 168,
     "metadata": {},
     "output_type": "execute_result"
    }
   ],
   "source": [
    "def chop(t):\n",
    "    \"\"\"Removes the first and last elements of t.\n",
    "\n",
    "    t: list\n",
    "\n",
    "    returns: None\n",
    "    \"\"\"\n",
    "    del t[0]\n",
    "    del t[-1]\n",
    "\n",
    "t = [1, 2, 3, 4]\n",
    "chop(t)\n",
    "t"
   ]
  },
  {
   "attachments": {
    "image.png": {
     "image/png": "[encoded data removed]"
    }
   },
   "cell_type": "markdown",
   "metadata": {},
   "source": [
    "**Exercise 10.5.** 编写一个叫做`is_sorted` 的函数，接受一个列表作为参数，如果列表是递增排列的则返回`True` ，否则返回`False`。例如：\n",
    "![image.png](attachment:image.png)"
   ]
  },
  {
   "cell_type": "code",
   "execution_count": 169,
   "metadata": {},
   "outputs": [
    {
     "data": {
      "text/plain": [
       "True"
      ]
     },
     "execution_count": 169,
     "metadata": {},
     "output_type": "execute_result"
    }
   ],
   "source": [
    "def is_sorted(t):\n",
    "    \"\"\"Checks whether a list is sorted.\n",
    "\n",
    "    t: list\n",
    "\n",
    "    returns: boolean\n",
    "    \"\"\"\n",
    "    return t == sorted(t)\n",
    "\n",
    "is_sorted([1, 2, 2])"
   ]
  },
  {
   "cell_type": "markdown",
   "metadata": {},
   "source": [
    "**Exercise 10.6.** 如果可以通过重排一个单词中字母的顺序，得到另外一个单词，那么称这两个单词是变位词。编写一个叫做`is_anagram` 的函数，接受两个字符串作为参数，如果它们是变位词则返回`True`。"
   ]
  },
  {
   "cell_type": "code",
   "execution_count": 170,
   "metadata": {},
   "outputs": [],
   "source": [
    "def is_anagram(word1, word2):\n",
    "    \"\"\"Checks whether two words are anagrams\n",
    "\n",
    "    word1: string or list\n",
    "    word2: string or list\n",
    "\n",
    "    returns: boolean\n",
    "    \"\"\"\n",
    "    return sorted(word1) == sorted(word2)"
   ]
  },
  {
   "cell_type": "markdown",
   "metadata": {},
   "source": [
    "**Exercise 10.7.** 编写一个叫做`has_duplicates` 的函数，接受一个列表作为参数，如果一个元素在列表中出现了不止一次，则返回`True` 。这个函数不能改变原列表。"
   ]
  },
  {
   "cell_type": "code",
   "execution_count": 172,
   "metadata": {},
   "outputs": [],
   "source": [
    "def has_duplicates(s):\n",
    "    \"\"\"Returns True if any element appears more than once in a sequence.\n",
    "\n",
    "    s: string or list\n",
    "\n",
    "    returns: bool\n",
    "    \"\"\"\n",
    "    # make a copy of t to avoid modifying the parameter\n",
    "    t = list(s)\n",
    "    t.sort()\n",
    "\n",
    "    # check for adjacent elements that are equal\n",
    "    for i in range(len(t)-1):\n",
    "        if t[i] == t[i+1]:\n",
    "            return True\n",
    "    return False"
   ]
  },
  {
   "cell_type": "markdown",
   "metadata": {},
   "source": [
    "**Exercise 10.8.** 这个习题与所谓的生日悖论有关。你可以在 维基百科了解更多相关的内容。\n",
    "\n",
    "如果你的班级上有 23 个学生，2 个学生生日相同的概率是多少？你可以通过随机产生23 个生日，并检查匹配来估算概率。提示：你可以使用random 模块中的randint 函数来生成随机生日。"
   ]
  },
  {
   "cell_type": "code",
   "execution_count": 175,
   "metadata": {},
   "outputs": [
    {
     "name": "stdout",
     "output_type": "stream",
     "text": [
      "After 1000 simulations\n",
      "with 23 students\n",
      "there were 516 simulations with at least one match\n"
     ]
    }
   ],
   "source": [
    "import random\n",
    "\n",
    "\n",
    "def has_duplicates(t):\n",
    "    \"\"\"Returns True if any element appears more than once in a sequence.\n",
    "\n",
    "    t: list\n",
    "\n",
    "    returns: bool\n",
    "    \"\"\"\n",
    "    # make a copy of t to avoid modifying the parameter\n",
    "    s = t[:]\n",
    "    s.sort()\n",
    "\n",
    "    # check for adjacent elements that are equal\n",
    "    for i in range(len(s)-1):\n",
    "        if s[i] == s[i+1]:\n",
    "            return True\n",
    "    return False\n",
    "\n",
    "\n",
    "def random_bdays(n):\n",
    "    \"\"\"Returns a list of integers between 1 and 365, with length n.\n",
    "\n",
    "    n: int\n",
    "\n",
    "    returns: list of int\n",
    "    \"\"\"\n",
    "    t = []\n",
    "    for i in range(n):\n",
    "        bday = random.randint(1, 365)\n",
    "        t.append(bday)\n",
    "    return t\n",
    "\n",
    "\n",
    "def count_matches(num_students, num_simulations):\n",
    "    \"\"\"Generates a sample of birthdays and counts duplicates.\n",
    "\n",
    "    num_students: how many students in the group\n",
    "    num_samples: how many groups to simulate\n",
    "\n",
    "    returns: int\n",
    "    \"\"\"\n",
    "    count = 0\n",
    "    for i in range(num_simulations):\n",
    "        t = random_bdays(num_students)\n",
    "        if has_duplicates(t):\n",
    "            count += 1\n",
    "    return count\n",
    "\n",
    "\n",
    "def main():\n",
    "    \"\"\"Runs the birthday simulation and prints the number of matches.\"\"\"\n",
    "    num_students = 23\n",
    "    num_simulations = 1000\n",
    "    count = count_matches(num_students, num_simulations)\n",
    "\n",
    "    print('After %d simulations' % num_simulations)\n",
    "    print('with %d students' % num_students)\n",
    "    print('there were %d simulations with at least one match' % count)\n",
    "\n",
    "\n",
    "if __name__ == '__main__':\n",
    "    main()"
   ]
  },
  {
   "cell_type": "markdown",
   "metadata": {},
   "source": [
    "**Exercise 10.9.** 编写一个函数，读取文件`words.txt`，建立一个列表，其中每个单词为一个元素。编写两个版本，一个使用`append` 方法，另一个使用`t = t + [x]`。那个版本运行得慢？为什么？"
   ]
  },
  {
   "cell_type": "code",
   "execution_count": 179,
   "metadata": {},
   "outputs": [
    {
     "name": "stdout",
     "output_type": "stream",
     "text": [
      "113809\n",
      "['aa', 'aah', 'aahed', 'aahing', 'aahs', 'aal', 'aalii', 'aaliis', 'aals', 'aardvark']\n",
      "0.05497002601623535 seconds\n",
      "113809\n",
      "['aa', 'aah', 'aahed', 'aahing', 'aahs', 'aal', 'aalii', 'aaliis', 'aals', 'aardvark']\n",
      "56.39063906669617 seconds\n"
     ]
    }
   ],
   "source": [
    "import time\n",
    "\n",
    "\n",
    "def make_word_list1():\n",
    "    \"\"\"Reads lines from a file and builds a list using append.\"\"\"\n",
    "    t = []\n",
    "    fin = open('words.txt')\n",
    "    for line in fin:\n",
    "        word = line.strip()\n",
    "        t.append(word)\n",
    "    return t\n",
    "\n",
    "#方法2 每次都要重新生成变量t。\n",
    "def make_word_list2():\n",
    "    \"\"\"Reads lines from a file and builds a list using list +.\"\"\"\n",
    "    t = []\n",
    "    fin = open('words.txt')\n",
    "    for line in fin:\n",
    "        word = line.strip()\n",
    "        t = t + [word]\n",
    "    return t\n",
    "\n",
    "\n",
    "start_time = time.time()\n",
    "t = make_word_list1()\n",
    "elapsed_time = time.time() - start_time\n",
    "\n",
    "print(len(t))\n",
    "print(t[:10])\n",
    "print(elapsed_time, 'seconds')\n",
    "\n",
    "start_time = time.time()\n",
    "t = make_word_list2()\n",
    "elapsed_time = time.time() - start_time\n",
    "\n",
    "print(len(t))\n",
    "print(t[:10])\n",
    "print(elapsed_time, 'seconds')\n"
   ]
  },
  {
   "cell_type": "markdown",
   "metadata": {},
   "source": [
    "**Exercise 10.10.** 使用in 运算符可以检查一个单词是否在单词表中，但这很慢，因为它是按顺序查找单词。由于单词是按照字母顺序排序的，我们可以使用两分法 (也称二叉树搜索) 来加快速度，类似于在字典中查找单词的方法。你从中间开始，如果你要找的单词在中间的单词之前，你查找前半部分，否则你查找后半部分。不管怎样，你都会将搜索范围减小一半。如果单词表有 113,809 个单词，你只需要 17 就可以找到这个单词，或着得出单词不存在的结论。编写一个叫做in_bisect 的函数，接受一个已排序的列表和一个目标值作为参数，返回该值在列表中的位置，如果不存在则返回None 。或者你可以阅读bisect 模块的文档并使用它！"
   ]
  },
  {
   "cell_type": "code",
   "execution_count": 184,
   "metadata": {},
   "outputs": [
    {
     "name": "stdout",
     "output_type": "stream",
     "text": [
      "aa in list True\n",
      "alien in list True\n",
      "allen in list False\n",
      "zymurgy in list True\n",
      "aa in list True\n",
      "alien in list True\n",
      "allen in list False\n",
      "zymurgy in list True\n"
     ]
    }
   ],
   "source": [
    "import bisect\n",
    "\n",
    "\n",
    "def make_word_list():\n",
    "    \"\"\"Reads lines from a file and builds a list using append.\n",
    "\n",
    "    returns: list of strings\n",
    "    \"\"\"\n",
    "    word_list = []\n",
    "    fin = open('words.txt')\n",
    "    for line in fin:\n",
    "        word = line.strip()\n",
    "        word_list.append(word)\n",
    "    return word_list\n",
    "\n",
    "\n",
    "def in_bisect(word_list, word):\n",
    "    \"\"\"Checks whether a word is in a list using bisection search.\n",
    "\n",
    "    Precondition: the words in the list are sorted\n",
    "\n",
    "    word_list: list of strings\n",
    "    word: string\n",
    "\n",
    "    returns: True if the word is in the list; False otherwise\n",
    "    \"\"\"\n",
    "    if len(word_list) == 0:\n",
    "        return False\n",
    "\n",
    "    i = len(word_list) // 2\n",
    "    if word_list[i] == word:\n",
    "        return True\n",
    "\n",
    "    if word_list[i] > word:\n",
    "        # search the first half\n",
    "        return in_bisect(word_list[:i], word)\n",
    "    else:\n",
    "        # search the second half\n",
    "        return in_bisect(word_list[i+1:], word)\n",
    "\n",
    "\n",
    "def in_bisect_cheat(word_list, word):\n",
    "    \"\"\"Checks whether a word is in a list using bisection search.\n",
    "\n",
    "    Precondition: the words in the list are sorted\n",
    "\n",
    "    word_list: list of strings\n",
    "    word: string\n",
    "    \"\"\"\n",
    "    i = bisect.bisect_left(word_list, word)\n",
    "    if i == len(word_list):\n",
    "        return False\n",
    "\n",
    "    return word_list[i] == word\n",
    "\n",
    "\n",
    "if __name__ == '__main__':\n",
    "    word_list = make_word_list()\n",
    "    \n",
    "    for word in ['aa', 'alien', 'allen', 'zymurgy']:\n",
    "        print(word, 'in list', in_bisect(word_list, word))\n",
    "\n",
    "    for word in ['aa', 'alien', 'allen', 'zymurgy']:\n",
    "        print(word, 'in list', in_bisect_cheat(word_list, word))"
   ]
  },
  {
   "cell_type": "markdown",
   "metadata": {},
   "source": [
    "**Exercise 10.11.** 两个单词中如果一个是另一个的反转，则二者被称为是 ‘‘反转词对’’。编写一个函数，找出单词表中所有的反转词对。"
   ]
  },
  {
   "cell_type": "code",
   "execution_count": 183,
   "metadata": {},
   "outputs": [
    {
     "name": "stdout",
     "output_type": "stream",
     "text": [
      "aa aa\n",
      "aba aba\n",
      "abut tuba\n",
      "ad da\n",
      "ados soda\n",
      "aga aga\n",
      "agar raga\n",
      "agas saga\n",
      "agenes senega\n",
      "ah ha\n",
      "aha aha\n",
      "aider redia\n",
      "airts stria\n",
      "ajar raja\n",
      "ala ala\n",
      "alif fila\n",
      "alula alula\n",
      "am ma\n",
      "ama ama\n",
      "amen nema\n",
      "amis sima\n",
      "an na\n",
      "ana ana\n",
      "anger regna\n",
      "animal lamina\n",
      "animes semina\n",
      "anna anna\n",
      "anon nona\n",
      "ante etna\n",
      "are era\n",
      "ares sera\n",
      "aril lira\n",
      "arris sirra\n",
      "arum mura\n",
      "at ta\n",
      "ate eta\n",
      "ates seta\n",
      "auks skua\n",
      "ava ava\n",
      "avid diva\n",
      "avo ova\n",
      "awa awa\n",
      "ay ya\n",
      "bad dab\n",
      "bag gab\n",
      "bal lab\n",
      "bals slab\n",
      "ban nab\n",
      "bard drab\n",
      "bas sab\n",
      "bat tab\n",
      "bats stab\n",
      "bed deb\n",
      "ben neb\n",
      "bib bib\n",
      "bid dib\n",
      "big gib\n",
      "bin nib\n",
      "bins snib\n",
      "bird drib\n",
      "bis sib\n",
      "bob bob\n",
      "bog gob\n",
      "boob boob\n",
      "bos sob\n",
      "bots stob\n",
      "bows swob\n",
      "brad darb\n",
      "brag garb\n",
      "bub bub\n",
      "bud dub\n",
      "bun nub\n",
      "buns snub\n",
      "bur rub\n",
      "burd drub\n",
      "burg grub\n",
      "bus sub\n",
      "but tub\n",
      "buts stub\n",
      "cam mac\n",
      "cap pac\n",
      "cares serac\n",
      "civic civic\n",
      "cod doc\n",
      "cram marc\n",
      "cud duc\n",
      "da ad\n",
      "dab bad\n",
      "dad dad\n",
      "dag gad\n",
      "dah had\n",
      "dahs shad\n",
      "dam mad\n",
      "dap pad\n",
      "darb brad\n",
      "dart trad\n",
      "daw wad\n",
      "deb bed\n",
      "debut tubed\n",
      "decal laced\n",
      "dedal laded\n",
      "deed deed\n",
      "deem meed\n",
      "deep peed\n",
      "deeps speed\n",
      "deer reed\n",
      "dees seed\n",
      "defer refed\n",
      "degami imaged\n",
      "deified deified\n",
      "deifier reified\n",
      "deil lied\n",
      "deke eked\n",
      "deked deked\n",
      "del led\n",
      "deled deled\n",
      "delf fled\n",
      "deliver reviled\n",
      "dels sled\n",
      "demit timed\n",
      "denier reined\n",
      "denies seined\n",
      "denim mined\n",
      "denned denned\n",
      "dens sned\n",
      "depot toped\n",
      "depots stoped\n",
      "derat tared\n",
      "derats stared\n",
      "dessert tressed\n",
      "desserts stressed\n",
      "devas saved\n",
      "devil lived\n",
      "dew wed\n",
      "dewans snawed\n",
      "dewed dewed\n",
      "dexes sexed\n",
      "dial laid\n",
      "dialer relaid\n",
      "diaper repaid\n",
      "dib bid\n",
      "did did\n",
      "dig gid\n",
      "dim mid\n",
      "dinar ranid\n",
      "diols sloid\n",
      "dirts strid\n",
      "diva avid\n",
      "do od\n",
      "doc cod\n",
      "dog god\n",
      "dom mod\n",
      "don nod\n",
      "doom mood\n",
      "door rood\n",
      "dor rod\n",
      "dormin nimrod\n",
      "dorp prod\n",
      "dos sod\n",
      "dot tod\n",
      "drab bard\n",
      "drail liard\n",
      "draw ward\n",
      "drawer reward\n",
      "draws sward\n",
      "dray yard\n",
      "drib bird\n",
      "drub burd\n",
      "dual laud\n",
      "dub bud\n",
      "duc cud\n",
      "ducs scud\n",
      "dud dud\n",
      "duel leud\n",
      "duo oud\n",
      "dup pud\n",
      "dups spud\n",
      "eat tae\n",
      "edile elide\n",
      "edit tide\n",
      "eel lee\n",
      "eh he\n",
      "eke eke\n",
      "eked deke\n",
      "elide edile\n",
      "elides sedile\n",
      "em me\n",
      "eme eme\n",
      "emes seme\n",
      "emir rime\n",
      "emit time\n",
      "emits stime\n",
      "enol lone\n",
      "er re\n",
      "era are\n",
      "ere ere\n",
      "ergo ogre\n",
      "eros sore\n",
      "ervil livre\n",
      "eta ate\n",
      "etas sate\n",
      "etna ante\n",
      "eve eve\n",
      "even neve\n",
      "evil live\n",
      "eviler relive\n",
      "ewe ewe\n",
      "eye eye\n",
      "fer ref\n",
      "fila alif\n",
      "fires serif\n",
      "fled delf\n",
      "flog golf\n",
      "flow wolf\n",
      "fool loof\n",
      "gab bag\n",
      "gad dag\n",
      "gag gag\n",
      "gal lag\n",
      "gals slag\n",
      "gam mag\n",
      "gan nag\n",
      "gar rag\n",
      "garb brag\n",
      "gas sag\n",
      "gat tag\n",
      "gats stag\n",
      "gel leg\n",
      "gelder redleg\n",
      "get teg\n",
      "gib big\n",
      "gid dig\n",
      "gig gig\n",
      "gip pig\n",
      "girt trig\n",
      "gnar rang\n",
      "gnat tang\n",
      "gnats stang\n",
      "gnaws swang\n",
      "gnus sung\n",
      "gob bog\n",
      "god dog\n",
      "golf flog\n",
      "got tog\n",
      "grub burg\n",
      "gul lug\n",
      "gulp plug\n",
      "guls slug\n",
      "gum mug\n",
      "gums smug\n",
      "guns snug\n",
      "gut tug\n",
      "ha ah\n",
      "habus subah\n",
      "had dah\n",
      "hah hah\n",
      "hahs shah\n",
      "halalah halalah\n",
      "hales selah\n",
      "hallah hallah\n",
      "hap pah\n",
      "hay yah\n",
      "he eh\n",
      "hey yeh\n",
      "ho oh\n",
      "hoop pooh\n",
      "hop poh\n",
      "huh huh\n",
      "imaged degami\n",
      "is si\n",
      "it ti\n",
      "jar raj\n",
      "kaiak kaiak\n",
      "kay yak\n",
      "kayak kayak\n",
      "keek keek\n",
      "keel leek\n",
      "keels sleek\n",
      "keep peek\n",
      "keets steek\n",
      "kips spik\n",
      "knaps spank\n",
      "knar rank\n",
      "knits stink\n",
      "kook kook\n",
      "lab bal\n",
      "laced decal\n",
      "laded dedal\n",
      "lag gal\n",
      "lager regal\n",
      "laid dial\n",
      "lair rial\n",
      "lamina animal\n",
      "lap pal\n",
      "lares seral\n",
      "larum mural\n",
      "las sal\n",
      "laud dual\n",
      "led del\n",
      "lee eel\n",
      "leek keel\n",
      "leer reel\n",
      "lees seel\n",
      "leets steel\n",
      "leg gel\n",
      "leper repel\n",
      "leud duel\n",
      "level level\n",
      "lever revel\n",
      "levins snivel\n",
      "liar rail\n",
      "liard drail\n",
      "lied deil\n",
      "lin nil\n",
      "lion noil\n",
      "lira aril\n",
      "lit til\n",
      "live evil\n",
      "lived devil\n",
      "livre ervil\n",
      "lobo obol\n",
      "lone enol\n",
      "loof fool\n",
      "loom mool\n",
      "loons snool\n",
      "loop pool\n",
      "loops spool\n",
      "loot tool\n",
      "looter retool\n",
      "loots stool\n",
      "lop pol\n",
      "lotos sotol\n",
      "lug gul\n",
      "ma am\n",
      "mac cam\n",
      "macs scam\n",
      "mad dam\n",
      "madam madam\n",
      "maes seam\n",
      "mag gam\n",
      "map pam\n",
      "mar ram\n",
      "marc cram\n",
      "marcs scram\n",
      "marram marram\n",
      "mart tram\n",
      "mat tam\n",
      "maws swam\n",
      "may yam\n",
      "me em\n",
      "meed deem\n",
      "meet teem\n",
      "mem mem\n",
      "meter retem\n",
      "mho ohm\n",
      "mid dim\n",
      "mils slim\n",
      "mim mim\n",
      "mined denim\n",
      "minim minim\n",
      "mir rim\n",
      "mis sim\n",
      "mod dom\n",
      "mom mom\n",
      "mon nom\n",
      "mood doom\n",
      "mool loom\n",
      "moor room\n",
      "moot toom\n",
      "mot tom\n",
      "mug gum\n",
      "mum mum\n",
      "mura arum\n",
      "mural larum\n",
      "mures serum\n",
      "mus sum\n",
      "muts stum\n",
      "na an\n",
      "nab ban\n",
      "nag gan\n",
      "namer reman\n",
      "nap pan\n",
      "naps span\n",
      "neb ben\n",
      "neep peen\n",
      "nema amen\n",
      "net ten\n",
      "neve even\n",
      "neves seven\n",
      "new wen\n",
      "nib bin\n",
      "nil lin\n",
      "nimrod dormin\n",
      "nip pin\n",
      "nips spin\n",
      "nit tin\n",
      "no on\n",
      "nod don\n",
      "noil lion\n",
      "nolos solon\n",
      "nom mon\n",
      "nona anon\n",
      "noon noon\n",
      "nos son\n",
      "not ton\n",
      "notes seton\n",
      "now won\n",
      "nu un\n",
      "nub bun\n",
      "nun nun\n",
      "nus sun\n",
      "nut tun\n",
      "nuts stun\n",
      "oat tao\n",
      "obol lobo\n",
      "od do\n",
      "ogre ergo\n",
      "oh ho\n",
      "ohm mho\n",
      "oho oho\n",
      "on no\n",
      "oohs shoo\n",
      "oot too\n",
      "os so\n",
      "otto otto\n",
      "oud duo\n",
      "ova avo\n",
      "ow wo\n",
      "pac cap\n",
      "pacer recap\n",
      "pad dap\n",
      "pah hap\n",
      "pal lap\n",
      "pals slap\n",
      "pam map\n",
      "pan nap\n",
      "pans snap\n",
      "pap pap\n",
      "par rap\n",
      "part trap\n",
      "parts strap\n",
      "pas sap\n",
      "pat tap\n",
      "paw wap\n",
      "paws swap\n",
      "pay yap\n",
      "peed deep\n",
      "peek keep\n",
      "peels sleep\n",
      "peen neep\n",
      "peep peep\n",
      "pees seep\n",
      "pep pep\n",
      "per rep\n",
      "pets step\n",
      "pig gip\n",
      "pin nip\n",
      "pins snip\n",
      "pip pip\n",
      "pis sip\n",
      "pit tip\n",
      "plug gulp\n",
      "poh hop\n",
      "pol lop\n",
      "pols slop\n",
      "pooh hoop\n",
      "pool loop\n",
      "pools sloop\n",
      "poons snoop\n",
      "poop poop\n",
      "pop pop\n",
      "port trop\n",
      "ports strop\n",
      "pot top\n",
      "pots stop\n",
      "pow wop\n",
      "pows swop\n",
      "prat tarp\n",
      "prod dorp\n",
      "pud dup\n",
      "pup pup\n",
      "pupils slipup\n",
      "puris sirup\n",
      "pus sup\n",
      "put tup\n",
      "radar radar\n",
      "rag gar\n",
      "raga agar\n",
      "rail liar\n",
      "raj jar\n",
      "raja ajar\n",
      "ram mar\n",
      "rang gnar\n",
      "ranid dinar\n",
      "rank knar\n",
      "rap par\n",
      "raps spar\n",
      "rat tar\n",
      "rats star\n",
      "raw war\n",
      "ray yar\n",
      "re er\n",
      "rebus suber\n",
      "rebut tuber\n",
      "recap pacer\n",
      "recaps spacer\n",
      "redder redder\n",
      "redes seder\n",
      "redia aider\n",
      "redips spider\n",
      "redleg gelder\n",
      "redraw warder\n",
      "redrawer rewarder\n",
      "reed deer\n",
      "reel leer\n",
      "rees seer\n",
      "ref fer\n",
      "refed defer\n",
      "refer refer\n",
      "reflet telfer\n",
      "reflow wolfer\n",
      "regal lager\n",
      "regna anger\n",
      "reified deifier\n",
      "reifier reifier\n",
      "reined denier\n",
      "reknit tinker\n",
      "reknits stinker\n",
      "relaid dialer\n",
      "relit tiler\n",
      "relive eviler\n",
      "reman namer\n",
      "remeet teemer\n",
      "remit timer\n",
      "rennet tenner\n",
      "rep per\n",
      "repaid diaper\n",
      "repaper repaper\n",
      "repel leper\n",
      "repins sniper\n",
      "res ser\n",
      "retem meter\n",
      "retool looter\n",
      "revel lever\n",
      "reviled deliver\n",
      "reviver reviver\n",
      "reward drawer\n",
      "rewarder redrawer\n",
      "rial lair\n",
      "rim mir\n",
      "rime emir\n",
      "rod dor\n",
      "rood door\n",
      "room moor\n",
      "rot tor\n",
      "rotator rotator\n",
      "rotor rotor\n",
      "rub bur\n",
      "sab bas\n",
      "sag gas\n",
      "saga agas\n",
      "sagas sagas\n",
      "sal las\n",
      "sallets stellas\n",
      "sap pas\n",
      "saps spas\n",
      "sat tas\n",
      "sate etas\n",
      "saved devas\n",
      "saw was\n",
      "scam macs\n",
      "scares seracs\n",
      "scram marcs\n",
      "scud ducs\n",
      "seam maes\n",
      "secret terces\n",
      "seder redes\n",
      "sedile elides\n",
      "seed dees\n",
      "seeks skees\n",
      "seel lees\n",
      "seep pees\n",
      "seer rees\n",
      "sees sees\n",
      "seined denies\n",
      "selah hales\n",
      "selahs shales\n",
      "selles selles\n",
      "seme emes\n",
      "sememes sememes\n",
      "semes semes\n",
      "semina animes\n",
      "senega agenes\n",
      "ser res\n",
      "sera ares\n",
      "serac cares\n",
      "seracs scares\n",
      "seral lares\n",
      "seres seres\n",
      "serif fires\n",
      "serum mures\n",
      "seta ates\n",
      "seton notes\n",
      "seven neves\n",
      "sexed dexes\n",
      "sexes sexes\n",
      "shad dahs\n",
      "shah hahs\n",
      "shahs shahs\n",
      "shales selahs\n",
      "shoo oohs\n",
      "si is\n",
      "sib bis\n",
      "sim mis\n",
      "sima amis\n",
      "sip pis\n",
      "sirra arris\n",
      "sirs sris\n",
      "sirup puris\n",
      "sis sis\n",
      "sit tis\n",
      "six xis\n",
      "skees seeks\n",
      "skeets steeks\n",
      "skips spiks\n",
      "skua auks\n",
      "slab bals\n",
      "slag gals\n",
      "slap pals\n",
      "sled dels\n",
      "sleek keels\n",
      "sleep peels\n",
      "sleeps speels\n",
      "sleets steels\n",
      "slim mils\n",
      "slipup pupils\n",
      "slit tils\n",
      "sloid diols\n",
      "sloop pools\n",
      "sloops spools\n",
      "slop pols\n",
      "slug guls\n",
      "smart trams\n",
      "smug gums\n",
      "smuts stums\n",
      "snap pans\n",
      "snaps spans\n",
      "snaw wans\n",
      "snawed dewans\n",
      "snaws swans\n",
      "sned dens\n",
      "snib bins\n",
      "snip pins\n",
      "sniper repins\n",
      "snips spins\n",
      "snit tins\n",
      "snivel levins\n",
      "snool loons\n",
      "snoop poons\n",
      "snoops spoons\n",
      "snoot toons\n",
      "snot tons\n",
      "snow wons\n",
      "snub buns\n",
      "snug guns\n",
      "so os\n",
      "sob bos\n",
      "sod dos\n",
      "soda ados\n",
      "solon nolos\n",
      "solos solos\n",
      "son nos\n",
      "sore eros\n",
      "sos sos\n",
      "sotol lotos\n",
      "sow wos\n",
      "spacer recaps\n",
      "span naps\n",
      "spank knaps\n",
      "spans snaps\n",
      "spar raps\n",
      "spas saps\n",
      "spat taps\n",
      "spay yaps\n",
      "speed deeps\n",
      "speels sleeps\n",
      "spider redips\n",
      "spik kips\n",
      "spiks skips\n",
      "spin nips\n",
      "spins snips\n",
      "spirt trips\n",
      "spirts strips\n",
      "spit tips\n",
      "spool loops\n",
      "spools sloops\n",
      "spoons snoops\n",
      "sports strops\n",
      "spot tops\n",
      "spots stops\n",
      "sprat tarps\n",
      "sprits stirps\n",
      "spud dups\n",
      "sris sirs\n",
      "stab bats\n",
      "stag gats\n",
      "stang gnats\n",
      "star rats\n",
      "stared derats\n",
      "staw wats\n",
      "steek keets\n",
      "steeks skeets\n",
      "steel leets\n",
      "steels sleets\n",
      "stellas sallets\n",
      "step pets\n",
      "stets stets\n",
      "stew wets\n",
      "stime emits\n",
      "stink knits\n",
      "stinker reknits\n",
      "stirps sprits\n",
      "stob bots\n",
      "stool loots\n",
      "stop pots\n",
      "stoped depots\n",
      "stops spots\n",
      "stow wots\n",
      "stows swots\n",
      "strap parts\n",
      "straw warts\n",
      "stressed desserts\n",
      "stria airts\n",
      "strid dirts\n",
      "strips spirts\n",
      "strop ports\n",
      "strops sports\n",
      "strow worts\n",
      "struts sturts\n",
      "stub buts\n",
      "stum muts\n",
      "stums smuts\n",
      "stun nuts\n",
      "sturts struts\n",
      "sub bus\n",
      "subah habus\n",
      "suber rebus\n",
      "sum mus\n",
      "sun nus\n",
      "sung gnus\n",
      "sup pus\n",
      "swam maws\n",
      "swang gnaws\n",
      "swans snaws\n",
      "swap paws\n",
      "sward draws\n",
      "swat taws\n",
      "sway yaws\n",
      "swob bows\n",
      "swop pows\n",
      "swot tows\n",
      "swots stows\n",
      "ta at\n",
      "tab bat\n",
      "tae eat\n",
      "tag gat\n",
      "tam mat\n",
      "tang gnat\n",
      "tao oat\n",
      "tap pat\n",
      "taps spat\n",
      "tar rat\n",
      "tared derat\n",
      "tarp prat\n",
      "tarps sprat\n",
      "tas sat\n",
      "tat tat\n",
      "tav vat\n",
      "taw wat\n",
      "taws swat\n",
      "teem meet\n",
      "teemer remeet\n",
      "teg get\n",
      "telfer reflet\n",
      "ten net\n",
      "tenet tenet\n",
      "tenner rennet\n",
      "terces secret\n",
      "terret terret\n",
      "tew wet\n",
      "ti it\n",
      "tide edit\n",
      "til lit\n",
      "tiler relit\n",
      "tils slit\n",
      "time emit\n",
      "timed demit\n",
      "timer remit\n",
      "tin nit\n",
      "tinker reknit\n",
      "tins snit\n",
      "tip pit\n",
      "tips spit\n",
      "tis sit\n",
      "tit tit\n"
     ]
    },
    {
     "name": "stdout",
     "output_type": "stream",
     "text": [
      "tod dot\n",
      "tog got\n",
      "tom mot\n",
      "ton not\n",
      "tons snot\n",
      "too oot\n",
      "tool loot\n",
      "toom moot\n",
      "toons snoot\n",
      "toot toot\n",
      "top pot\n",
      "toped depot\n",
      "tops spot\n",
      "tor rot\n",
      "tort trot\n",
      "tot tot\n",
      "tow wot\n",
      "tows swot\n",
      "trad dart\n",
      "tram mart\n",
      "trams smart\n",
      "trap part\n",
      "tressed dessert\n",
      "trig girt\n",
      "trips spirt\n",
      "trop port\n",
      "trot tort\n",
      "trow wort\n",
      "tub but\n",
      "tuba abut\n",
      "tubed debut\n",
      "tuber rebut\n",
      "tug gut\n",
      "tun nut\n",
      "tup put\n",
      "tut tut\n",
      "un nu\n",
      "vat tav\n",
      "vav vav\n",
      "wad daw\n",
      "wans snaw\n",
      "wap paw\n",
      "war raw\n",
      "ward draw\n",
      "warder redraw\n",
      "warts straw\n",
      "was saw\n",
      "wat taw\n",
      "wats staw\n",
      "waw waw\n",
      "way yaw\n",
      "wed dew\n",
      "wen new\n",
      "wet tew\n",
      "wets stew\n",
      "wo ow\n",
      "wolf flow\n",
      "wolfer reflow\n",
      "won now\n",
      "wons snow\n",
      "wop pow\n",
      "wort trow\n",
      "worts strow\n",
      "wos sow\n",
      "wot tow\n",
      "wots stow\n",
      "wow wow\n",
      "xis six\n",
      "ya ay\n",
      "yah hay\n",
      "yak kay\n",
      "yam may\n",
      "yap pay\n",
      "yaps spay\n",
      "yar ray\n",
      "yard dray\n",
      "yaw way\n",
      "yaws sway\n",
      "yay yay\n",
      "yeh hey\n"
     ]
    }
   ],
   "source": [
    "import bisect\n",
    "\n",
    "def reverse_pair(word_list, word):\n",
    "    \"\"\"Checks whether a reversed word appears in word_list.\n",
    "\n",
    "    word_list: list of strings\n",
    "    word: string\n",
    "    \"\"\"\n",
    "    rev_word = word[::-1]\n",
    "    return in_bisect(word_list, rev_word)\n",
    "        \n",
    "\n",
    "if __name__ == '__main__':\n",
    "    word_list = make_word_list()\n",
    "    \n",
    "    for word in word_list:\n",
    "        if reverse_pair(word_list, word):\n",
    "            print(word, word[::-1])"
   ]
  },
  {
   "cell_type": "markdown",
   "metadata": {},
   "source": [
    "**Exercise 10.12.** 如果交替的从两个单词中取出字符将组成一个新的单词，这两个单词被称为是 ‘‘连锁词’’。例如，“shoe” 和 “cold” 连锁后成为 “schooled”。\n",
    "\n",
    "1. 编写一个程序，找出单词表中所有的连锁词。提示：不要枚举所有的单词对。\n",
    "\n",
    "2. 你能够找到三重连锁的单词吗？即每个字母依次从 3 个单词得到。"
   ]
  },
  {
   "cell_type": "code",
   "execution_count": null,
   "metadata": {},
   "outputs": [],
   "source": []
  }
 ],
 "metadata": {
  "kernelspec": {
   "display_name": "Python 3",
   "language": "python",
   "name": "python3"
  },
  "language_info": {
   "codemirror_mode": {
    "name": "ipython",
    "version": 3
   },
   "file_extension": ".py",
   "mimetype": "text/x-python",
   "name": "python",
   "nbconvert_exporter": "python",
   "pygments_lexer": "ipython3",
   "version": "3.6.5"
  }
 },
 "nbformat": 4,
 "nbformat_minor": 2
}
