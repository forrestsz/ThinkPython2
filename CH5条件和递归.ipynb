{
 "cells": [
  {
   "cell_type": "markdown",
   "metadata": {},
   "source": [
    "# 第五章 条件和递归"
   ]
  },
  {
   "cell_type": "markdown",
   "metadata": {},
   "source": [
    "本章中心议题是根据程序的状态执行不同命令的 if 语句。在这之前我们先介绍两个新的运算符: *地板除法* (floor division) 和*求余* (modulus)。"
   ]
  },
  {
   "cell_type": "markdown",
   "metadata": {},
   "source": [
    "## 5.1 地板除法和求余"
   ]
  },
  {
   "cell_type": "markdown",
   "metadata": {},
   "source": [
    "*地板除运算符* (floor division operator) 为 `//` 即先做除法，然后将结果向下保留到整数。例如，如果一部电影时长 105 分钟，你可能想知道这代表着多少小时。传统的除法操作会返回一个浮点数："
   ]
  },
  {
   "cell_type": "code",
   "execution_count": 2,
   "metadata": {},
   "outputs": [
    {
     "data": {
      "text/plain": [
       "1.75"
      ]
     },
     "execution_count": 2,
     "metadata": {},
     "output_type": "execute_result"
    }
   ],
   "source": [
    "minutes = 105\n",
    "minutes / 60"
   ]
  },
  {
   "cell_type": "markdown",
   "metadata": {},
   "source": [
    "但是，以小时做单位时我们通常不会写出小数部分。地板除法丢弃除法运算结果的小数部分，返回整数个小时："
   ]
  },
  {
   "cell_type": "code",
   "execution_count": 3,
   "metadata": {},
   "outputs": [
    {
     "data": {
      "text/plain": [
       "1"
      ]
     },
     "execution_count": 3,
     "metadata": {},
     "output_type": "execute_result"
    }
   ],
   "source": [
    "minutes = 105\n",
    "hours = minutes // 60\n",
    "hours"
   ]
  },
  {
   "cell_type": "markdown",
   "metadata": {},
   "source": [
    "如果你希望得到余数，你可以从除数中减去一个小时也就是 60 分钟："
   ]
  },
  {
   "cell_type": "code",
   "execution_count": 5,
   "metadata": {},
   "outputs": [
    {
     "data": {
      "text/plain": [
       "45"
      ]
     },
     "execution_count": 5,
     "metadata": {},
     "output_type": "execute_result"
    }
   ],
   "source": [
    "remainder = minutes - hours * 60\n",
    "remainder"
   ]
  },
  {
   "cell_type": "markdown",
   "metadata": {},
   "source": [
    "另一个方法就是使用*求余运算符* (modulus operator)，`%` ，它会将两个数相除，返回余数。"
   ]
  },
  {
   "cell_type": "code",
   "execution_count": 7,
   "metadata": {},
   "outputs": [
    {
     "data": {
      "text/plain": [
       "45"
      ]
     },
     "execution_count": 7,
     "metadata": {},
     "output_type": "execute_result"
    }
   ],
   "source": [
    "remainder = minutes % 60\n",
    "remainder"
   ]
  },
  {
   "cell_type": "markdown",
   "metadata": {},
   "source": [
    "求余运算符比看起来更加有用。例如，你可以查看一个数是否可以被另一个数整除 —\n",
    "如果 `x % y`　的结果是 0，那么` x` 能被` y` 整除。\n",
    "\n",
    "此外，你也能获得一个数的最右边一位或多位的数字。例如，`x % 10` 返回 x 最右边一位的数字（十进制）。类似地，`x % 100`返回最后两位数字。\n",
    "\n",
    "如果你正在使用 Python 2, 那么除法就会和前面的介绍有点不同。除法运算符` /`　在被除数和除数都是整数的时候，会进行地板除，但是当被除数和除数中任意一个是浮点数的时候，则进行浮点数除法"
   ]
  },
  {
   "cell_type": "markdown",
   "metadata": {},
   "source": [
    "## 5.2 布尔表达式"
   ]
  },
  {
   "cell_type": "markdown",
   "metadata": {},
   "source": [
    "*布尔表达式* (boolean expression) 的结果要么为**真**要么为**假**。下面的例子使用 `==` 运算符。它比较两个运算数，如果它们相等，则结果为 `True` ，否则结果为 `False`。"
   ]
  },
  {
   "cell_type": "code",
   "execution_count": 9,
   "metadata": {},
   "outputs": [
    {
     "data": {
      "text/plain": [
       "True"
      ]
     },
     "execution_count": 9,
     "metadata": {},
     "output_type": "execute_result"
    }
   ],
   "source": [
    "5 == 5"
   ]
  },
  {
   "cell_type": "code",
   "execution_count": 10,
   "metadata": {},
   "outputs": [
    {
     "data": {
      "text/plain": [
       "False"
      ]
     },
     "execution_count": 10,
     "metadata": {},
     "output_type": "execute_result"
    }
   ],
   "source": [
    "5 == 6"
   ]
  },
  {
   "cell_type": "markdown",
   "metadata": {},
   "source": [
    "`True` 和 `False` 是属于 `bool` 类型的特殊值；它们不是字符串。"
   ]
  },
  {
   "cell_type": "code",
   "execution_count": 12,
   "metadata": {},
   "outputs": [
    {
     "data": {
      "text/plain": [
       "bool"
      ]
     },
     "execution_count": 12,
     "metadata": {},
     "output_type": "execute_result"
    }
   ],
   "source": [
    "type(True)"
   ]
  },
  {
   "cell_type": "code",
   "execution_count": 13,
   "metadata": {},
   "outputs": [
    {
     "data": {
      "text/plain": [
       "bool"
      ]
     },
     "execution_count": 13,
     "metadata": {},
     "output_type": "execute_result"
    }
   ],
   "source": [
    "type(False)"
   ]
  },
  {
   "attachments": {
    "image.png": {
     "image/png": "[encoded data removed]"
    }
   },
   "cell_type": "markdown",
   "metadata": {},
   "source": [
    "`==` 运算符是*关系运算符* (relational operators) 之一；其他关系运算符还有：\n",
    "![image.png](attachment:image.png)\n",
    "\n",
    "虽然这些运算符对你来说可能很熟悉，但是 Python 的符号与数学符号不相同。一个常见的错误是使用单独一个等号 (=) 而不是双等号 (==)。请记住，`=` 是赋值运算符，`==` 是关系运算符。没有类似 `=< `或 `=>` 的东西。"
   ]
  },
  {
   "cell_type": "markdown",
   "metadata": {},
   "source": [
    "## 5.3 逻辑运算符"
   ]
  },
  {
   "cell_type": "markdown",
   "metadata": {},
   "source": [
    "有三个*逻辑运算符* (logical operators) ：`and` 、`or` 和 `not`。这些运算符的含义和它们在英语的意思相似。例如，`x > 0 and x < 10` 只在 x 大于 0 **并且** 小于 `10` 时为真。\n",
    "\n",
    "`n%2 == 0 or n%3 == 0` 中如果一个或两个 条件为真，那么整个表达式即为真。也就是说，果数字`n` 能被 `2 `或者 `3` 整除，则为真。\n",
    "\n",
    "最后，`not` 运算符对一个布尔表达式取反，因此，如果 `x > y` 为假，也就是说 `x` 小于或等于 `y`，则 `not (x > y)` 为真。\n",
    "\n",
    "严格来讲，逻辑运算符的运算数应该是布尔表达式，但是 Python 并不严格要求。任何非 0 的数字都被解释成为真 ( True )。"
   ]
  },
  {
   "cell_type": "code",
   "execution_count": 15,
   "metadata": {},
   "outputs": [
    {
     "data": {
      "text/plain": [
       "True"
      ]
     },
     "execution_count": 15,
     "metadata": {},
     "output_type": "execute_result"
    }
   ],
   "source": [
    "42 and True"
   ]
  },
  {
   "cell_type": "markdown",
   "metadata": {},
   "source": [
    "这种灵活性很有用，但有一些细节可能容易令人困惑。你可能需要避免这种用法（除非\n",
    "你知道你正在做什么）。"
   ]
  },
  {
   "cell_type": "markdown",
   "metadata": {},
   "source": [
    "## 5.4 有条件执行"
   ]
  },
  {
   "cell_type": "markdown",
   "metadata": {},
   "source": [
    "为了写出有用的程序，我们几乎总是需要能够检测条件，并相应地改变程序行为。*条件\n",
    "语句* (conditional statements) 给予了我们这一能力。最简单的形式是 `if` 语句："
   ]
  },
  {
   "cell_type": "code",
   "execution_count": 34,
   "metadata": {},
   "outputs": [
    {
     "name": "stdout",
     "output_type": "stream",
     "text": [
      "x is positive\n"
     ]
    }
   ],
   "source": [
    "x = 5\n",
    "if x > 0:\n",
    "    print('x is positive')"
   ]
  },
  {
   "cell_type": "markdown",
   "metadata": {},
   "source": [
    "`if` 之后的布尔表达式被称作*条件* (condition) 。如果它为真，则缩进的语句会被执行。如果不是，则什么也不会发生。\n",
    "\n",
    "`if` 语句和函数定义有相同的结构：一个语句头跟着一个缩进的语句体。类似的语句被称作*复合语句* (compound statements) 。\n",
    "\n",
    "语句体中可出现的语句数目没有限制，但是至少得有一个。有时候，一条语句都没有的语句体也是有用的（通常是为你还没写的代码占一个位子）。这种情况下，你可以使用`pass` 语句，它什么也不做。"
   ]
  },
  {
   "cell_type": "code",
   "execution_count": 35,
   "metadata": {},
   "outputs": [],
   "source": [
    "if x < 0:\n",
    "    pass"
   ]
  },
  {
   "cell_type": "markdown",
   "metadata": {},
   "source": [
    "## 5.5 二选一执行"
   ]
  },
  {
   "cell_type": "markdown",
   "metadata": {},
   "source": [
    "in which there are two possibilities and the condition determines which one runs. Thesyntax looks like this:\n",
    "\n",
    "`if` 语句的第二种形式是 “*二选一执行*” (alternative execution) ，此时有两个可能的选择，由条件决定执行哪一个。语法看起来是这样："
   ]
  },
  {
   "cell_type": "code",
   "execution_count": 36,
   "metadata": {},
   "outputs": [
    {
     "name": "stdout",
     "output_type": "stream",
     "text": [
      "x is odd\n"
     ]
    }
   ],
   "source": [
    "if x % 2 == 0:\n",
    "    print('x is even')\n",
    "else:\n",
    "    print('x is odd')"
   ]
  },
  {
   "cell_type": "markdown",
   "metadata": {},
   "source": [
    "如果 `x` 除以 `2` 的余数是 `0`，那么我们知道 `x` 是偶数，然后程序会打印相应的信息。如果条件为假，则执行第二部分语句。由于条件要么为真要么为假，两个选择中只有一个会被执行。这些选择被称作*分支* (branches)，因为它们是执行流程的分支。"
   ]
  },
  {
   "cell_type": "markdown",
   "metadata": {},
   "source": [
    "## 5.6 链式条件"
   ]
  },
  {
   "cell_type": "markdown",
   "metadata": {},
   "source": [
    "有时有超过两个可能的情况，于是我们需要多于两个的分支。表示像这样的计算的方法之一是*链式条件* (chained conditional)："
   ]
  },
  {
   "cell_type": "code",
   "execution_count": 37,
   "metadata": {},
   "outputs": [
    {
     "name": "stdout",
     "output_type": "stream",
     "text": [
      "x and y are equal\n"
     ]
    }
   ],
   "source": [
    "y = x\n",
    "if x < y:\n",
    "    print('x is less than y')\n",
    "elif x > y:\n",
    "    print('x is greater than y')\n",
    "else:\n",
    "    print('x and y are equal')"
   ]
  },
  {
   "cell_type": "markdown",
   "metadata": {},
   "source": [
    "`elif` 是 “else if” 的缩写。同样地，这里只有一个分支会被执行。`elif` 语句的数目没有限制。如果有一个 `else` 从句，它必须是在最后，但这个语句并不是必须。"
   ]
  },
  {
   "cell_type": "code",
   "execution_count": 41,
   "metadata": {},
   "outputs": [],
   "source": [
    "choice = ''\n",
    "if choice == 'a':\n",
    "    drwa_a()\n",
    "elif choice == 'b':\n",
    "    draw_b()\n",
    "elif choice == 'c':\n",
    "    draw_c()"
   ]
  },
  {
   "cell_type": "markdown",
   "metadata": {},
   "source": [
    "程序将按顺序逐个检测条件，如果第一个为假，则检测下一个，以此类推。如果它们中有一个为真，相应的分支被执行，并且结束语句。即便有不止一个条件为真，也只执第一个为真的分支。"
   ]
  },
  {
   "cell_type": "markdown",
   "metadata": {},
   "source": [
    "## 5.7 嵌套条件"
   ]
  },
  {
   "cell_type": "markdown",
   "metadata": {},
   "source": [
    "一个条件可以嵌到另一个里面。我们可以这样写前一节的例子："
   ]
  },
  {
   "cell_type": "code",
   "execution_count": 44,
   "metadata": {},
   "outputs": [
    {
     "name": "stdout",
     "output_type": "stream",
     "text": [
      "x and y are equal\n"
     ]
    }
   ],
   "source": [
    "if x == y:\n",
    "    print('x and y are equal')\n",
    "else:\n",
    "    if x < y:\n",
    "        print('x is less than y')\n",
    "    else:\n",
    "        print('x is greater than y')"
   ]
  },
  {
   "cell_type": "markdown",
   "metadata": {},
   "source": [
    "外层的条件包含两条分支。第一个分支包括一条简单的语句。第二个分支包括一个 `if`语句，它又有两条子分支。这两条子分支都是简单的语句，当然它们也可以再嵌入条件语句。\n",
    "\n",
    "虽然语句的缩进使得结构很明显，但是仍然很难快速地阅读*嵌套条件 *(nested conditionals) 。当你可以的时候，避免使用嵌套条件是个好办法。\n",
    "\n",
    "逻辑运算符通常是一个简化嵌套条件语句的方法。例如，我们可以用一个单一条件重写下面的代码。"
   ]
  },
  {
   "cell_type": "code",
   "execution_count": 45,
   "metadata": {},
   "outputs": [
    {
     "name": "stdout",
     "output_type": "stream",
     "text": [
      "x is a positive single-digit number\n"
     ]
    }
   ],
   "source": [
    "if 0 < x:\n",
    "    if x < 10:\n",
    "        print('x is a positive single-digit number')"
   ]
  },
  {
   "cell_type": "markdown",
   "metadata": {},
   "source": [
    "只有通过了两个条件检测的时候，`print` 语句才被执行，因此我们可以用 `and`运算符得到\n",
    "相同的效果："
   ]
  },
  {
   "cell_type": "code",
   "execution_count": 47,
   "metadata": {},
   "outputs": [
    {
     "name": "stdout",
     "output_type": "stream",
     "text": [
      "x is a positive single-digit number.\n"
     ]
    }
   ],
   "source": [
    "if 0 < x and x < 10:\n",
    "    print('x is a positive single-digit number.')"
   ]
  },
  {
   "cell_type": "markdown",
   "metadata": {},
   "source": [
    "对于这样的条件，Python 提供了一种更加简洁的写法。"
   ]
  },
  {
   "cell_type": "code",
   "execution_count": 50,
   "metadata": {},
   "outputs": [
    {
     "name": "stdout",
     "output_type": "stream",
     "text": [
      "x is a positive single-digit number.\n"
     ]
    }
   ],
   "source": [
    "if 0 < x < 10:\n",
    "    print('x is a positive single-digit number.')"
   ]
  },
  {
   "cell_type": "markdown",
   "metadata": {},
   "source": [
    "## 5.8 递归"
   ]
  },
  {
   "cell_type": "markdown",
   "metadata": {},
   "source": [
    "一个函数调用另一个是合法的；一个函数调用它自己其实也是合法的。这样做的好处也许看上去不那么明显，但它实际上它是程序最神奇的魔法之一。例如，下面这个函数："
   ]
  },
  {
   "cell_type": "code",
   "execution_count": 52,
   "metadata": {},
   "outputs": [],
   "source": [
    "def countdown(n):\n",
    "    if n <= 0:\n",
    "        print('BlastOff')\n",
    "    else:\n",
    "        print(n)\n",
    "        countdown(n-1)"
   ]
  },
  {
   "cell_type": "markdown",
   "metadata": {},
   "source": [
    "如果 `n` 是0 或负数，程序输出单词 “Blastoff!”。否则，它输出` n` 然后调用一个名为 `countdown`的函数—即它自己 — 传递 `n−1` 作为实参。\n",
    "\n",
    "如果我们像这样调用该函数会发生什么呢？"
   ]
  },
  {
   "cell_type": "markdown",
   "metadata": {},
   "source": [
    "`countdown` 开始以 `n=3` 执行，由于 `n` 大于 0，它输出值 3，然后调用它自己...\n",
    "    \n",
    "`countdown` 开始以 `n=2` 执行，由于 `n` 大于 0，它输出值 2，然后调用它自己...\n",
    "    \n",
    "`countdown` 开始以 `n=1` 执行，既然 `n` 大于 0，它输出值 1，然后调它自己...\n",
    "        \n",
    "`countdown` 开始以 `n=0` 执行，由于 `n` 不大于 0，它输出单词\n",
    "            \n",
    "“Blastoff!”，然后返回。\n",
    "        \n",
    "获得 `n=1` 的 `countdown` 返回。\n",
    "            \n",
    "获得 `n=2` 的 `countdown` 返回。\n",
    "    \n",
    "获得 `n=3` 的 `countdown` 返回。\n",
    "\n",
    "然后回到 __main__ 中。因此整个输出类似于："
   ]
  },
  {
   "cell_type": "code",
   "execution_count": 56,
   "metadata": {},
   "outputs": [
    {
     "name": "stdout",
     "output_type": "stream",
     "text": [
      "3\n",
      "2\n",
      "1\n",
      "BlastOff\n"
     ]
    }
   ],
   "source": [
    "countdown(3)"
   ]
  },
  {
   "cell_type": "markdown",
   "metadata": {},
   "source": [
    "一个调用它自己的函数被称为`递归`的 (recursive) ；这种过程被称作`递归` (recursion) 。再举一例，我们可以写一个函数，其打印一个字符串 `n` 次。"
   ]
  },
  {
   "cell_type": "code",
   "execution_count": 57,
   "metadata": {},
   "outputs": [],
   "source": [
    "def print_n(s, n):\n",
    "    if n <= 0:\n",
    "        return\n",
    "    print(s)\n",
    "    print_n(s, n-1)"
   ]
  },
  {
   "cell_type": "markdown",
   "metadata": {},
   "source": [
    "如果 `n <= 0` ，`return`语句 退出函数。执行流程马上返回到调用者，剩下的语句不会被执行。\n",
    "\n",
    "函数的其余部分和 `countdown` 相似：它打印 `s` 的值，然后调用自身打印 `s` $n−1$ 次。因此，输出的行数是 `1 + (n − 1)` ，加起来是 `n`。\n",
    "\n",
    "对于像这样简单的例子，使用 for 循环可能更容易。但是我们后面将看到一些用 for 循环很难写，用递归却很容易的例子，所以早点儿开始学习递归有好处。"
   ]
  },
  {
   "cell_type": "markdown",
   "metadata": {},
   "source": [
    "## 5.9 递归函数的堆栈图"
   ]
  },
  {
   "attachments": {
    "image.png": {
     "image/png": "[encoded data removed]"
    }
   },
   "cell_type": "markdown",
   "metadata": {},
   "source": [
    "在 3.9 小节中，我们用堆栈图表示了一个函数调用期间程序的状态。这种图也能帮我们理解递归函数。\n",
    "\n",
    "每当一个函数被调用时，Python 生成一个新的栈帧，用于保存函数的局部变量和形参。对于一个递归函数，在堆栈上可能同时有多个栈帧。\n",
    "\n",
    "图 5.1 展示了一个以 `n = 3` 调用 `countdown` 的堆栈图。\n",
    "\n",
    "![image.png](attachment:image.png)\n",
    "\n",
    "通常，堆栈的顶部是 `__main__` 栈帧。因为我们在 `__main__` 中没有创建任何变量，也没有传递任何实参给它，所以它是空的。\n",
    "\n",
    "对于形参 `n` ，四个 `countdown` 栈帧有不同的值。`n=0` 的栈底，被称作*基础情形* (base case)。它不再进行递归调用了，所以没有更多的栈帧了。\n",
    "\n",
    "接下来练习一下，请画一个以 `s = 'Hello'` 和 `n=2` 调用 `print_n` 的堆栈图。写一个名为 `do_n`的函数，接受一个函数对象和一个数 `n` 作为实参，能够调用指定的函数 `n` 次。"
   ]
  },
  {
   "cell_type": "code",
   "execution_count": 59,
   "metadata": {},
   "outputs": [],
   "source": [
    "def do_n(f, n):\n",
    "    if n <= 0:\n",
    "        return\n",
    "    do_n(f, n-1)"
   ]
  },
  {
   "cell_type": "markdown",
   "metadata": {},
   "source": [
    "## 5.10 无限递归"
   ]
  },
  {
   "cell_type": "markdown",
   "metadata": {},
   "source": [
    "如果一个递归永不会到达基础情形，它将永远进行递归调用，并且程序永远不会终止。这被称作`无限递归` (infinite recursion) ，通常这不是一个好主意。下面是一个最简单的无限递归程序："
   ]
  },
  {
   "cell_type": "code",
   "execution_count": 62,
   "metadata": {},
   "outputs": [],
   "source": [
    "def recurse():\n",
    "    recurse()"
   ]
  },
  {
   "cell_type": "markdown",
   "metadata": {},
   "source": [
    "在大多数编程环境里，一个具有无限递归的程序并非永远不会终止。当达到最大递归深度时，Python 会报告一个错误信息："
   ]
  },
  {
   "cell_type": "code",
   "execution_count": 63,
   "metadata": {},
   "outputs": [
    {
     "ename": "RecursionError",
     "evalue": "maximum recursion depth exceeded",
     "output_type": "error",
     "traceback": [
      "\u001b[1;31m---------------------------------------------------------------------------\u001b[0m",
      "\u001b[1;31mRecursionError\u001b[0m                            Traceback (most recent call last)",
      "\u001b[1;32m<ipython-input-63-b67bdaf44d76>\u001b[0m in \u001b[0;36m<module>\u001b[1;34m()\u001b[0m\n\u001b[1;32m----> 1\u001b[1;33m \u001b[0mrecurse\u001b[0m\u001b[1;33m(\u001b[0m\u001b[1;33m)\u001b[0m\u001b[1;33m\u001b[0m\u001b[0m\n\u001b[0m",
      "\u001b[1;32m<ipython-input-62-65db32425da2>\u001b[0m in \u001b[0;36mrecurse\u001b[1;34m()\u001b[0m\n\u001b[0;32m      1\u001b[0m \u001b[1;32mdef\u001b[0m \u001b[0mrecurse\u001b[0m\u001b[1;33m(\u001b[0m\u001b[1;33m)\u001b[0m\u001b[1;33m:\u001b[0m\u001b[1;33m\u001b[0m\u001b[0m\n\u001b[1;32m----> 2\u001b[1;33m     \u001b[0mrecurse\u001b[0m\u001b[1;33m(\u001b[0m\u001b[1;33m)\u001b[0m\u001b[1;33m\u001b[0m\u001b[0m\n\u001b[0m",
      "... last 1 frames repeated, from the frame below ...\n",
      "\u001b[1;32m<ipython-input-62-65db32425da2>\u001b[0m in \u001b[0;36mrecurse\u001b[1;34m()\u001b[0m\n\u001b[0;32m      1\u001b[0m \u001b[1;32mdef\u001b[0m \u001b[0mrecurse\u001b[0m\u001b[1;33m(\u001b[0m\u001b[1;33m)\u001b[0m\u001b[1;33m:\u001b[0m\u001b[1;33m\u001b[0m\u001b[0m\n\u001b[1;32m----> 2\u001b[1;33m     \u001b[0mrecurse\u001b[0m\u001b[1;33m(\u001b[0m\u001b[1;33m)\u001b[0m\u001b[1;33m\u001b[0m\u001b[0m\n\u001b[0m",
      "\u001b[1;31mRecursionError\u001b[0m: maximum recursion depth exceeded"
     ]
    }
   ],
   "source": [
    "recurse()"
   ]
  },
  {
   "cell_type": "markdown",
   "metadata": {},
   "source": [
    "此回溯比我们在前面章节看到的长一些。当错误出现的时候，在堆栈上有 1000 个递栈帧！\n",
    "\n",
    "如果你不小心遇到了无限递归，检查你的函数，确保基础情形没有继续调用递归。同时如果确实有基础情形，请检查基础情形是不是能够出现这种情形。"
   ]
  },
  {
   "cell_type": "markdown",
   "metadata": {},
   "source": [
    "## 5.11 键盘输入"
   ]
  },
  {
   "cell_type": "markdown",
   "metadata": {},
   "source": [
    "到目前为止，我们所写的程序都不接受来自用户的输入。每次它们都只是做相同的事情。"
   ]
  },
  {
   "cell_type": "markdown",
   "metadata": {},
   "source": [
    "Python 提供了一个内建函数 `input` ，可以暂停程序运行，并等待用户输入。当用户按下回车键 (Return or Enter)，程序恢复执行，`input` 以字符串形式返回用户键入的内容。在Python 2 中，这个函数的名字叫 `raw_input`。"
   ]
  },
  {
   "cell_type": "code",
   "execution_count": 68,
   "metadata": {},
   "outputs": [
    {
     "name": "stdout",
     "output_type": "stream",
     "text": [
      "What are you waiting for?\n"
     ]
    }
   ],
   "source": [
    "text = input()"
   ]
  },
  {
   "cell_type": "code",
   "execution_count": 69,
   "metadata": {},
   "outputs": [
    {
     "data": {
      "text/plain": [
       "'What are you waiting for?'"
      ]
     },
     "execution_count": 69,
     "metadata": {},
     "output_type": "execute_result"
    }
   ],
   "source": [
    "text"
   ]
  },
  {
   "cell_type": "markdown",
   "metadata": {},
   "source": [
    "在从用户那儿获得输入之前，打印一个提示告诉用户输入什么是个好办法。`input`接受提示语作为实参。"
   ]
  },
  {
   "cell_type": "code",
   "execution_count": 71,
   "metadata": {},
   "outputs": [
    {
     "name": "stdout",
     "output_type": "stream",
     "text": [
      "What...is your name?\n",
      "Arthur, King of the Britons!\n"
     ]
    }
   ],
   "source": [
    "name = input('What...is your name?\\n')"
   ]
  },
  {
   "cell_type": "code",
   "execution_count": 72,
   "metadata": {},
   "outputs": [
    {
     "data": {
      "text/plain": [
       "'Arthur, King of the Britons!'"
      ]
     },
     "execution_count": 72,
     "metadata": {},
     "output_type": "execute_result"
    }
   ],
   "source": [
    "name"
   ]
  },
  {
   "cell_type": "markdown",
   "metadata": {},
   "source": [
    "提示语最后的 `\\n` 表示一个*新行* (newline) ，它是一个特别的字符，会造成换行。这也是用户的输入出现在提示语下面的原因。\n",
    "\n",
    "如果你期望用户键入一个整型数，那么你可以试着将返回值转化为 `int`："
   ]
  },
  {
   "cell_type": "code",
   "execution_count": 73,
   "metadata": {},
   "outputs": [],
   "source": [
    "prompt = 'What...is the airspeed velocity of an unladen swallow?\\n'"
   ]
  },
  {
   "cell_type": "code",
   "execution_count": 74,
   "metadata": {},
   "outputs": [
    {
     "name": "stdout",
     "output_type": "stream",
     "text": [
      "What...is the airspeed velocity of an unladen swallow?\n",
      "42\n"
     ]
    }
   ],
   "source": [
    "speed = input(prompt)"
   ]
  },
  {
   "cell_type": "code",
   "execution_count": 75,
   "metadata": {},
   "outputs": [
    {
     "data": {
      "text/plain": [
       "42"
      ]
     },
     "execution_count": 75,
     "metadata": {},
     "output_type": "execute_result"
    }
   ],
   "source": [
    "int(speed)"
   ]
  },
  {
   "cell_type": "markdown",
   "metadata": {},
   "source": [
    "但是，如果用户输入不是数字构成的字符串，你会获得一个错误："
   ]
  },
  {
   "cell_type": "code",
   "execution_count": 77,
   "metadata": {},
   "outputs": [
    {
     "name": "stdout",
     "output_type": "stream",
     "text": [
      "What...is the airspeed velocity of an unladen swallow?\n",
      "What do you mean, an African or a European swallow?\n"
     ]
    }
   ],
   "source": [
    "speed = input(prompt)"
   ]
  },
  {
   "cell_type": "code",
   "execution_count": 78,
   "metadata": {},
   "outputs": [
    {
     "ename": "NameError",
     "evalue": "name 'spped' is not defined",
     "output_type": "error",
     "traceback": [
      "\u001b[1;31m---------------------------------------------------------------------------\u001b[0m",
      "\u001b[1;31mNameError\u001b[0m                                 Traceback (most recent call last)",
      "\u001b[1;32m<ipython-input-78-84492979526e>\u001b[0m in \u001b[0;36m<module>\u001b[1;34m()\u001b[0m\n\u001b[1;32m----> 1\u001b[1;33m \u001b[0mint\u001b[0m\u001b[1;33m(\u001b[0m\u001b[0mspped\u001b[0m\u001b[1;33m)\u001b[0m\u001b[1;33m\u001b[0m\u001b[0m\n\u001b[0m",
      "\u001b[1;31mNameError\u001b[0m: name 'spped' is not defined"
     ]
    }
   ],
   "source": [
    "int(spped)"
   ]
  },
  {
   "cell_type": "markdown",
   "metadata": {},
   "source": [
    "## 5.12 调试"
   ]
  },
  {
   "cell_type": "markdown",
   "metadata": {},
   "source": [
    "当出现语法错误和运行时错误的时候，错误信息中会包含了很多的信息，但是信息量有可能太大。通常，最有用的部分是：\n",
    "- 是哪类错误，以及\n",
    "- 在哪儿出现。\n",
    "\n",
    "语法错误通常很容易被找到，但也有一些需要注意的地方。空白分隔符错误很棘手，因为空格和制表符是不可见的，而且我们习惯于忽略它们。"
   ]
  },
  {
   "cell_type": "code",
   "execution_count": 79,
   "metadata": {},
   "outputs": [
    {
     "ename": "IndentationError",
     "evalue": "unexpected indent (<ipython-input-79-33618411f379>, line 2)",
     "output_type": "error",
     "traceback": [
      "\u001b[1;36m  File \u001b[1;32m\"<ipython-input-79-33618411f379>\"\u001b[1;36m, line \u001b[1;32m2\u001b[0m\n\u001b[1;33m    y = 6\u001b[0m\n\u001b[1;37m    ^\u001b[0m\n\u001b[1;31mIndentationError\u001b[0m\u001b[1;31m:\u001b[0m unexpected indent\n"
     ]
    }
   ],
   "source": [
    "x = 5\n",
    " y = 6"
   ]
  },
  {
   "cell_type": "markdown",
   "metadata": {},
   "source": [
    "在这个例子中，问题在于第二行缩进了一个空格。但是错误信息指向 `y`，这是个误导。通常，错误信息指向发现错误的地方，但是实际的错误可能发生在代码中更早的地方有时在前一行。\n",
    "\n",
    "运行时错误也同样存在这个问题。假设你正试图计算分贝信噪比。公式是 $SNRdb =10 log_{10}(P_{signal}/P_{noise})$ 。在 Python 中，你可能会写出这样的代码："
   ]
  },
  {
   "cell_type": "code",
   "execution_count": 81,
   "metadata": {},
   "outputs": [
    {
     "ename": "ValueError",
     "evalue": "math domain error",
     "output_type": "error",
     "traceback": [
      "\u001b[1;31m---------------------------------------------------------------------------\u001b[0m",
      "\u001b[1;31mValueError\u001b[0m                                Traceback (most recent call last)",
      "\u001b[1;32m<ipython-input-81-b7de43b79c71>\u001b[0m in \u001b[0;36m<module>\u001b[1;34m()\u001b[0m\n\u001b[0;32m      3\u001b[0m \u001b[0mnoise_power\u001b[0m \u001b[1;33m=\u001b[0m \u001b[1;36m10\u001b[0m\u001b[1;33m\u001b[0m\u001b[0m\n\u001b[0;32m      4\u001b[0m \u001b[0mratio\u001b[0m \u001b[1;33m=\u001b[0m \u001b[0msignal_power\u001b[0m \u001b[1;33m//\u001b[0m \u001b[0mnoise_power\u001b[0m\u001b[1;33m\u001b[0m\u001b[0m\n\u001b[1;32m----> 5\u001b[1;33m \u001b[0mdecibels\u001b[0m \u001b[1;33m=\u001b[0m \u001b[1;36m10\u001b[0m \u001b[1;33m*\u001b[0m \u001b[0mmath\u001b[0m\u001b[1;33m.\u001b[0m\u001b[0mlog10\u001b[0m\u001b[1;33m(\u001b[0m\u001b[0mratio\u001b[0m\u001b[1;33m)\u001b[0m\u001b[1;33m\u001b[0m\u001b[0m\n\u001b[0m\u001b[0;32m      6\u001b[0m \u001b[0mprint\u001b[0m\u001b[1;33m(\u001b[0m\u001b[0mdecibels\u001b[0m\u001b[1;33m)\u001b[0m\u001b[1;33m\u001b[0m\u001b[0m\n",
      "\u001b[1;31mValueError\u001b[0m: math domain error"
     ]
    }
   ],
   "source": [
    "import math\n",
    "signal_power = 9\n",
    "noise_power = 10\n",
    "ratio = signal_power // noise_power\n",
    "decibels = 10 * math.log10(ratio)\n",
    "print(decibels)"
   ]
  },
  {
   "cell_type": "markdown",
   "metadata": {},
   "source": [
    "但是，当你运行它的时候，你却获得一个异常。\n",
    "\n",
    "该错误信息指向第 5 行，但是那一行没什么错误。为了找到真正的错误，打印 `ratio` 的值也许会有用，结果发现它实际上是 0。那么问题是在第 4 行，使用了地板除而不是浮点数除法。\n",
    "\n",
    "你需要花些时间仔细阅读错误信息，但不要轻易地相信错误信息的提示都是准确的。"
   ]
  },
  {
   "cell_type": "markdown",
   "metadata": {},
   "source": [
    "## 5.13 术语表"
   ]
  },
  {
   "cell_type": "markdown",
   "metadata": {},
   "source": [
    "**地板除法 (floor division):** 一个操作符，用 `//` 表示，表示对两个数做除法同时向 0 取整。\n",
    "\n",
    "**求余运算符 (modulus operator):** 一个运算符，用百分号 `%` 表示，返回两个数相除的余数。\n",
    "\n",
    "**布尔表达式 (boolean expression): **一个值要么为真要么为假的表达式。\n",
    "\n",
    "**关系运算符 (relatiional operator):** 对其运算符进行比较的运算符：`==`，`!=`，`>`，`<`，`>=`，`<=`。\n",
    "\n",
    "**逻辑运算符 (logical operator): **将布尔表达式组合在一起的运算符: `and`，`or`，和 `not`。\n",
    "\n",
    "**条件语句 (conditional statement):** 一段根据某个条件决定程序执行流程的语句。\n",
    "\n",
    "**条件 (condition): **决定哪个分支会被执行的布尔表达式。\n",
    "\n",
    "**复合语句 (compound statement): **由语句头和语句体组成的语句。语句头以: 结尾，语句体相对语句头缩进。\n",
    "\n",
    "**分支 (branch):** 条件语句中的选择性语句序列。\n",
    "\n",
    "**链式条件 (chained conditional):** 由一系列替代分支组成的条件语句。\n",
    "\n",
    "**嵌套条件 (nested conditional):** 出现另一个条件语句某个分支中的条件语句\n",
    "\n",
    "**返回语句 (return statement)：** 结束函数执行并且将结果返回给调用者的语句。\n",
    "\n",
    "**递归 (recursion):** 调用正在执行的函数本身的过程。\n",
    "\n",
    "**基本情形 (base case):** 在递归函数中，不进行递归调用的条件分支。\n",
    "\n",
    "**无限递归 (infinite recursion):** 没有基本情形或者无法出现基本情形的递归函数。最终无限递归会导致运行时错"
   ]
  },
  {
   "cell_type": "markdown",
   "metadata": {},
   "source": [
    "## 5.14 练习"
   ]
  },
  {
   "cell_type": "markdown",
   "metadata": {},
   "source": [
    "**Exercise 5.1.** `time` 模块提供了一个可以返回当前格林威治标准时间的函数，名字也是time。这里的格林威治标准时间用纪元 (“the epoch”) 以来的秒数表示，纪元是一个任意的参考点。在 Unix 系统中，纪元是 1970 年 1 月 1 日。"
   ]
  },
  {
   "cell_type": "code",
   "execution_count": 85,
   "metadata": {},
   "outputs": [
    {
     "data": {
      "text/plain": [
       "1555687934.863715"
      ]
     },
     "execution_count": 85,
     "metadata": {},
     "output_type": "execute_result"
    }
   ],
   "source": [
    "import time\n",
    "time.time()"
   ]
  },
  {
   "cell_type": "markdown",
   "metadata": {},
   "source": [
    "请写一个脚本读取当前时间，并且将其转换为纪元以来经过了多少天、小时、分钟和秒。"
   ]
  },
  {
   "cell_type": "code",
   "execution_count": 126,
   "metadata": {},
   "outputs": [
    {
     "name": "stdout",
     "output_type": "stream",
     "text": [
      "18005day 15hour 54minute 43second\n"
     ]
    }
   ],
   "source": [
    "import time\n",
    "t = time.time()\n",
    "day = t // (24*60*60)\n",
    "hour = (t - day*24*60*60) // (60 * 60)\n",
    "minute = (t - day*24*60*60 - hour*60*60) // 60\n",
    "second = (t - day*24*60*60 - hour*60*60 - minute*60) % 60\n",
    "\n",
    "day, hour, minute, second = int(day), int(hour), int(minute), int(second)\n",
    "\n",
    "print(\"{}day {}hour {}minute {}second\".format(day, hour, minute, second))"
   ]
  },
  {
   "cell_type": "markdown",
   "metadata": {},
   "source": [
    "**Exercise 5.2**. 费马大定理 (Fermat’s Last Theorem) 称，没有任何整型数 a、b 和 c 能够使：\n",
    "$$a^n+b^n=c^n$$\n",
    "对于任何大于2的n成立。\n",
    "\n",
    "1. 写一个名为`check_fermat` 的函数，接受四个形参 — `a`，`b`，`c` 以及`n` — 检查费马大定理是否成立。如果n 大于 2 且等式\n",
    "$$a^n+b^n=c^n$$\n",
    "成立，程序应输出 “Holy smokes, Fermat was wrong!”。否则程序应输出 “No,that doesn’t work.”。\n",
    "\n",
    "2. 写一个函数提示用户输入`a`，`b`，`c`以及`n` 的值，将它们转换成整型数，然后使用`check_fermat` 检查他们是否会违反了费马大定理。"
   ]
  },
  {
   "cell_type": "code",
   "execution_count": 148,
   "metadata": {},
   "outputs": [
    {
     "name": "stdout",
     "output_type": "stream",
     "text": [
      "Please input three integer a:1\n",
      "Please input three integer b:2\n",
      "Please input three integer c:3\n",
      "Please input three integer n:4\n",
      "No, that doesn't work.\n"
     ]
    }
   ],
   "source": [
    "def check_fermat(a,b,c,n):\n",
    "    if n>=2 and a^n + b^n == c^n:\n",
    "        print(\"Holy smokes, Fermat was wrong!\")\n",
    "    else:\n",
    "        print(\"No, that doesn't work.\")\n",
    "        \n",
    "def get_input():\n",
    "    data = \"Please input three integer a:\"\n",
    "    a = int(input(data))\n",
    "\n",
    "    data = \"Please input three integer b:\"\n",
    "    b = int(input(data))\n",
    "\n",
    "    data = \"Please input three integer c:\"\n",
    "    c = int(input(data))\n",
    "\n",
    "    data = \"Please input three integer n:\"\n",
    "    n = int(input(data))\n",
    "\n",
    "    check_fermat(a,b,c,n)\n",
    "    \n",
    "get_input()"
   ]
  },
  {
   "cell_type": "markdown",
   "metadata": {},
   "source": [
    "**Exercise 5.3.** 如果你有三根棍子，你有可能将它们组成三角形，也可能不行。比如，如果一根棍子是 12 英寸长，其它两根都是 1 英寸长，显然你不可能让两根短的在中间接合。对于任意三个长度，有一个简单的测试能验证它们能否组成三角形：如果三个长度中的任意一个超过了其它二者之和，就不能组成三角形。否则，可以组成。（如果两个长度之和等于第三个，它们就组成所谓 “等边” 三角形。）\n",
    "\n",
    "1. 写一个名为is_triangle 的函数，其接受三个整数作为形参，能够根据给定的三个长度的棍子能否构成三角形来打印 “Yes” 或 “No”。\n",
    "\n",
    "2. 写一个函数，提示用户输入三根棍子的长度，将它们转换成整型数，然后使用is_triangle 检查给定长度的棍子能否构成三角形。"
   ]
  },
  {
   "cell_type": "code",
   "execution_count": 4,
   "metadata": {},
   "outputs": [
    {
     "name": "stdout",
     "output_type": "stream",
     "text": [
      "Please input the length of first side:3\n",
      "Please input the length of second side:3\n",
      "Please input the length of third side:3\n",
      "Yes\n"
     ]
    }
   ],
   "source": [
    "def is_triangle(a, b, c):\n",
    "    if a > (b+c) or b > (a+c) or c > (a+b):\n",
    "        print(\"No\")\n",
    "    else:\n",
    "        print(\"Yes\")\n",
    "\n",
    "def get_input():\n",
    "    data = \"Please input the length of first side:\"\n",
    "    a = int(input(data))\n",
    "\n",
    "    data = \"Please input the length of second side:\"\n",
    "    b = int(input(data))\n",
    "\n",
    "    data = \"Please input the length of third side:\"\n",
    "    c = int(input(data))\n",
    "\n",
    "    is_triangle(a,b,c)\n",
    "    \n",
    "get_input()"
   ]
  },
  {
   "cell_type": "markdown",
   "metadata": {},
   "source": [
    "**Exercise 5.4.** 下面程序的输出是什么？画出展示程序每次打印输出时的堆栈图。"
   ]
  },
  {
   "cell_type": "code",
   "execution_count": 97,
   "metadata": {},
   "outputs": [
    {
     "name": "stdout",
     "output_type": "stream",
     "text": [
      "6\n"
     ]
    }
   ],
   "source": [
    "def recurse(n, s):\n",
    "    #print(n, s)\n",
    "    if n == 0:\n",
    "        print(s)\n",
    "    else:\n",
    "        recurse(n-1, n+s)\n",
    "        \n",
    "recurse(3, 0)"
   ]
  },
  {
   "cell_type": "markdown",
   "metadata": {},
   "source": [
    "1. 如果你这样调用函数：recurse(−1,0) ，会有什么结果？"
   ]
  },
  {
   "cell_type": "code",
   "execution_count": 98,
   "metadata": {},
   "outputs": [
    {
     "ename": "RecursionError",
     "evalue": "maximum recursion depth exceeded in comparison",
     "output_type": "error",
     "traceback": [
      "\u001b[1;31m---------------------------------------------------------------------------\u001b[0m",
      "\u001b[1;31mRecursionError\u001b[0m                            Traceback (most recent call last)",
      "\u001b[1;32m<ipython-input-98-6da4f5310c53>\u001b[0m in \u001b[0;36m<module>\u001b[1;34m()\u001b[0m\n\u001b[1;32m----> 1\u001b[1;33m \u001b[0mrecurse\u001b[0m\u001b[1;33m(\u001b[0m\u001b[1;33m-\u001b[0m\u001b[1;36m1\u001b[0m\u001b[1;33m,\u001b[0m \u001b[1;36m0\u001b[0m\u001b[1;33m)\u001b[0m\u001b[1;33m\u001b[0m\u001b[0m\n\u001b[0m",
      "\u001b[1;32m<ipython-input-97-b6de5260a374>\u001b[0m in \u001b[0;36mrecurse\u001b[1;34m(n, s)\u001b[0m\n\u001b[0;32m      4\u001b[0m         \u001b[0mprint\u001b[0m\u001b[1;33m(\u001b[0m\u001b[0ms\u001b[0m\u001b[1;33m)\u001b[0m\u001b[1;33m\u001b[0m\u001b[0m\n\u001b[0;32m      5\u001b[0m     \u001b[1;32melse\u001b[0m\u001b[1;33m:\u001b[0m\u001b[1;33m\u001b[0m\u001b[0m\n\u001b[1;32m----> 6\u001b[1;33m         \u001b[0mrecurse\u001b[0m\u001b[1;33m(\u001b[0m\u001b[0mn\u001b[0m\u001b[1;33m-\u001b[0m\u001b[1;36m1\u001b[0m\u001b[1;33m,\u001b[0m \u001b[0mn\u001b[0m\u001b[1;33m+\u001b[0m\u001b[0ms\u001b[0m\u001b[1;33m)\u001b[0m\u001b[1;33m\u001b[0m\u001b[0m\n\u001b[0m\u001b[0;32m      7\u001b[0m \u001b[1;33m\u001b[0m\u001b[0m\n\u001b[0;32m      8\u001b[0m \u001b[0mrecurse\u001b[0m\u001b[1;33m(\u001b[0m\u001b[1;36m3\u001b[0m\u001b[1;33m,\u001b[0m \u001b[1;36m0\u001b[0m\u001b[1;33m)\u001b[0m\u001b[1;33m\u001b[0m\u001b[0m\n",
      "... last 1 frames repeated, from the frame below ...\n",
      "\u001b[1;32m<ipython-input-97-b6de5260a374>\u001b[0m in \u001b[0;36mrecurse\u001b[1;34m(n, s)\u001b[0m\n\u001b[0;32m      4\u001b[0m         \u001b[0mprint\u001b[0m\u001b[1;33m(\u001b[0m\u001b[0ms\u001b[0m\u001b[1;33m)\u001b[0m\u001b[1;33m\u001b[0m\u001b[0m\n\u001b[0;32m      5\u001b[0m     \u001b[1;32melse\u001b[0m\u001b[1;33m:\u001b[0m\u001b[1;33m\u001b[0m\u001b[0m\n\u001b[1;32m----> 6\u001b[1;33m         \u001b[0mrecurse\u001b[0m\u001b[1;33m(\u001b[0m\u001b[0mn\u001b[0m\u001b[1;33m-\u001b[0m\u001b[1;36m1\u001b[0m\u001b[1;33m,\u001b[0m \u001b[0mn\u001b[0m\u001b[1;33m+\u001b[0m\u001b[0ms\u001b[0m\u001b[1;33m)\u001b[0m\u001b[1;33m\u001b[0m\u001b[0m\n\u001b[0m\u001b[0;32m      7\u001b[0m \u001b[1;33m\u001b[0m\u001b[0m\n\u001b[0;32m      8\u001b[0m \u001b[0mrecurse\u001b[0m\u001b[1;33m(\u001b[0m\u001b[1;36m3\u001b[0m\u001b[1;33m,\u001b[0m \u001b[1;36m0\u001b[0m\u001b[1;33m)\u001b[0m\u001b[1;33m\u001b[0m\u001b[0m\n",
      "\u001b[1;31mRecursionError\u001b[0m: maximum recursion depth exceeded in comparison"
     ]
    }
   ],
   "source": [
    "recurse(-1, 0)"
   ]
  },
  {
   "cell_type": "markdown",
   "metadata": {},
   "source": [
    "2. 请写一个文档字符串，解释调用该函数时需要了解的全部信息（仅此而已）。"
   ]
  },
  {
   "cell_type": "code",
   "execution_count": 110,
   "metadata": {},
   "outputs": [],
   "source": [
    "def recurse(n, s):\n",
    "    \"\"\"\n",
    "        This function need two integer for input like:\n",
    "            {n = 3, s = 2}\n",
    "        and it will output:\n",
    "            the sum of {s+n, s+n-1, ... s+1}\n",
    "    \"\"\"\n",
    "    if n == 0:\n",
    "        print(s)\n",
    "    else:\n",
    "        recurse(n-1, n+s)"
   ]
  },
  {
   "cell_type": "markdown",
   "metadata": {},
   "source": [
    "**Exercise 5.5.** 阅读如下的函数，看看你能否看懂它是做什么的。然后运行它（见第四章的例子）。"
   ]
  },
  {
   "cell_type": "code",
   "execution_count": 30,
   "metadata": {},
   "outputs": [
    {
     "name": "stdout",
     "output_type": "stream",
     "text": [
      "Overwriting script.py\n"
     ]
    }
   ],
   "source": [
    "%%writefile script.py\n",
    "import turtle\n",
    "\n",
    "def draw(t, length, n):\n",
    "    if n == 0:\n",
    "        return\n",
    "    angle = 50\n",
    "    t.fd(length * n)\n",
    "    t.lt(angle)\n",
    "    draw(t, length, n-1)\n",
    "    t.rt(2*angle)\n",
    "    draw(t, length, n-1)\n",
    "    t.lt(angle)\n",
    "    t.bk(length*n)\n",
    "\n",
    "bob = turtle.Turtle()\n",
    "draw(bob, 30, 3)\n",
    "turtle.mainloop()"
   ]
  },
  {
   "cell_type": "code",
   "execution_count": 31,
   "metadata": {},
   "outputs": [],
   "source": [
    "!python script.py"
   ]
  },
  {
   "attachments": {
    "image.png": {
     "image/png": "[encoded data removed]"
    }
   },
   "cell_type": "markdown",
   "metadata": {},
   "source": [
    "**Exercise 5.6.** 科赫曲线 (Koch Curve) 是一个看起来类似图 5.2的不规则碎片几何体(fractal)。要画一个长度为 x 的科赫曲线，你只需要：\n",
    "![image.png](attachment:image.png)\n",
    "\n",
    "1. 画一个长度为 x/3 的科赫曲线。\n",
    "\n",
    "2. 左转 60 度。\n",
    "\n",
    "3. 画一个长度为 x/3 的科赫曲线。\n",
    "\n",
    "4. 右转 120 度。\n",
    "\n",
    "5. 画一个长度为 x/3 的科赫曲线。\n",
    "\n",
    "6. 左转 60 度。\n",
    "\n",
    "7. 画一个长度为 x/3 的科赫曲线。\n",
    "\n",
    "例外情况是 x 小于 3 的情形：此时，你只需要画一道长度为 x 的直线。\n",
    "\n",
    "1. 写一个名为`koch` 的函数，接受一个海龟和一个长度作为形参，然后使用海龟画一条给定长度的科赫曲线。\n",
    "\n",
    "2. 写一个名为`snowflake` 的函数，画出三条科赫曲线，构成雪花的轮廓。\n",
    "\n",
    "3. 科赫曲线能够以多种方式泛化。点击此处查看例子，并实现你最喜欢的那种方式。"
   ]
  },
  {
   "cell_type": "code",
   "execution_count": 58,
   "metadata": {},
   "outputs": [
    {
     "name": "stdout",
     "output_type": "stream",
     "text": [
      "Overwriting script.py\n"
     ]
    }
   ],
   "source": [
    "%%writefile script.py\n",
    "import turtle\n",
    "\n",
    "# def koch(t, length):\n",
    "#     if length < 3:\n",
    "#         t.fd(length)\n",
    "#         return\n",
    "#     koch(t, length/3)\n",
    "#     t.lt(60)\n",
    "#     koch(t, length/3)\n",
    "#     t.rt(60)\n",
    "#     koch(t, length/3)\n",
    "#     t.lt(60)\n",
    "#     koch(t, length/3)\n",
    "    \n",
    "def koch(t, n):\n",
    "    \"\"\"Draws a koch curve with length n.\"\"\"\n",
    "    if n<3:\n",
    "        t.fd(n)\n",
    "        return\n",
    "    m = n/3.0\n",
    "    koch(t, m)\n",
    "    t.lt(60)\n",
    "    koch(t, m)\n",
    "    t.rt(60)\n",
    "    koch(t, m)\n",
    "    t.lt(60)\n",
    "    koch(t, m)\n",
    "\n",
    "def snowflake(t, n):\n",
    "    for i in range(3):\n",
    "        koch(t, n)\n",
    "        t.rt(120)\n",
    "\n",
    "bob = turtle.Turtle()\n",
    "snowflake(bob, 300)\n",
    "\n",
    "world.mainloop()"
   ]
  },
  {
   "cell_type": "code",
   "execution_count": null,
   "metadata": {},
   "outputs": [],
   "source": [
    "!python script.py"
   ]
  }
 ],
 "metadata": {
  "kernelspec": {
   "display_name": "Python 3",
   "language": "python",
   "name": "python3"
  }
 },
 "nbformat": 4,
 "nbformat_minor": 2
}
